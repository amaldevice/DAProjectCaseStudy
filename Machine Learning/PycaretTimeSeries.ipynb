{
 "cells": [
  {
   "cell_type": "code",
   "execution_count": 1,
   "metadata": {},
   "outputs": [],
   "source": [
    "import pandas as pd\n",
    "import numpy as np\n",
    "import matplotlib.pyplot as plt\n",
    "import seaborn as sns"
   ]
  },
  {
   "cell_type": "code",
   "execution_count": 2,
   "metadata": {},
   "outputs": [
    {
     "data": {
      "text/html": [
       "<div>\n",
       "<style scoped>\n",
       "    .dataframe tbody tr th:only-of-type {\n",
       "        vertical-align: middle;\n",
       "    }\n",
       "\n",
       "    .dataframe tbody tr th {\n",
       "        vertical-align: top;\n",
       "    }\n",
       "\n",
       "    .dataframe thead th {\n",
       "        text-align: right;\n",
       "    }\n",
       "</style>\n",
       "<table border=\"1\" class=\"dataframe\">\n",
       "  <thead>\n",
       "    <tr style=\"text-align: right;\">\n",
       "      <th></th>\n",
       "      <th>Date</th>\n",
       "      <th>Open</th>\n",
       "      <th>High</th>\n",
       "      <th>Low</th>\n",
       "      <th>Close</th>\n",
       "      <th>Adj Close</th>\n",
       "      <th>Volume</th>\n",
       "    </tr>\n",
       "  </thead>\n",
       "  <tbody>\n",
       "    <tr>\n",
       "      <th>0</th>\n",
       "      <td>2004-08-19</td>\n",
       "      <td>50.050049</td>\n",
       "      <td>52.082081</td>\n",
       "      <td>48.028027</td>\n",
       "      <td>50.220219</td>\n",
       "      <td>50.220219</td>\n",
       "      <td>44659096</td>\n",
       "    </tr>\n",
       "    <tr>\n",
       "      <th>1</th>\n",
       "      <td>2004-08-20</td>\n",
       "      <td>50.555557</td>\n",
       "      <td>54.594597</td>\n",
       "      <td>50.300301</td>\n",
       "      <td>54.209209</td>\n",
       "      <td>54.209209</td>\n",
       "      <td>22834343</td>\n",
       "    </tr>\n",
       "    <tr>\n",
       "      <th>2</th>\n",
       "      <td>2004-08-23</td>\n",
       "      <td>55.430431</td>\n",
       "      <td>56.796799</td>\n",
       "      <td>54.579578</td>\n",
       "      <td>54.754753</td>\n",
       "      <td>54.754753</td>\n",
       "      <td>18256126</td>\n",
       "    </tr>\n",
       "    <tr>\n",
       "      <th>3</th>\n",
       "      <td>2004-08-24</td>\n",
       "      <td>55.675674</td>\n",
       "      <td>55.855858</td>\n",
       "      <td>51.836838</td>\n",
       "      <td>52.487488</td>\n",
       "      <td>52.487488</td>\n",
       "      <td>15247337</td>\n",
       "    </tr>\n",
       "    <tr>\n",
       "      <th>4</th>\n",
       "      <td>2004-08-25</td>\n",
       "      <td>52.532532</td>\n",
       "      <td>54.054054</td>\n",
       "      <td>51.991993</td>\n",
       "      <td>53.053055</td>\n",
       "      <td>53.053055</td>\n",
       "      <td>9188602</td>\n",
       "    </tr>\n",
       "    <tr>\n",
       "      <th>...</th>\n",
       "      <td>...</td>\n",
       "      <td>...</td>\n",
       "      <td>...</td>\n",
       "      <td>...</td>\n",
       "      <td>...</td>\n",
       "      <td>...</td>\n",
       "      <td>...</td>\n",
       "    </tr>\n",
       "    <tr>\n",
       "      <th>4426</th>\n",
       "      <td>2022-03-18</td>\n",
       "      <td>2668.489990</td>\n",
       "      <td>2724.879883</td>\n",
       "      <td>2645.169922</td>\n",
       "      <td>2722.510010</td>\n",
       "      <td>2722.510010</td>\n",
       "      <td>2223100</td>\n",
       "    </tr>\n",
       "    <tr>\n",
       "      <th>4427</th>\n",
       "      <td>2022-03-21</td>\n",
       "      <td>2723.270020</td>\n",
       "      <td>2741.000000</td>\n",
       "      <td>2681.850098</td>\n",
       "      <td>2722.030029</td>\n",
       "      <td>2722.030029</td>\n",
       "      <td>1341600</td>\n",
       "    </tr>\n",
       "    <tr>\n",
       "      <th>4428</th>\n",
       "      <td>2022-03-22</td>\n",
       "      <td>2722.030029</td>\n",
       "      <td>2821.000000</td>\n",
       "      <td>2722.030029</td>\n",
       "      <td>2797.360107</td>\n",
       "      <td>2797.360107</td>\n",
       "      <td>1774800</td>\n",
       "    </tr>\n",
       "    <tr>\n",
       "      <th>4429</th>\n",
       "      <td>2022-03-23</td>\n",
       "      <td>2774.050049</td>\n",
       "      <td>2791.770020</td>\n",
       "      <td>2756.699951</td>\n",
       "      <td>2765.510010</td>\n",
       "      <td>2765.510010</td>\n",
       "      <td>1257700</td>\n",
       "    </tr>\n",
       "    <tr>\n",
       "      <th>4430</th>\n",
       "      <td>2022-03-24</td>\n",
       "      <td>2784.000000</td>\n",
       "      <td>2832.379883</td>\n",
       "      <td>2755.010010</td>\n",
       "      <td>2831.439941</td>\n",
       "      <td>2831.439941</td>\n",
       "      <td>1317900</td>\n",
       "    </tr>\n",
       "  </tbody>\n",
       "</table>\n",
       "<p>4431 rows × 7 columns</p>\n",
       "</div>"
      ],
      "text/plain": [
       "            Date         Open         High          Low        Close  \\\n",
       "0     2004-08-19    50.050049    52.082081    48.028027    50.220219   \n",
       "1     2004-08-20    50.555557    54.594597    50.300301    54.209209   \n",
       "2     2004-08-23    55.430431    56.796799    54.579578    54.754753   \n",
       "3     2004-08-24    55.675674    55.855858    51.836838    52.487488   \n",
       "4     2004-08-25    52.532532    54.054054    51.991993    53.053055   \n",
       "...          ...          ...          ...          ...          ...   \n",
       "4426  2022-03-18  2668.489990  2724.879883  2645.169922  2722.510010   \n",
       "4427  2022-03-21  2723.270020  2741.000000  2681.850098  2722.030029   \n",
       "4428  2022-03-22  2722.030029  2821.000000  2722.030029  2797.360107   \n",
       "4429  2022-03-23  2774.050049  2791.770020  2756.699951  2765.510010   \n",
       "4430  2022-03-24  2784.000000  2832.379883  2755.010010  2831.439941   \n",
       "\n",
       "        Adj Close    Volume  \n",
       "0       50.220219  44659096  \n",
       "1       54.209209  22834343  \n",
       "2       54.754753  18256126  \n",
       "3       52.487488  15247337  \n",
       "4       53.053055   9188602  \n",
       "...           ...       ...  \n",
       "4426  2722.510010   2223100  \n",
       "4427  2722.030029   1341600  \n",
       "4428  2797.360107   1774800  \n",
       "4429  2765.510010   1257700  \n",
       "4430  2831.439941   1317900  \n",
       "\n",
       "[4431 rows x 7 columns]"
      ]
     },
     "execution_count": 2,
     "metadata": {},
     "output_type": "execute_result"
    }
   ],
   "source": [
    "df = pd.read_csv('dataset\\GOOGL.csv')\n",
    "df"
   ]
  },
  {
   "cell_type": "code",
   "execution_count": 3,
   "metadata": {},
   "outputs": [
    {
     "name": "stdout",
     "output_type": "stream",
     "text": [
      "<class 'pandas.core.frame.DataFrame'>\n",
      "RangeIndex: 4431 entries, 0 to 4430\n",
      "Data columns (total 7 columns):\n",
      " #   Column     Non-Null Count  Dtype  \n",
      "---  ------     --------------  -----  \n",
      " 0   Date       4431 non-null   object \n",
      " 1   Open       4431 non-null   float64\n",
      " 2   High       4431 non-null   float64\n",
      " 3   Low        4431 non-null   float64\n",
      " 4   Close      4431 non-null   float64\n",
      " 5   Adj Close  4431 non-null   float64\n",
      " 6   Volume     4431 non-null   int64  \n",
      "dtypes: float64(5), int64(1), object(1)\n",
      "memory usage: 242.4+ KB\n"
     ]
    }
   ],
   "source": [
    "df.info()"
   ]
  },
  {
   "cell_type": "code",
   "execution_count": 55,
   "metadata": {},
   "outputs": [
    {
     "name": "stdout",
     "output_type": "stream",
     "text": [
      "<class 'pandas.core.frame.DataFrame'>\n",
      "DatetimeIndex: 6427 entries, 2004-08-19 to 2022-03-24\n",
      "Freq: D\n",
      "Data columns (total 2 columns):\n",
      " #   Column  Non-Null Count  Dtype  \n",
      "---  ------  --------------  -----  \n",
      " 0   Close   6427 non-null   float64\n",
      " 1   Open    6427 non-null   float64\n",
      "dtypes: float64(2)\n",
      "memory usage: 150.6 KB\n"
     ]
    }
   ],
   "source": [
    "df['Date'] = pd.to_datetime(df['Date']) \n",
    "df = df[[\"Date\", \"Close\", \"Open\"]]\n",
    "df.set_index('Date', inplace=True)\n",
    "df = df[['Close', 'Open']].asfreq('D', method='bfill')\n",
    "df.info()"
   ]
  },
  {
   "cell_type": "code",
   "execution_count": 4,
   "metadata": {},
   "outputs": [
    {
     "name": "stdout",
     "output_type": "stream",
     "text": [
      "<class 'pandas.core.series.Series'>\n",
      "DatetimeIndex: 211 entries, 2004-08-31 to 2022-02-28\n",
      "Freq: M\n",
      "Series name: Close\n",
      "Non-Null Count  Dtype  \n",
      "--------------  -----  \n",
      "211 non-null    float64\n",
      "dtypes: float64(1)\n",
      "memory usage: 3.3 KB\n"
     ]
    }
   ],
   "source": [
    "df['Date'] = pd.to_datetime(df['Date']) \n",
    "df = df[[\"Date\", \"Close\"]]\n",
    "df.set_index('Date', inplace=True)\n",
    "df = df['Close'].asfreq('M', method='bfill')\n",
    "df.info()"
   ]
  },
  {
   "cell_type": "code",
   "execution_count": 5,
   "metadata": {},
   "outputs": [
    {
     "data": {
      "text/plain": [
       "Date\n",
       "2004-08-31      51.236237\n",
       "2004-09-30      64.864868\n",
       "2004-10-31      98.113113\n",
       "2004-11-30      91.081078\n",
       "2004-12-31      96.491493\n",
       "                 ...     \n",
       "2021-10-31    2869.939941\n",
       "2021-11-30    2837.949951\n",
       "2021-12-31    2897.040039\n",
       "2022-01-31    2706.070068\n",
       "2022-02-28    2701.139893\n",
       "Freq: M, Name: Close, Length: 211, dtype: float64"
      ]
     },
     "execution_count": 5,
     "metadata": {},
     "output_type": "execute_result"
    }
   ],
   "source": [
    "df"
   ]
  },
  {
   "cell_type": "code",
   "execution_count": 47,
   "metadata": {},
   "outputs": [
    {
     "data": {
      "text/plain": [
       "Period\n",
       "1949-01    112.0\n",
       "1949-02    118.0\n",
       "1949-03    132.0\n",
       "1949-04    129.0\n",
       "1949-05    121.0\n",
       "Freq: M, Name: Number of airline passengers, dtype: float64"
      ]
     },
     "metadata": {},
     "output_type": "display_data"
    }
   ],
   "source": [
    "# load sample dataset\n",
    "from pycaret.datasets import get_data\n",
    "data = get_data('airline')"
   ]
  },
  {
   "cell_type": "code",
   "execution_count": 49,
   "metadata": {},
   "outputs": [
    {
     "name": "stdout",
     "output_type": "stream",
     "text": [
      "<class 'pandas.core.series.Series'>\n",
      "PeriodIndex: 144 entries, 1949-01 to 1960-12\n",
      "Freq: M\n",
      "Series name: Number of airline passengers\n",
      "Non-Null Count  Dtype  \n",
      "--------------  -----  \n",
      "144 non-null    float64\n",
      "dtypes: float64(1)\n",
      "memory usage: 2.2 KB\n"
     ]
    }
   ],
   "source": [
    "data.info()"
   ]
  },
  {
   "cell_type": "code",
   "execution_count": 6,
   "metadata": {},
   "outputs": [
    {
     "data": {
      "text/html": [
       "<style type=\"text/css\">\n",
       "#T_755f1_row25_col1 {\n",
       "  background-color: lightgreen;\n",
       "}\n",
       "</style>\n",
       "<table id=\"T_755f1\">\n",
       "  <thead>\n",
       "    <tr>\n",
       "      <th class=\"blank level0\" >&nbsp;</th>\n",
       "      <th id=\"T_755f1_level0_col0\" class=\"col_heading level0 col0\" >Description</th>\n",
       "      <th id=\"T_755f1_level0_col1\" class=\"col_heading level0 col1\" >Value</th>\n",
       "    </tr>\n",
       "  </thead>\n",
       "  <tbody>\n",
       "    <tr>\n",
       "      <th id=\"T_755f1_level0_row0\" class=\"row_heading level0 row0\" >0</th>\n",
       "      <td id=\"T_755f1_row0_col0\" class=\"data row0 col0\" >session_id</td>\n",
       "      <td id=\"T_755f1_row0_col1\" class=\"data row0 col1\" >123</td>\n",
       "    </tr>\n",
       "    <tr>\n",
       "      <th id=\"T_755f1_level0_row1\" class=\"row_heading level0 row1\" >1</th>\n",
       "      <td id=\"T_755f1_row1_col0\" class=\"data row1 col0\" >Target</td>\n",
       "      <td id=\"T_755f1_row1_col1\" class=\"data row1 col1\" >Close</td>\n",
       "    </tr>\n",
       "    <tr>\n",
       "      <th id=\"T_755f1_level0_row2\" class=\"row_heading level0 row2\" >2</th>\n",
       "      <td id=\"T_755f1_row2_col0\" class=\"data row2 col0\" >Approach</td>\n",
       "      <td id=\"T_755f1_row2_col1\" class=\"data row2 col1\" >Univariate</td>\n",
       "    </tr>\n",
       "    <tr>\n",
       "      <th id=\"T_755f1_level0_row3\" class=\"row_heading level0 row3\" >3</th>\n",
       "      <td id=\"T_755f1_row3_col0\" class=\"data row3 col0\" >Exogenous Variables</td>\n",
       "      <td id=\"T_755f1_row3_col1\" class=\"data row3 col1\" >Not Present</td>\n",
       "    </tr>\n",
       "    <tr>\n",
       "      <th id=\"T_755f1_level0_row4\" class=\"row_heading level0 row4\" >4</th>\n",
       "      <td id=\"T_755f1_row4_col0\" class=\"data row4 col0\" >Original data shape</td>\n",
       "      <td id=\"T_755f1_row4_col1\" class=\"data row4 col1\" >(211, 1)</td>\n",
       "    </tr>\n",
       "    <tr>\n",
       "      <th id=\"T_755f1_level0_row5\" class=\"row_heading level0 row5\" >5</th>\n",
       "      <td id=\"T_755f1_row5_col0\" class=\"data row5 col0\" >Transformed data shape</td>\n",
       "      <td id=\"T_755f1_row5_col1\" class=\"data row5 col1\" >(211, 1)</td>\n",
       "    </tr>\n",
       "    <tr>\n",
       "      <th id=\"T_755f1_level0_row6\" class=\"row_heading level0 row6\" >6</th>\n",
       "      <td id=\"T_755f1_row6_col0\" class=\"data row6 col0\" >Transformed train set shape</td>\n",
       "      <td id=\"T_755f1_row6_col1\" class=\"data row6 col1\" >(208, 1)</td>\n",
       "    </tr>\n",
       "    <tr>\n",
       "      <th id=\"T_755f1_level0_row7\" class=\"row_heading level0 row7\" >7</th>\n",
       "      <td id=\"T_755f1_row7_col0\" class=\"data row7 col0\" >Transformed test set shape</td>\n",
       "      <td id=\"T_755f1_row7_col1\" class=\"data row7 col1\" >(3, 1)</td>\n",
       "    </tr>\n",
       "    <tr>\n",
       "      <th id=\"T_755f1_level0_row8\" class=\"row_heading level0 row8\" >8</th>\n",
       "      <td id=\"T_755f1_row8_col0\" class=\"data row8 col0\" >Rows with missing values</td>\n",
       "      <td id=\"T_755f1_row8_col1\" class=\"data row8 col1\" >0.0%</td>\n",
       "    </tr>\n",
       "    <tr>\n",
       "      <th id=\"T_755f1_level0_row9\" class=\"row_heading level0 row9\" >9</th>\n",
       "      <td id=\"T_755f1_row9_col0\" class=\"data row9 col0\" >Fold Generator</td>\n",
       "      <td id=\"T_755f1_row9_col1\" class=\"data row9 col1\" >ExpandingWindowSplitter</td>\n",
       "    </tr>\n",
       "    <tr>\n",
       "      <th id=\"T_755f1_level0_row10\" class=\"row_heading level0 row10\" >10</th>\n",
       "      <td id=\"T_755f1_row10_col0\" class=\"data row10 col0\" >Fold Number</td>\n",
       "      <td id=\"T_755f1_row10_col1\" class=\"data row10 col1\" >5</td>\n",
       "    </tr>\n",
       "    <tr>\n",
       "      <th id=\"T_755f1_level0_row11\" class=\"row_heading level0 row11\" >11</th>\n",
       "      <td id=\"T_755f1_row11_col0\" class=\"data row11 col0\" >Enforce Prediction Interval</td>\n",
       "      <td id=\"T_755f1_row11_col1\" class=\"data row11 col1\" >False</td>\n",
       "    </tr>\n",
       "    <tr>\n",
       "      <th id=\"T_755f1_level0_row12\" class=\"row_heading level0 row12\" >12</th>\n",
       "      <td id=\"T_755f1_row12_col0\" class=\"data row12 col0\" >Splits used for hyperparameters</td>\n",
       "      <td id=\"T_755f1_row12_col1\" class=\"data row12 col1\" >all</td>\n",
       "    </tr>\n",
       "    <tr>\n",
       "      <th id=\"T_755f1_level0_row13\" class=\"row_heading level0 row13\" >13</th>\n",
       "      <td id=\"T_755f1_row13_col0\" class=\"data row13 col0\" >User Defined Seasonal Period(s)</td>\n",
       "      <td id=\"T_755f1_row13_col1\" class=\"data row13 col1\" >None</td>\n",
       "    </tr>\n",
       "    <tr>\n",
       "      <th id=\"T_755f1_level0_row14\" class=\"row_heading level0 row14\" >14</th>\n",
       "      <td id=\"T_755f1_row14_col0\" class=\"data row14 col0\" >Ignore Seasonality Test</td>\n",
       "      <td id=\"T_755f1_row14_col1\" class=\"data row14 col1\" >False</td>\n",
       "    </tr>\n",
       "    <tr>\n",
       "      <th id=\"T_755f1_level0_row15\" class=\"row_heading level0 row15\" >15</th>\n",
       "      <td id=\"T_755f1_row15_col0\" class=\"data row15 col0\" >Seasonality Detection Algo</td>\n",
       "      <td id=\"T_755f1_row15_col1\" class=\"data row15 col1\" >auto</td>\n",
       "    </tr>\n",
       "    <tr>\n",
       "      <th id=\"T_755f1_level0_row16\" class=\"row_heading level0 row16\" >16</th>\n",
       "      <td id=\"T_755f1_row16_col0\" class=\"data row16 col0\" >Max Period to Consider</td>\n",
       "      <td id=\"T_755f1_row16_col1\" class=\"data row16 col1\" >60</td>\n",
       "    </tr>\n",
       "    <tr>\n",
       "      <th id=\"T_755f1_level0_row17\" class=\"row_heading level0 row17\" >17</th>\n",
       "      <td id=\"T_755f1_row17_col0\" class=\"data row17 col0\" >Seasonal Period(s) Tested</td>\n",
       "      <td id=\"T_755f1_row17_col1\" class=\"data row17 col1\" >[6, 12]</td>\n",
       "    </tr>\n",
       "    <tr>\n",
       "      <th id=\"T_755f1_level0_row18\" class=\"row_heading level0 row18\" >18</th>\n",
       "      <td id=\"T_755f1_row18_col0\" class=\"data row18 col0\" >Significant Seasonal Period(s)</td>\n",
       "      <td id=\"T_755f1_row18_col1\" class=\"data row18 col1\" >[6, 12]</td>\n",
       "    </tr>\n",
       "    <tr>\n",
       "      <th id=\"T_755f1_level0_row19\" class=\"row_heading level0 row19\" >19</th>\n",
       "      <td id=\"T_755f1_row19_col0\" class=\"data row19 col0\" >Significant Seasonal Period(s) without Harmonics</td>\n",
       "      <td id=\"T_755f1_row19_col1\" class=\"data row19 col1\" >[12]</td>\n",
       "    </tr>\n",
       "    <tr>\n",
       "      <th id=\"T_755f1_level0_row20\" class=\"row_heading level0 row20\" >20</th>\n",
       "      <td id=\"T_755f1_row20_col0\" class=\"data row20 col0\" >Remove Harmonics</td>\n",
       "      <td id=\"T_755f1_row20_col1\" class=\"data row20 col1\" >False</td>\n",
       "    </tr>\n",
       "    <tr>\n",
       "      <th id=\"T_755f1_level0_row21\" class=\"row_heading level0 row21\" >21</th>\n",
       "      <td id=\"T_755f1_row21_col0\" class=\"data row21 col0\" >Harmonics Order Method</td>\n",
       "      <td id=\"T_755f1_row21_col1\" class=\"data row21 col1\" >harmonic_max</td>\n",
       "    </tr>\n",
       "    <tr>\n",
       "      <th id=\"T_755f1_level0_row22\" class=\"row_heading level0 row22\" >22</th>\n",
       "      <td id=\"T_755f1_row22_col0\" class=\"data row22 col0\" >Num Seasonalities to Use</td>\n",
       "      <td id=\"T_755f1_row22_col1\" class=\"data row22 col1\" >1</td>\n",
       "    </tr>\n",
       "    <tr>\n",
       "      <th id=\"T_755f1_level0_row23\" class=\"row_heading level0 row23\" >23</th>\n",
       "      <td id=\"T_755f1_row23_col0\" class=\"data row23 col0\" >All Seasonalities to Use</td>\n",
       "      <td id=\"T_755f1_row23_col1\" class=\"data row23 col1\" >[6]</td>\n",
       "    </tr>\n",
       "    <tr>\n",
       "      <th id=\"T_755f1_level0_row24\" class=\"row_heading level0 row24\" >24</th>\n",
       "      <td id=\"T_755f1_row24_col0\" class=\"data row24 col0\" >Primary Seasonality</td>\n",
       "      <td id=\"T_755f1_row24_col1\" class=\"data row24 col1\" >6</td>\n",
       "    </tr>\n",
       "    <tr>\n",
       "      <th id=\"T_755f1_level0_row25\" class=\"row_heading level0 row25\" >25</th>\n",
       "      <td id=\"T_755f1_row25_col0\" class=\"data row25 col0\" >Seasonality Present</td>\n",
       "      <td id=\"T_755f1_row25_col1\" class=\"data row25 col1\" >True</td>\n",
       "    </tr>\n",
       "    <tr>\n",
       "      <th id=\"T_755f1_level0_row26\" class=\"row_heading level0 row26\" >26</th>\n",
       "      <td id=\"T_755f1_row26_col0\" class=\"data row26 col0\" >Seasonality Type</td>\n",
       "      <td id=\"T_755f1_row26_col1\" class=\"data row26 col1\" >mul</td>\n",
       "    </tr>\n",
       "    <tr>\n",
       "      <th id=\"T_755f1_level0_row27\" class=\"row_heading level0 row27\" >27</th>\n",
       "      <td id=\"T_755f1_row27_col0\" class=\"data row27 col0\" >Target Strictly Positive</td>\n",
       "      <td id=\"T_755f1_row27_col1\" class=\"data row27 col1\" >True</td>\n",
       "    </tr>\n",
       "    <tr>\n",
       "      <th id=\"T_755f1_level0_row28\" class=\"row_heading level0 row28\" >28</th>\n",
       "      <td id=\"T_755f1_row28_col0\" class=\"data row28 col0\" >Target White Noise</td>\n",
       "      <td id=\"T_755f1_row28_col1\" class=\"data row28 col1\" >No</td>\n",
       "    </tr>\n",
       "    <tr>\n",
       "      <th id=\"T_755f1_level0_row29\" class=\"row_heading level0 row29\" >29</th>\n",
       "      <td id=\"T_755f1_row29_col0\" class=\"data row29 col0\" >Recommended d</td>\n",
       "      <td id=\"T_755f1_row29_col1\" class=\"data row29 col1\" >2</td>\n",
       "    </tr>\n",
       "    <tr>\n",
       "      <th id=\"T_755f1_level0_row30\" class=\"row_heading level0 row30\" >30</th>\n",
       "      <td id=\"T_755f1_row30_col0\" class=\"data row30 col0\" >Recommended Seasonal D</td>\n",
       "      <td id=\"T_755f1_row30_col1\" class=\"data row30 col1\" >0</td>\n",
       "    </tr>\n",
       "    <tr>\n",
       "      <th id=\"T_755f1_level0_row31\" class=\"row_heading level0 row31\" >31</th>\n",
       "      <td id=\"T_755f1_row31_col0\" class=\"data row31 col0\" >Preprocess</td>\n",
       "      <td id=\"T_755f1_row31_col1\" class=\"data row31 col1\" >False</td>\n",
       "    </tr>\n",
       "    <tr>\n",
       "      <th id=\"T_755f1_level0_row32\" class=\"row_heading level0 row32\" >32</th>\n",
       "      <td id=\"T_755f1_row32_col0\" class=\"data row32 col0\" >CPU Jobs</td>\n",
       "      <td id=\"T_755f1_row32_col1\" class=\"data row32 col1\" >-1</td>\n",
       "    </tr>\n",
       "    <tr>\n",
       "      <th id=\"T_755f1_level0_row33\" class=\"row_heading level0 row33\" >33</th>\n",
       "      <td id=\"T_755f1_row33_col0\" class=\"data row33 col0\" >Use GPU</td>\n",
       "      <td id=\"T_755f1_row33_col1\" class=\"data row33 col1\" >False</td>\n",
       "    </tr>\n",
       "    <tr>\n",
       "      <th id=\"T_755f1_level0_row34\" class=\"row_heading level0 row34\" >34</th>\n",
       "      <td id=\"T_755f1_row34_col0\" class=\"data row34 col0\" >Log Experiment</td>\n",
       "      <td id=\"T_755f1_row34_col1\" class=\"data row34 col1\" >False</td>\n",
       "    </tr>\n",
       "    <tr>\n",
       "      <th id=\"T_755f1_level0_row35\" class=\"row_heading level0 row35\" >35</th>\n",
       "      <td id=\"T_755f1_row35_col0\" class=\"data row35 col0\" >Experiment Name</td>\n",
       "      <td id=\"T_755f1_row35_col1\" class=\"data row35 col1\" >ts-default-name</td>\n",
       "    </tr>\n",
       "    <tr>\n",
       "      <th id=\"T_755f1_level0_row36\" class=\"row_heading level0 row36\" >36</th>\n",
       "      <td id=\"T_755f1_row36_col0\" class=\"data row36 col0\" >USI</td>\n",
       "      <td id=\"T_755f1_row36_col1\" class=\"data row36 col1\" >8239</td>\n",
       "    </tr>\n",
       "  </tbody>\n",
       "</table>\n"
      ],
      "text/plain": [
       "<pandas.io.formats.style.Styler at 0x25fbc643eb0>"
      ]
     },
     "metadata": {},
     "output_type": "display_data"
    }
   ],
   "source": [
    "from pycaret.time_series import *\n",
    "s = setup(df,fh = 3, fold = 5, session_id = 123)"
   ]
  },
  {
   "cell_type": "code",
   "execution_count": 8,
   "metadata": {},
   "outputs": [
    {
     "data": {
      "text/html": [],
      "text/plain": [
       "<IPython.core.display.HTML object>"
      ]
     },
     "metadata": {},
     "output_type": "display_data"
    },
    {
     "data": {
      "text/html": [],
      "text/plain": [
       "<IPython.core.display.HTML object>"
      ]
     },
     "metadata": {},
     "output_type": "display_data"
    },
    {
     "data": {
      "text/html": [],
      "text/plain": [
       "<IPython.core.display.HTML object>"
      ]
     },
     "metadata": {},
     "output_type": "display_data"
    }
   ],
   "source": [
    "best = compare_models()"
   ]
  },
  {
   "cell_type": "code",
   "execution_count": 9,
   "metadata": {},
   "outputs": [
    {
     "name": "stdout",
     "output_type": "stream",
     "text": [
      "ExponentialSmoothing(seasonal='mul', sp=6, trend='add')\n"
     ]
    }
   ],
   "source": [
    "print(best)"
   ]
  },
  {
   "cell_type": "code",
   "execution_count": 11,
   "metadata": {},
   "outputs": [
    {
     "data": {
      "application/vnd.plotly.v1+json": {
       "config": {
        "plotlyServerURL": "https://plot.ly"
       },
       "data": [
        {
         "line": {
          "color": "rgb(31, 119, 180)",
          "width": 2
         },
         "marker": {
          "color": "rgb(31, 119, 180)",
          "size": 5
         },
         "mode": "lines+markers",
         "name": "Close",
         "type": "scattergl",
         "x": [
          "2004-08-01T00:00:00",
          "2004-09-01T00:00:00",
          "2004-10-01T00:00:00",
          "2004-11-01T00:00:00",
          "2004-12-01T00:00:00",
          "2005-01-01T00:00:00",
          "2005-02-01T00:00:00",
          "2005-03-01T00:00:00",
          "2005-04-01T00:00:00",
          "2005-05-01T00:00:00",
          "2005-06-01T00:00:00",
          "2005-07-01T00:00:00",
          "2005-08-01T00:00:00",
          "2005-09-01T00:00:00",
          "2005-10-01T00:00:00",
          "2005-11-01T00:00:00",
          "2005-12-01T00:00:00",
          "2006-01-01T00:00:00",
          "2006-02-01T00:00:00",
          "2006-03-01T00:00:00",
          "2006-04-01T00:00:00",
          "2006-05-01T00:00:00",
          "2006-06-01T00:00:00",
          "2006-07-01T00:00:00",
          "2006-08-01T00:00:00",
          "2006-09-01T00:00:00",
          "2006-10-01T00:00:00",
          "2006-11-01T00:00:00",
          "2006-12-01T00:00:00",
          "2007-01-01T00:00:00",
          "2007-02-01T00:00:00",
          "2007-03-01T00:00:00",
          "2007-04-01T00:00:00",
          "2007-05-01T00:00:00",
          "2007-06-01T00:00:00",
          "2007-07-01T00:00:00",
          "2007-08-01T00:00:00",
          "2007-09-01T00:00:00",
          "2007-10-01T00:00:00",
          "2007-11-01T00:00:00",
          "2007-12-01T00:00:00",
          "2008-01-01T00:00:00",
          "2008-02-01T00:00:00",
          "2008-03-01T00:00:00",
          "2008-04-01T00:00:00",
          "2008-05-01T00:00:00",
          "2008-06-01T00:00:00",
          "2008-07-01T00:00:00",
          "2008-08-01T00:00:00",
          "2008-09-01T00:00:00",
          "2008-10-01T00:00:00",
          "2008-11-01T00:00:00",
          "2008-12-01T00:00:00",
          "2009-01-01T00:00:00",
          "2009-02-01T00:00:00",
          "2009-03-01T00:00:00",
          "2009-04-01T00:00:00",
          "2009-05-01T00:00:00",
          "2009-06-01T00:00:00",
          "2009-07-01T00:00:00",
          "2009-08-01T00:00:00",
          "2009-09-01T00:00:00",
          "2009-10-01T00:00:00",
          "2009-11-01T00:00:00",
          "2009-12-01T00:00:00",
          "2010-01-01T00:00:00",
          "2010-02-01T00:00:00",
          "2010-03-01T00:00:00",
          "2010-04-01T00:00:00",
          "2010-05-01T00:00:00",
          "2010-06-01T00:00:00",
          "2010-07-01T00:00:00",
          "2010-08-01T00:00:00",
          "2010-09-01T00:00:00",
          "2010-10-01T00:00:00",
          "2010-11-01T00:00:00",
          "2010-12-01T00:00:00",
          "2011-01-01T00:00:00",
          "2011-02-01T00:00:00",
          "2011-03-01T00:00:00",
          "2011-04-01T00:00:00",
          "2011-05-01T00:00:00",
          "2011-06-01T00:00:00",
          "2011-07-01T00:00:00",
          "2011-08-01T00:00:00",
          "2011-09-01T00:00:00",
          "2011-10-01T00:00:00",
          "2011-11-01T00:00:00",
          "2011-12-01T00:00:00",
          "2012-01-01T00:00:00",
          "2012-02-01T00:00:00",
          "2012-03-01T00:00:00",
          "2012-04-01T00:00:00",
          "2012-05-01T00:00:00",
          "2012-06-01T00:00:00",
          "2012-07-01T00:00:00",
          "2012-08-01T00:00:00",
          "2012-09-01T00:00:00",
          "2012-10-01T00:00:00",
          "2012-11-01T00:00:00",
          "2012-12-01T00:00:00",
          "2013-01-01T00:00:00",
          "2013-02-01T00:00:00",
          "2013-03-01T00:00:00",
          "2013-04-01T00:00:00",
          "2013-05-01T00:00:00",
          "2013-06-01T00:00:00",
          "2013-07-01T00:00:00",
          "2013-08-01T00:00:00",
          "2013-09-01T00:00:00",
          "2013-10-01T00:00:00",
          "2013-11-01T00:00:00",
          "2013-12-01T00:00:00",
          "2014-01-01T00:00:00",
          "2014-02-01T00:00:00",
          "2014-03-01T00:00:00",
          "2014-04-01T00:00:00",
          "2014-05-01T00:00:00",
          "2014-06-01T00:00:00",
          "2014-07-01T00:00:00",
          "2014-08-01T00:00:00",
          "2014-09-01T00:00:00",
          "2014-10-01T00:00:00",
          "2014-11-01T00:00:00",
          "2014-12-01T00:00:00",
          "2015-01-01T00:00:00",
          "2015-02-01T00:00:00",
          "2015-03-01T00:00:00",
          "2015-04-01T00:00:00",
          "2015-05-01T00:00:00",
          "2015-06-01T00:00:00",
          "2015-07-01T00:00:00",
          "2015-08-01T00:00:00",
          "2015-09-01T00:00:00",
          "2015-10-01T00:00:00",
          "2015-11-01T00:00:00",
          "2015-12-01T00:00:00",
          "2016-01-01T00:00:00",
          "2016-02-01T00:00:00",
          "2016-03-01T00:00:00",
          "2016-04-01T00:00:00",
          "2016-05-01T00:00:00",
          "2016-06-01T00:00:00",
          "2016-07-01T00:00:00",
          "2016-08-01T00:00:00",
          "2016-09-01T00:00:00",
          "2016-10-01T00:00:00",
          "2016-11-01T00:00:00",
          "2016-12-01T00:00:00",
          "2017-01-01T00:00:00",
          "2017-02-01T00:00:00",
          "2017-03-01T00:00:00",
          "2017-04-01T00:00:00",
          "2017-05-01T00:00:00",
          "2017-06-01T00:00:00",
          "2017-07-01T00:00:00",
          "2017-08-01T00:00:00",
          "2017-09-01T00:00:00",
          "2017-10-01T00:00:00",
          "2017-11-01T00:00:00",
          "2017-12-01T00:00:00",
          "2018-01-01T00:00:00",
          "2018-02-01T00:00:00",
          "2018-03-01T00:00:00",
          "2018-04-01T00:00:00",
          "2018-05-01T00:00:00",
          "2018-06-01T00:00:00",
          "2018-07-01T00:00:00",
          "2018-08-01T00:00:00",
          "2018-09-01T00:00:00",
          "2018-10-01T00:00:00",
          "2018-11-01T00:00:00",
          "2018-12-01T00:00:00",
          "2019-01-01T00:00:00",
          "2019-02-01T00:00:00",
          "2019-03-01T00:00:00",
          "2019-04-01T00:00:00",
          "2019-05-01T00:00:00",
          "2019-06-01T00:00:00",
          "2019-07-01T00:00:00",
          "2019-08-01T00:00:00",
          "2019-09-01T00:00:00",
          "2019-10-01T00:00:00",
          "2019-11-01T00:00:00",
          "2019-12-01T00:00:00",
          "2020-01-01T00:00:00",
          "2020-02-01T00:00:00",
          "2020-03-01T00:00:00",
          "2020-04-01T00:00:00",
          "2020-05-01T00:00:00",
          "2020-06-01T00:00:00",
          "2020-07-01T00:00:00",
          "2020-08-01T00:00:00",
          "2020-09-01T00:00:00",
          "2020-10-01T00:00:00",
          "2020-11-01T00:00:00",
          "2020-12-01T00:00:00",
          "2021-01-01T00:00:00",
          "2021-02-01T00:00:00",
          "2021-03-01T00:00:00",
          "2021-04-01T00:00:00",
          "2021-05-01T00:00:00",
          "2021-06-01T00:00:00",
          "2021-07-01T00:00:00",
          "2021-08-01T00:00:00",
          "2021-09-01T00:00:00",
          "2021-10-01T00:00:00",
          "2021-11-01T00:00:00",
          "2021-12-01T00:00:00",
          "2022-01-01T00:00:00",
          "2022-02-01T00:00:00",
          "2022-03-01T00:00:00",
          "2022-04-01T00:00:00",
          "2022-05-01T00:00:00",
          "2022-06-01T00:00:00",
          "2022-07-01T00:00:00",
          "2022-08-01T00:00:00",
          "2022-09-01T00:00:00",
          "2022-10-01T00:00:00",
          "2022-11-01T00:00:00",
          "2022-12-01T00:00:00",
          "2023-01-01T00:00:00",
          "2023-02-01T00:00:00",
          "2023-03-01T00:00:00",
          "2023-04-01T00:00:00",
          "2023-05-01T00:00:00",
          "2023-06-01T00:00:00",
          "2023-07-01T00:00:00",
          "2023-08-01T00:00:00",
          "2023-09-01T00:00:00",
          "2023-10-01T00:00:00",
          "2023-11-01T00:00:00"
         ],
         "xaxis": "x",
         "y": [
          51.236237,
          64.864868,
          98.113113,
          91.081078,
          96.491493,
          97.907906,
          94.089088,
          90.345345,
          111.256256,
          138.773773,
          147.222229,
          145.950958,
          143.143143,
          158.388382,
          186.256256,
          202.657654,
          217.83284,
          216.546555,
          181.491486,
          195.19519,
          199.649643,
          186.0961,
          209.874878,
          193.4935,
          189.454453,
          200.920914,
          238.433426,
          242.647644,
          234.029022,
          251.001007,
          224.949951,
          229.494492,
          235.925919,
          249.204208,
          265.455444,
          255.255249,
          257.882874,
          291.566559,
          353.853851,
          346.846832,
          346.08609,
          282.432434,
          235.825821,
          220.45546,
          287.432434,
          287.787781,
          263.47348,
          237.112106,
          232.857864,
          200.460464,
          179.859863,
          133.128128,
          153.978973,
          170.45546,
          163.743744,
          174.204208,
          198.183182,
          213.4935,
          211.006012,
          221.74675,
          231.066071,
          248.173172,
          267.262268,
          291.791779,
          310.300293,
          266.776764,
          266.611603,
          283.843842,
          263.113098,
          241.426422,
          222.697693,
          245.450455,
          225.235229,
          263.158173,
          307.8078,
          278.133148,
          297.282288,
          300.480469,
          307.007019,
          293.673676,
          269.549561,
          264.77478,
          253.443436,
          303.68869,
          270.750763,
          257.777771,
          296.616608,
          299.994995,
          333.038025,
          290.345337,
          309.434448,
          323.783783,
          302.727722,
          290.720734,
          290.525513,
          316.801788,
          342.887878,
          381.271271,
          340.490479,
          349.534546,
          354.044037,
          378.223236,
          401.001007,
          400.996002,
          412.697693,
          436.046051,
          444.384369,
          444.319305,
          430.620636,
          438.393402,
          515.805786,
          527.767761,
          560.915894,
          591.07605,
          608.433411,
          557.812805,
          534.880005,
          564.340027,
          584.669983,
          579.549988,
          588.630005,
          588.409973,
          567.869995,
          539.650024,
          530.659973,
          532.200012,
          575.02002,
          554.700012,
          548.77002,
          549.210022,
          540.039978,
          657.5,
          647.820007,
          638.369995,
          747.73999,
          762.849976,
          778.01001,
          770.77002,
          717.219971,
          762.900024,
          714.409973,
          748.849976,
          703.530029,
          800.940002,
          789.849976,
          804.059998,
          809.900024,
          775.880005,
          808.01001,
          820.190002,
          844.929993,
          847.799988,
          932.820007,
          987.090027,
          929.679993,
          945.5,
          955.23999,
          967.469971,
          1033.040039,
          1036.170044,
          1073.209961,
          1182.219971,
          1103.920044,
          1012.630005,
          1018.580017,
          1100,
          1142.109985,
          1227.219971,
          1231.800049,
          1208.530029,
          1090.579956,
          1109.650024,
          1044.959961,
          1125.890015,
          1126.550049,
          1198.97998,
          1198.959961,
          1106.5,
          1100,
          1218.199951,
          1169.550049,
          1221.140015,
          1258.800049,
          1288.859985,
          1339.390015,
          1432.780029,
          1386.319946,
          1161.949951,
          1346.699951,
          1434.869995,
          1418.050049,
          1487.949951,
          1629.530029,
          1465.599976,
          1624.319946,
          1754.400024,
          1752.640015,
          1893.069946,
          2069.659912,
          2062.52002,
          2353.5,
          2381.179932,
          2441.790039,
          2697.090088,
          2893.949951,
          2673.52002,
          2869.939941,
          2837.949951,
          2897.040039,
          2706.070068,
          2701.139893,
          null,
          null,
          null,
          null,
          null,
          null,
          null,
          null,
          null,
          null,
          null,
          null,
          null,
          null,
          null,
          null,
          null,
          null,
          null,
          null,
          null
         ],
         "yaxis": "y"
        },
        {
         "line": {
          "color": "rgb(255, 127, 14)",
          "width": 2
         },
         "marker": {
          "color": "rgb(255, 127, 14)",
          "size": 5
         },
         "mode": "lines+markers",
         "name": "Exponential Smoothing",
         "type": "scattergl",
         "x": [
          "2004-08-01T00:00:00",
          "2004-09-01T00:00:00",
          "2004-10-01T00:00:00",
          "2004-11-01T00:00:00",
          "2004-12-01T00:00:00",
          "2005-01-01T00:00:00",
          "2005-02-01T00:00:00",
          "2005-03-01T00:00:00",
          "2005-04-01T00:00:00",
          "2005-05-01T00:00:00",
          "2005-06-01T00:00:00",
          "2005-07-01T00:00:00",
          "2005-08-01T00:00:00",
          "2005-09-01T00:00:00",
          "2005-10-01T00:00:00",
          "2005-11-01T00:00:00",
          "2005-12-01T00:00:00",
          "2006-01-01T00:00:00",
          "2006-02-01T00:00:00",
          "2006-03-01T00:00:00",
          "2006-04-01T00:00:00",
          "2006-05-01T00:00:00",
          "2006-06-01T00:00:00",
          "2006-07-01T00:00:00",
          "2006-08-01T00:00:00",
          "2006-09-01T00:00:00",
          "2006-10-01T00:00:00",
          "2006-11-01T00:00:00",
          "2006-12-01T00:00:00",
          "2007-01-01T00:00:00",
          "2007-02-01T00:00:00",
          "2007-03-01T00:00:00",
          "2007-04-01T00:00:00",
          "2007-05-01T00:00:00",
          "2007-06-01T00:00:00",
          "2007-07-01T00:00:00",
          "2007-08-01T00:00:00",
          "2007-09-01T00:00:00",
          "2007-10-01T00:00:00",
          "2007-11-01T00:00:00",
          "2007-12-01T00:00:00",
          "2008-01-01T00:00:00",
          "2008-02-01T00:00:00",
          "2008-03-01T00:00:00",
          "2008-04-01T00:00:00",
          "2008-05-01T00:00:00",
          "2008-06-01T00:00:00",
          "2008-07-01T00:00:00",
          "2008-08-01T00:00:00",
          "2008-09-01T00:00:00",
          "2008-10-01T00:00:00",
          "2008-11-01T00:00:00",
          "2008-12-01T00:00:00",
          "2009-01-01T00:00:00",
          "2009-02-01T00:00:00",
          "2009-03-01T00:00:00",
          "2009-04-01T00:00:00",
          "2009-05-01T00:00:00",
          "2009-06-01T00:00:00",
          "2009-07-01T00:00:00",
          "2009-08-01T00:00:00",
          "2009-09-01T00:00:00",
          "2009-10-01T00:00:00",
          "2009-11-01T00:00:00",
          "2009-12-01T00:00:00",
          "2010-01-01T00:00:00",
          "2010-02-01T00:00:00",
          "2010-03-01T00:00:00",
          "2010-04-01T00:00:00",
          "2010-05-01T00:00:00",
          "2010-06-01T00:00:00",
          "2010-07-01T00:00:00",
          "2010-08-01T00:00:00",
          "2010-09-01T00:00:00",
          "2010-10-01T00:00:00",
          "2010-11-01T00:00:00",
          "2010-12-01T00:00:00",
          "2011-01-01T00:00:00",
          "2011-02-01T00:00:00",
          "2011-03-01T00:00:00",
          "2011-04-01T00:00:00",
          "2011-05-01T00:00:00",
          "2011-06-01T00:00:00",
          "2011-07-01T00:00:00",
          "2011-08-01T00:00:00",
          "2011-09-01T00:00:00",
          "2011-10-01T00:00:00",
          "2011-11-01T00:00:00",
          "2011-12-01T00:00:00",
          "2012-01-01T00:00:00",
          "2012-02-01T00:00:00",
          "2012-03-01T00:00:00",
          "2012-04-01T00:00:00",
          "2012-05-01T00:00:00",
          "2012-06-01T00:00:00",
          "2012-07-01T00:00:00",
          "2012-08-01T00:00:00",
          "2012-09-01T00:00:00",
          "2012-10-01T00:00:00",
          "2012-11-01T00:00:00",
          "2012-12-01T00:00:00",
          "2013-01-01T00:00:00",
          "2013-02-01T00:00:00",
          "2013-03-01T00:00:00",
          "2013-04-01T00:00:00",
          "2013-05-01T00:00:00",
          "2013-06-01T00:00:00",
          "2013-07-01T00:00:00",
          "2013-08-01T00:00:00",
          "2013-09-01T00:00:00",
          "2013-10-01T00:00:00",
          "2013-11-01T00:00:00",
          "2013-12-01T00:00:00",
          "2014-01-01T00:00:00",
          "2014-02-01T00:00:00",
          "2014-03-01T00:00:00",
          "2014-04-01T00:00:00",
          "2014-05-01T00:00:00",
          "2014-06-01T00:00:00",
          "2014-07-01T00:00:00",
          "2014-08-01T00:00:00",
          "2014-09-01T00:00:00",
          "2014-10-01T00:00:00",
          "2014-11-01T00:00:00",
          "2014-12-01T00:00:00",
          "2015-01-01T00:00:00",
          "2015-02-01T00:00:00",
          "2015-03-01T00:00:00",
          "2015-04-01T00:00:00",
          "2015-05-01T00:00:00",
          "2015-06-01T00:00:00",
          "2015-07-01T00:00:00",
          "2015-08-01T00:00:00",
          "2015-09-01T00:00:00",
          "2015-10-01T00:00:00",
          "2015-11-01T00:00:00",
          "2015-12-01T00:00:00",
          "2016-01-01T00:00:00",
          "2016-02-01T00:00:00",
          "2016-03-01T00:00:00",
          "2016-04-01T00:00:00",
          "2016-05-01T00:00:00",
          "2016-06-01T00:00:00",
          "2016-07-01T00:00:00",
          "2016-08-01T00:00:00",
          "2016-09-01T00:00:00",
          "2016-10-01T00:00:00",
          "2016-11-01T00:00:00",
          "2016-12-01T00:00:00",
          "2017-01-01T00:00:00",
          "2017-02-01T00:00:00",
          "2017-03-01T00:00:00",
          "2017-04-01T00:00:00",
          "2017-05-01T00:00:00",
          "2017-06-01T00:00:00",
          "2017-07-01T00:00:00",
          "2017-08-01T00:00:00",
          "2017-09-01T00:00:00",
          "2017-10-01T00:00:00",
          "2017-11-01T00:00:00",
          "2017-12-01T00:00:00",
          "2018-01-01T00:00:00",
          "2018-02-01T00:00:00",
          "2018-03-01T00:00:00",
          "2018-04-01T00:00:00",
          "2018-05-01T00:00:00",
          "2018-06-01T00:00:00",
          "2018-07-01T00:00:00",
          "2018-08-01T00:00:00",
          "2018-09-01T00:00:00",
          "2018-10-01T00:00:00",
          "2018-11-01T00:00:00",
          "2018-12-01T00:00:00",
          "2019-01-01T00:00:00",
          "2019-02-01T00:00:00",
          "2019-03-01T00:00:00",
          "2019-04-01T00:00:00",
          "2019-05-01T00:00:00",
          "2019-06-01T00:00:00",
          "2019-07-01T00:00:00",
          "2019-08-01T00:00:00",
          "2019-09-01T00:00:00",
          "2019-10-01T00:00:00",
          "2019-11-01T00:00:00",
          "2019-12-01T00:00:00",
          "2020-01-01T00:00:00",
          "2020-02-01T00:00:00",
          "2020-03-01T00:00:00",
          "2020-04-01T00:00:00",
          "2020-05-01T00:00:00",
          "2020-06-01T00:00:00",
          "2020-07-01T00:00:00",
          "2020-08-01T00:00:00",
          "2020-09-01T00:00:00",
          "2020-10-01T00:00:00",
          "2020-11-01T00:00:00",
          "2020-12-01T00:00:00",
          "2021-01-01T00:00:00",
          "2021-02-01T00:00:00",
          "2021-03-01T00:00:00",
          "2021-04-01T00:00:00",
          "2021-05-01T00:00:00",
          "2021-06-01T00:00:00",
          "2021-07-01T00:00:00",
          "2021-08-01T00:00:00",
          "2021-09-01T00:00:00",
          "2021-10-01T00:00:00",
          "2021-11-01T00:00:00",
          "2021-12-01T00:00:00",
          "2022-01-01T00:00:00",
          "2022-02-01T00:00:00",
          "2022-03-01T00:00:00",
          "2022-04-01T00:00:00",
          "2022-05-01T00:00:00",
          "2022-06-01T00:00:00",
          "2022-07-01T00:00:00",
          "2022-08-01T00:00:00",
          "2022-09-01T00:00:00",
          "2022-10-01T00:00:00",
          "2022-11-01T00:00:00",
          "2022-12-01T00:00:00",
          "2023-01-01T00:00:00",
          "2023-02-01T00:00:00",
          "2023-03-01T00:00:00",
          "2023-04-01T00:00:00",
          "2023-05-01T00:00:00",
          "2023-06-01T00:00:00",
          "2023-07-01T00:00:00",
          "2023-08-01T00:00:00",
          "2023-09-01T00:00:00",
          "2023-10-01T00:00:00",
          "2023-11-01T00:00:00"
         ],
         "xaxis": "x",
         "y": [
          null,
          null,
          null,
          null,
          null,
          null,
          null,
          null,
          null,
          null,
          null,
          null,
          null,
          null,
          null,
          null,
          null,
          null,
          null,
          null,
          null,
          null,
          null,
          null,
          null,
          null,
          null,
          null,
          null,
          null,
          null,
          null,
          null,
          null,
          null,
          null,
          null,
          null,
          null,
          null,
          null,
          null,
          null,
          null,
          null,
          null,
          null,
          null,
          null,
          null,
          null,
          null,
          null,
          null,
          null,
          null,
          null,
          null,
          null,
          null,
          null,
          null,
          null,
          null,
          null,
          null,
          null,
          null,
          null,
          null,
          null,
          null,
          null,
          null,
          null,
          null,
          null,
          null,
          null,
          null,
          null,
          null,
          null,
          null,
          null,
          null,
          null,
          null,
          null,
          null,
          null,
          null,
          null,
          null,
          null,
          null,
          null,
          null,
          null,
          null,
          null,
          null,
          null,
          null,
          null,
          null,
          null,
          null,
          null,
          null,
          null,
          null,
          null,
          null,
          null,
          null,
          null,
          null,
          null,
          null,
          null,
          null,
          null,
          null,
          null,
          null,
          null,
          null,
          null,
          null,
          null,
          null,
          null,
          null,
          null,
          null,
          null,
          null,
          null,
          null,
          null,
          null,
          null,
          null,
          null,
          null,
          null,
          null,
          null,
          null,
          null,
          null,
          null,
          null,
          null,
          null,
          null,
          null,
          null,
          null,
          null,
          null,
          null,
          null,
          null,
          null,
          null,
          null,
          null,
          null,
          null,
          null,
          null,
          null,
          null,
          null,
          null,
          null,
          null,
          null,
          null,
          null,
          null,
          null,
          null,
          null,
          null,
          null,
          null,
          null,
          null,
          null,
          null,
          null,
          null,
          null,
          null,
          null,
          null,
          null,
          null,
          null,
          null,
          null,
          null,
          null,
          null,
          null,
          2856.837,
          3096.8182,
          3169.5096,
          3015.1113,
          3243.7524,
          3264.613,
          3266.9462,
          3530.9897,
          3603.7263,
          3418.9547,
          3668.733,
          3683.1867,
          3677.0554,
          3965.1612,
          4037.943,
          3822.7982,
          4093.7136,
          4101.7605,
          4087.1646,
          4399.3328,
          4472.1597,
          4226.6416,
          4518.6943,
          4520.3343
         ],
         "yaxis": "y"
        }
       ],
       "layout": {
        "showlegend": true,
        "template": {
         "data": {
          "bar": [
           {
            "error_x": {
             "color": "rgb(51,51,51)"
            },
            "error_y": {
             "color": "rgb(51,51,51)"
            },
            "marker": {
             "line": {
              "color": "rgb(237,237,237)",
              "width": 0.5
             },
             "pattern": {
              "fillmode": "overlay",
              "size": 10,
              "solidity": 0.2
             }
            },
            "type": "bar"
           }
          ],
          "barpolar": [
           {
            "marker": {
             "line": {
              "color": "rgb(237,237,237)",
              "width": 0.5
             },
             "pattern": {
              "fillmode": "overlay",
              "size": 10,
              "solidity": 0.2
             }
            },
            "type": "barpolar"
           }
          ],
          "carpet": [
           {
            "aaxis": {
             "endlinecolor": "rgb(51,51,51)",
             "gridcolor": "white",
             "linecolor": "white",
             "minorgridcolor": "white",
             "startlinecolor": "rgb(51,51,51)"
            },
            "baxis": {
             "endlinecolor": "rgb(51,51,51)",
             "gridcolor": "white",
             "linecolor": "white",
             "minorgridcolor": "white",
             "startlinecolor": "rgb(51,51,51)"
            },
            "type": "carpet"
           }
          ],
          "choropleth": [
           {
            "colorbar": {
             "outlinewidth": 0,
             "tickcolor": "rgb(237,237,237)",
             "ticklen": 6,
             "ticks": "inside"
            },
            "type": "choropleth"
           }
          ],
          "contour": [
           {
            "colorbar": {
             "outlinewidth": 0,
             "tickcolor": "rgb(237,237,237)",
             "ticklen": 6,
             "ticks": "inside"
            },
            "colorscale": [
             [
              0,
              "rgb(20,44,66)"
             ],
             [
              1,
              "rgb(90,179,244)"
             ]
            ],
            "type": "contour"
           }
          ],
          "contourcarpet": [
           {
            "colorbar": {
             "outlinewidth": 0,
             "tickcolor": "rgb(237,237,237)",
             "ticklen": 6,
             "ticks": "inside"
            },
            "type": "contourcarpet"
           }
          ],
          "heatmap": [
           {
            "colorbar": {
             "outlinewidth": 0,
             "tickcolor": "rgb(237,237,237)",
             "ticklen": 6,
             "ticks": "inside"
            },
            "colorscale": [
             [
              0,
              "rgb(20,44,66)"
             ],
             [
              1,
              "rgb(90,179,244)"
             ]
            ],
            "type": "heatmap"
           }
          ],
          "heatmapgl": [
           {
            "colorbar": {
             "outlinewidth": 0,
             "tickcolor": "rgb(237,237,237)",
             "ticklen": 6,
             "ticks": "inside"
            },
            "colorscale": [
             [
              0,
              "rgb(20,44,66)"
             ],
             [
              1,
              "rgb(90,179,244)"
             ]
            ],
            "type": "heatmapgl"
           }
          ],
          "histogram": [
           {
            "marker": {
             "pattern": {
              "fillmode": "overlay",
              "size": 10,
              "solidity": 0.2
             }
            },
            "type": "histogram"
           }
          ],
          "histogram2d": [
           {
            "colorbar": {
             "outlinewidth": 0,
             "tickcolor": "rgb(237,237,237)",
             "ticklen": 6,
             "ticks": "inside"
            },
            "colorscale": [
             [
              0,
              "rgb(20,44,66)"
             ],
             [
              1,
              "rgb(90,179,244)"
             ]
            ],
            "type": "histogram2d"
           }
          ],
          "histogram2dcontour": [
           {
            "colorbar": {
             "outlinewidth": 0,
             "tickcolor": "rgb(237,237,237)",
             "ticklen": 6,
             "ticks": "inside"
            },
            "colorscale": [
             [
              0,
              "rgb(20,44,66)"
             ],
             [
              1,
              "rgb(90,179,244)"
             ]
            ],
            "type": "histogram2dcontour"
           }
          ],
          "mesh3d": [
           {
            "colorbar": {
             "outlinewidth": 0,
             "tickcolor": "rgb(237,237,237)",
             "ticklen": 6,
             "ticks": "inside"
            },
            "type": "mesh3d"
           }
          ],
          "parcoords": [
           {
            "line": {
             "colorbar": {
              "outlinewidth": 0,
              "tickcolor": "rgb(237,237,237)",
              "ticklen": 6,
              "ticks": "inside"
             }
            },
            "type": "parcoords"
           }
          ],
          "pie": [
           {
            "automargin": true,
            "type": "pie"
           }
          ],
          "scatter": [
           {
            "fillpattern": {
             "fillmode": "overlay",
             "size": 10,
             "solidity": 0.2
            },
            "type": "scatter"
           }
          ],
          "scatter3d": [
           {
            "line": {
             "colorbar": {
              "outlinewidth": 0,
              "tickcolor": "rgb(237,237,237)",
              "ticklen": 6,
              "ticks": "inside"
             }
            },
            "marker": {
             "colorbar": {
              "outlinewidth": 0,
              "tickcolor": "rgb(237,237,237)",
              "ticklen": 6,
              "ticks": "inside"
             }
            },
            "type": "scatter3d"
           }
          ],
          "scattercarpet": [
           {
            "marker": {
             "colorbar": {
              "outlinewidth": 0,
              "tickcolor": "rgb(237,237,237)",
              "ticklen": 6,
              "ticks": "inside"
             }
            },
            "type": "scattercarpet"
           }
          ],
          "scattergeo": [
           {
            "marker": {
             "colorbar": {
              "outlinewidth": 0,
              "tickcolor": "rgb(237,237,237)",
              "ticklen": 6,
              "ticks": "inside"
             }
            },
            "type": "scattergeo"
           }
          ],
          "scattergl": [
           {
            "marker": {
             "colorbar": {
              "outlinewidth": 0,
              "tickcolor": "rgb(237,237,237)",
              "ticklen": 6,
              "ticks": "inside"
             }
            },
            "type": "scattergl"
           }
          ],
          "scattermapbox": [
           {
            "marker": {
             "colorbar": {
              "outlinewidth": 0,
              "tickcolor": "rgb(237,237,237)",
              "ticklen": 6,
              "ticks": "inside"
             }
            },
            "type": "scattermapbox"
           }
          ],
          "scatterpolar": [
           {
            "marker": {
             "colorbar": {
              "outlinewidth": 0,
              "tickcolor": "rgb(237,237,237)",
              "ticklen": 6,
              "ticks": "inside"
             }
            },
            "type": "scatterpolar"
           }
          ],
          "scatterpolargl": [
           {
            "marker": {
             "colorbar": {
              "outlinewidth": 0,
              "tickcolor": "rgb(237,237,237)",
              "ticklen": 6,
              "ticks": "inside"
             }
            },
            "type": "scatterpolargl"
           }
          ],
          "scatterternary": [
           {
            "marker": {
             "colorbar": {
              "outlinewidth": 0,
              "tickcolor": "rgb(237,237,237)",
              "ticklen": 6,
              "ticks": "inside"
             }
            },
            "type": "scatterternary"
           }
          ],
          "surface": [
           {
            "colorbar": {
             "outlinewidth": 0,
             "tickcolor": "rgb(237,237,237)",
             "ticklen": 6,
             "ticks": "inside"
            },
            "colorscale": [
             [
              0,
              "rgb(20,44,66)"
             ],
             [
              1,
              "rgb(90,179,244)"
             ]
            ],
            "type": "surface"
           }
          ],
          "table": [
           {
            "cells": {
             "fill": {
              "color": "rgb(237,237,237)"
             },
             "line": {
              "color": "white"
             }
            },
            "header": {
             "fill": {
              "color": "rgb(217,217,217)"
             },
             "line": {
              "color": "white"
             }
            },
            "type": "table"
           }
          ]
         },
         "layout": {
          "annotationdefaults": {
           "arrowhead": 0,
           "arrowwidth": 1
          },
          "autotypenumbers": "strict",
          "coloraxis": {
           "colorbar": {
            "outlinewidth": 0,
            "tickcolor": "rgb(237,237,237)",
            "ticklen": 6,
            "ticks": "inside"
           }
          },
          "colorscale": {
           "sequential": [
            [
             0,
             "rgb(20,44,66)"
            ],
            [
             1,
             "rgb(90,179,244)"
            ]
           ],
           "sequentialminus": [
            [
             0,
             "rgb(20,44,66)"
            ],
            [
             1,
             "rgb(90,179,244)"
            ]
           ]
          },
          "colorway": [
           "#F8766D",
           "#A3A500",
           "#00BF7D",
           "#00B0F6",
           "#E76BF3"
          ],
          "font": {
           "color": "rgb(51,51,51)"
          },
          "geo": {
           "bgcolor": "white",
           "lakecolor": "white",
           "landcolor": "rgb(237,237,237)",
           "showlakes": true,
           "showland": true,
           "subunitcolor": "white"
          },
          "hoverlabel": {
           "align": "left"
          },
          "hovermode": "closest",
          "paper_bgcolor": "white",
          "plot_bgcolor": "rgb(237,237,237)",
          "polar": {
           "angularaxis": {
            "gridcolor": "white",
            "linecolor": "white",
            "showgrid": true,
            "tickcolor": "rgb(51,51,51)",
            "ticks": "outside"
           },
           "bgcolor": "rgb(237,237,237)",
           "radialaxis": {
            "gridcolor": "white",
            "linecolor": "white",
            "showgrid": true,
            "tickcolor": "rgb(51,51,51)",
            "ticks": "outside"
           }
          },
          "scene": {
           "xaxis": {
            "backgroundcolor": "rgb(237,237,237)",
            "gridcolor": "white",
            "gridwidth": 2,
            "linecolor": "white",
            "showbackground": true,
            "showgrid": true,
            "tickcolor": "rgb(51,51,51)",
            "ticks": "outside",
            "zerolinecolor": "white"
           },
           "yaxis": {
            "backgroundcolor": "rgb(237,237,237)",
            "gridcolor": "white",
            "gridwidth": 2,
            "linecolor": "white",
            "showbackground": true,
            "showgrid": true,
            "tickcolor": "rgb(51,51,51)",
            "ticks": "outside",
            "zerolinecolor": "white"
           },
           "zaxis": {
            "backgroundcolor": "rgb(237,237,237)",
            "gridcolor": "white",
            "gridwidth": 2,
            "linecolor": "white",
            "showbackground": true,
            "showgrid": true,
            "tickcolor": "rgb(51,51,51)",
            "ticks": "outside",
            "zerolinecolor": "white"
           }
          },
          "shapedefaults": {
           "fillcolor": "black",
           "line": {
            "width": 0
           },
           "opacity": 0.3
          },
          "ternary": {
           "aaxis": {
            "gridcolor": "white",
            "linecolor": "white",
            "showgrid": true,
            "tickcolor": "rgb(51,51,51)",
            "ticks": "outside"
           },
           "baxis": {
            "gridcolor": "white",
            "linecolor": "white",
            "showgrid": true,
            "tickcolor": "rgb(51,51,51)",
            "ticks": "outside"
           },
           "bgcolor": "rgb(237,237,237)",
           "caxis": {
            "gridcolor": "white",
            "linecolor": "white",
            "showgrid": true,
            "tickcolor": "rgb(51,51,51)",
            "ticks": "outside"
           }
          },
          "xaxis": {
           "automargin": true,
           "gridcolor": "white",
           "linecolor": "white",
           "showgrid": true,
           "tickcolor": "rgb(51,51,51)",
           "ticks": "outside",
           "title": {
            "standoff": 15
           },
           "zerolinecolor": "white"
          },
          "yaxis": {
           "automargin": true,
           "gridcolor": "white",
           "linecolor": "white",
           "showgrid": true,
           "tickcolor": "rgb(51,51,51)",
           "ticks": "outside",
           "title": {
            "standoff": 15
           },
           "zerolinecolor": "white"
          }
         }
        },
        "title": {
         "text": "Actual vs. Forecast (Out-of-Sample)"
        },
        "xaxis": {
         "anchor": "y",
         "domain": [
          0,
          1
         ]
        },
        "yaxis": {
         "anchor": "x",
         "domain": [
          0,
          1
         ]
        }
       }
      }
     },
     "metadata": {},
     "output_type": "display_data"
    }
   ],
   "source": [
    "\n",
    "# functional API\n",
    "plot_model(best, plot = 'forecast', data_kwargs = {'fh' : 24})"
   ]
  },
  {
   "cell_type": "code",
   "execution_count": 12,
   "metadata": {},
   "outputs": [
    {
     "data": {
      "application/vnd.plotly.v1+json": {
       "config": {
        "plotlyServerURL": "https://plot.ly"
       },
       "data": [
        {
         "line": {
          "color": "rgb(31, 119, 180)",
          "width": 2
         },
         "marker": {
          "color": "rgb(31, 119, 180)",
          "size": 5
         },
         "mode": "lines+markers",
         "name": "Exponential Smoothing",
         "showlegend": false,
         "type": "scattergl",
         "x": [
          "2004-08-01T00:00:00",
          "2004-09-01T00:00:00",
          "2004-10-01T00:00:00",
          "2004-11-01T00:00:00",
          "2004-12-01T00:00:00",
          "2005-01-01T00:00:00",
          "2005-02-01T00:00:00",
          "2005-03-01T00:00:00",
          "2005-04-01T00:00:00",
          "2005-05-01T00:00:00",
          "2005-06-01T00:00:00",
          "2005-07-01T00:00:00",
          "2005-08-01T00:00:00",
          "2005-09-01T00:00:00",
          "2005-10-01T00:00:00",
          "2005-11-01T00:00:00",
          "2005-12-01T00:00:00",
          "2006-01-01T00:00:00",
          "2006-02-01T00:00:00",
          "2006-03-01T00:00:00",
          "2006-04-01T00:00:00",
          "2006-05-01T00:00:00",
          "2006-06-01T00:00:00",
          "2006-07-01T00:00:00",
          "2006-08-01T00:00:00",
          "2006-09-01T00:00:00",
          "2006-10-01T00:00:00",
          "2006-11-01T00:00:00",
          "2006-12-01T00:00:00",
          "2007-01-01T00:00:00",
          "2007-02-01T00:00:00",
          "2007-03-01T00:00:00",
          "2007-04-01T00:00:00",
          "2007-05-01T00:00:00",
          "2007-06-01T00:00:00",
          "2007-07-01T00:00:00",
          "2007-08-01T00:00:00",
          "2007-09-01T00:00:00",
          "2007-10-01T00:00:00",
          "2007-11-01T00:00:00",
          "2007-12-01T00:00:00",
          "2008-01-01T00:00:00",
          "2008-02-01T00:00:00",
          "2008-03-01T00:00:00",
          "2008-04-01T00:00:00",
          "2008-05-01T00:00:00",
          "2008-06-01T00:00:00",
          "2008-07-01T00:00:00",
          "2008-08-01T00:00:00",
          "2008-09-01T00:00:00",
          "2008-10-01T00:00:00",
          "2008-11-01T00:00:00",
          "2008-12-01T00:00:00",
          "2009-01-01T00:00:00",
          "2009-02-01T00:00:00",
          "2009-03-01T00:00:00",
          "2009-04-01T00:00:00",
          "2009-05-01T00:00:00",
          "2009-06-01T00:00:00",
          "2009-07-01T00:00:00",
          "2009-08-01T00:00:00",
          "2009-09-01T00:00:00",
          "2009-10-01T00:00:00",
          "2009-11-01T00:00:00",
          "2009-12-01T00:00:00",
          "2010-01-01T00:00:00",
          "2010-02-01T00:00:00",
          "2010-03-01T00:00:00",
          "2010-04-01T00:00:00",
          "2010-05-01T00:00:00",
          "2010-06-01T00:00:00",
          "2010-07-01T00:00:00",
          "2010-08-01T00:00:00",
          "2010-09-01T00:00:00",
          "2010-10-01T00:00:00",
          "2010-11-01T00:00:00",
          "2010-12-01T00:00:00",
          "2011-01-01T00:00:00",
          "2011-02-01T00:00:00",
          "2011-03-01T00:00:00",
          "2011-04-01T00:00:00",
          "2011-05-01T00:00:00",
          "2011-06-01T00:00:00",
          "2011-07-01T00:00:00",
          "2011-08-01T00:00:00",
          "2011-09-01T00:00:00",
          "2011-10-01T00:00:00",
          "2011-11-01T00:00:00",
          "2011-12-01T00:00:00",
          "2012-01-01T00:00:00",
          "2012-02-01T00:00:00",
          "2012-03-01T00:00:00",
          "2012-04-01T00:00:00",
          "2012-05-01T00:00:00",
          "2012-06-01T00:00:00",
          "2012-07-01T00:00:00",
          "2012-08-01T00:00:00",
          "2012-09-01T00:00:00",
          "2012-10-01T00:00:00",
          "2012-11-01T00:00:00",
          "2012-12-01T00:00:00",
          "2013-01-01T00:00:00",
          "2013-02-01T00:00:00",
          "2013-03-01T00:00:00",
          "2013-04-01T00:00:00",
          "2013-05-01T00:00:00",
          "2013-06-01T00:00:00",
          "2013-07-01T00:00:00",
          "2013-08-01T00:00:00",
          "2013-09-01T00:00:00",
          "2013-10-01T00:00:00",
          "2013-11-01T00:00:00",
          "2013-12-01T00:00:00",
          "2014-01-01T00:00:00",
          "2014-02-01T00:00:00",
          "2014-03-01T00:00:00",
          "2014-04-01T00:00:00",
          "2014-05-01T00:00:00",
          "2014-06-01T00:00:00",
          "2014-07-01T00:00:00",
          "2014-08-01T00:00:00",
          "2014-09-01T00:00:00",
          "2014-10-01T00:00:00",
          "2014-11-01T00:00:00",
          "2014-12-01T00:00:00",
          "2015-01-01T00:00:00",
          "2015-02-01T00:00:00",
          "2015-03-01T00:00:00",
          "2015-04-01T00:00:00",
          "2015-05-01T00:00:00",
          "2015-06-01T00:00:00",
          "2015-07-01T00:00:00",
          "2015-08-01T00:00:00",
          "2015-09-01T00:00:00",
          "2015-10-01T00:00:00",
          "2015-11-01T00:00:00",
          "2015-12-01T00:00:00",
          "2016-01-01T00:00:00",
          "2016-02-01T00:00:00",
          "2016-03-01T00:00:00",
          "2016-04-01T00:00:00",
          "2016-05-01T00:00:00",
          "2016-06-01T00:00:00",
          "2016-07-01T00:00:00",
          "2016-08-01T00:00:00",
          "2016-09-01T00:00:00",
          "2016-10-01T00:00:00",
          "2016-11-01T00:00:00",
          "2016-12-01T00:00:00",
          "2017-01-01T00:00:00",
          "2017-02-01T00:00:00",
          "2017-03-01T00:00:00",
          "2017-04-01T00:00:00",
          "2017-05-01T00:00:00",
          "2017-06-01T00:00:00",
          "2017-07-01T00:00:00",
          "2017-08-01T00:00:00",
          "2017-09-01T00:00:00",
          "2017-10-01T00:00:00",
          "2017-11-01T00:00:00",
          "2017-12-01T00:00:00",
          "2018-01-01T00:00:00",
          "2018-02-01T00:00:00",
          "2018-03-01T00:00:00",
          "2018-04-01T00:00:00",
          "2018-05-01T00:00:00",
          "2018-06-01T00:00:00",
          "2018-07-01T00:00:00",
          "2018-08-01T00:00:00",
          "2018-09-01T00:00:00",
          "2018-10-01T00:00:00",
          "2018-11-01T00:00:00",
          "2018-12-01T00:00:00",
          "2019-01-01T00:00:00",
          "2019-02-01T00:00:00",
          "2019-03-01T00:00:00",
          "2019-04-01T00:00:00",
          "2019-05-01T00:00:00",
          "2019-06-01T00:00:00",
          "2019-07-01T00:00:00",
          "2019-08-01T00:00:00",
          "2019-09-01T00:00:00",
          "2019-10-01T00:00:00",
          "2019-11-01T00:00:00",
          "2019-12-01T00:00:00",
          "2020-01-01T00:00:00",
          "2020-02-01T00:00:00",
          "2020-03-01T00:00:00",
          "2020-04-01T00:00:00",
          "2020-05-01T00:00:00",
          "2020-06-01T00:00:00",
          "2020-07-01T00:00:00",
          "2020-08-01T00:00:00",
          "2020-09-01T00:00:00",
          "2020-10-01T00:00:00",
          "2020-11-01T00:00:00",
          "2020-12-01T00:00:00",
          "2021-01-01T00:00:00",
          "2021-02-01T00:00:00",
          "2021-03-01T00:00:00",
          "2021-04-01T00:00:00",
          "2021-05-01T00:00:00",
          "2021-06-01T00:00:00",
          "2021-07-01T00:00:00",
          "2021-08-01T00:00:00",
          "2021-09-01T00:00:00",
          "2021-10-01T00:00:00",
          "2021-11-01T00:00:00"
         ],
         "xaxis": "x",
         "y": [
          -0.00046299999999632746,
          9.300268000000003,
          21.957612999999995,
          -16.80572199999999,
          -10.092906999999997,
          -7.012594000000007,
          -5.164512000000002,
          -8.164355,
          5.8287559999999985,
          25.028273,
          -4.7031709999999975,
          -9.37164199999998,
          -1.6406570000000045,
          12.787682000000018,
          4.429256000000009,
          9.805453999999997,
          2.1708399999999983,
          -8.666344999999978,
          -31.927414,
          7.389989999999983,
          -20.350156999999996,
          -20.335499999999996,
          14.258377999999993,
          -16.032699999999977,
          4.773853000000003,
          7.562314000000015,
          18.311126,
          2.0899440000000027,
          -24.224378,
          17.860806999999994,
          -14.189749000000006,
          -2.8649079999999856,
          -17.508081000000004,
          12.010807999999997,
          7.551844000000017,
          -10.060351000000026,
          17.565274000000016,
          28.020358999999985,
          36.40235100000001,
          -12.53376800000001,
          -19.90850999999998,
          -66.308066,
          -38.959979000000004,
          -23.394040000000018,
          49.734634,
          11.130280999999968,
          -30.66192000000001,
          -19.33769399999997,
          8.92506400000002,
          -35.22483600000001,
          -44.98263700000001,
          -37.18937199999999,
          26.709773,
          33.51425999999998,
          10.083944000000002,
          16.581308000000007,
          10.321481999999975,
          27.513500000000022,
          -10.735788000000014,
          17.20274999999998,
          25.447870999999992,
          17.426972000000006,
          -8.545231999999999,
          28.57887900000003,
          7.314192999999989,
          -44.141035999999986,
          8.077103000000022,
          16.030941999999982,
          -48.84300200000001,
          -24.915377999999976,
          -25.721107000000018,
          30.74165500000001,
          -6.270470999999986,
          38.221472999999975,
          31.887400000000014,
          -28.373951999999974,
          7.785388000000012,
          2.798569000000043,
          21.714719000000002,
          -23.114524000000017,
          -45.90603900000002,
          -1.2153199999999629,
          -20.026564000000036,
          51.91099,
          -12.884436999999991,
          -17.026929000000052,
          26.07790799999998,
          9.452195000000017,
          24.261025000000018,
          -53.19746300000003,
          36.35614799999996,
          14.791883000000041,
          -44.318877999999984,
          -11.582666000000017,
          -10.828086999999982,
          26.520787999999982,
          42.988178000000005,
          41.588971000000015,
          -59.02752099999998,
          2.0104460000000017,
          -10.07996300000002,
          15.054835999999966,
          36.02230700000001,
          1.5462019999999939,
          2.772492999999997,
          13.002550999999983,
          -10.440230999999983,
          -19.331594999999993,
          -7.080563999999981,
          10.781601999999964,
          70.06138600000003,
          3.044760999999994,
          10.260794000000033,
          6.5642500000000155,
          22.65371099999993,
          -53.09149500000001,
          -53.467795000000024,
          20.12132699999995,
          1.978482999999983,
          -24.940711999999962,
          15.247605000000021,
          12.86207300000001,
          -40.55680499999994,
          -43.822075999999925,
          -26.207127000000014,
          -8.84438799999998,
          52.62412000000006,
          1.4662120000000414,
          -14.984479999999962,
          -7.859377999999992,
          -23.580822000000012,
          105.26099999999997,
          -1.7733929999999418,
          11.332994999999983,
          97.89309000000003,
          4.096275999999989,
          -15.204889999999978,
          -63.14058,
          -50.975828999999976,
          62.56422400000008,
          -70.56732699999998,
          25.673075999999924,
          -61.56227100000001,
          57.33620200000007,
          9.454575999999975,
          24.60339799999997,
          -2.1596759999999904,
          -50.37349500000005,
          19.489209999999957,
          -43.06989799999997,
          43.30499299999997,
          17.243087999999943,
          80.91240700000003,
          49.104827,
          -81.85120700000004,
          -56.78250000000003,
          14.275890000000004,
          27.070470999999998,
          51.16153899999995,
          -0.7282560000001013,
          27.16806100000008,
          34.85047099999997,
          -80.33005600000001,
          -91.22519499999999,
          -22.055382999999892,
          85.68579999999997,
          43.467685000000074,
          11.098970999999892,
          19.64934900000003,
          -9.154970999999932,
          -157.14374399999997,
          -6.939975999999888,
          -60.78093899999999,
          19.902514999999994,
          29.42184899999984,
          103.43038000000001,
          -0.30773900000008325,
          -123.97600000000011,
          -7.786399999999958,
          48.92035099999998,
          -19.335851000000048,
          67.95711499999993,
          50.18384900000001,
          19.307285000000093,
          41.95131500000002,
          -10.251670999999988,
          -21.65495399999986,
          -229.34044900000004,
          173.7097510000001,
          99.09599500000013,
          -22.650450999999975,
          -39.52984900000001,
          168.98102900000004,
          -124.11152399999992,
          84.69544600000017,
          131.34062399999993,
          0.8904149999998481,
          -2.49675400000001,
          167.03061200000002,
          73.9576199999999,
          153.375,
          -5.652668000000176,
          47.06723899999997,
          41.447087999999894,
          134.4122510000002,
          -117.5278800000001,
          -25.571258999999827,
          -63.7413489999999
         ],
         "yaxis": "y"
        },
        {
         "hoverinfo": "text",
         "hovertext": [
          "Freq: 0.0048<br>Ampl: 25.8529<br>Time period: 208.0",
          "Freq: 0.0096<br>Ampl: 11.4611<br>Time period: 104.0",
          "Freq: 0.0144<br>Ampl: 19.5634<br>Time period: 69.3333",
          "Freq: 0.0192<br>Ampl: 27.0996<br>Time period: 52.0",
          "Freq: 0.024<br>Ampl: 30.7888<br>Time period: 41.6",
          "Freq: 0.0288<br>Ampl: 29.5205<br>Time period: 34.6667",
          "Freq: 0.0337<br>Ampl: 28.0359<br>Time period: 29.7143",
          "Freq: 0.0385<br>Ampl: 34.3209<br>Time period: 26.0",
          "Freq: 0.0433<br>Ampl: 34.1342<br>Time period: 23.1111",
          "Freq: 0.0481<br>Ampl: 30.6882<br>Time period: 20.8",
          "Freq: 0.0529<br>Ampl: 34.8551<br>Time period: 18.9091",
          "Freq: 0.0577<br>Ampl: 32.4091<br>Time period: 17.3333",
          "Freq: 0.0625<br>Ampl: 24.7407<br>Time period: 16.0",
          "Freq: 0.0673<br>Ampl: 31.1071<br>Time period: 14.8571",
          "Freq: 0.0721<br>Ampl: 28.0365<br>Time period: 13.8667",
          "Freq: 0.0769<br>Ampl: 26.4462<br>Time period: 13.0",
          "Freq: 0.0817<br>Ampl: 34.506<br>Time period: 12.2353",
          "Freq: 0.0865<br>Ampl: 36.0794<br>Time period: 11.5556",
          "Freq: 0.0913<br>Ampl: 32.7329<br>Time period: 10.9474",
          "Freq: 0.0962<br>Ampl: 21.1368<br>Time period: 10.4",
          "Freq: 0.101<br>Ampl: 33.009<br>Time period: 9.9048",
          "Freq: 0.1058<br>Ampl: 33.5087<br>Time period: 9.4545",
          "Freq: 0.1106<br>Ampl: 23.989<br>Time period: 9.0435",
          "Freq: 0.1154<br>Ampl: 16.0297<br>Time period: 8.6667",
          "Freq: 0.1202<br>Ampl: 35.8069<br>Time period: 8.32",
          "Freq: 0.125<br>Ampl: 40.3236<br>Time period: 8.0",
          "Freq: 0.1298<br>Ampl: 38.722<br>Time period: 7.7037",
          "Freq: 0.1346<br>Ampl: 35.0214<br>Time period: 7.4286",
          "Freq: 0.1394<br>Ampl: 36.1601<br>Time period: 7.1724",
          "Freq: 0.1442<br>Ampl: 34.9856<br>Time period: 6.9333",
          "Freq: 0.149<br>Ampl: 31.4811<br>Time period: 6.7097",
          "Freq: 0.1538<br>Ampl: 25.6584<br>Time period: 6.5",
          "Freq: 0.1587<br>Ampl: 35.6043<br>Time period: 6.303",
          "Freq: 0.1635<br>Ampl: 37.569<br>Time period: 6.1176",
          "Freq: 0.1683<br>Ampl: 35.4278<br>Time period: 5.9429",
          "Freq: 0.1731<br>Ampl: 28.8461<br>Time period: 5.7778",
          "Freq: 0.1779<br>Ampl: 28.0773<br>Time period: 5.6216",
          "Freq: 0.1827<br>Ampl: 20.0248<br>Time period: 5.4737",
          "Freq: 0.1875<br>Ampl: 14.4253<br>Time period: 5.3333",
          "Freq: 0.1923<br>Ampl: 19.081<br>Time period: 5.2",
          "Freq: 0.1971<br>Ampl: 22.8045<br>Time period: 5.0732",
          "Freq: 0.2019<br>Ampl: 33.4907<br>Time period: 4.9524",
          "Freq: 0.2067<br>Ampl: 36.8853<br>Time period: 4.8372",
          "Freq: 0.2115<br>Ampl: 35.9303<br>Time period: 4.7273",
          "Freq: 0.2163<br>Ampl: 30.2617<br>Time period: 4.6222",
          "Freq: 0.2212<br>Ampl: 28.7259<br>Time period: 4.5217",
          "Freq: 0.226<br>Ampl: 38.911<br>Time period: 4.4255",
          "Freq: 0.2308<br>Ampl: 40.9758<br>Time period: 4.3333",
          "Freq: 0.2356<br>Ampl: 36.9328<br>Time period: 4.2449",
          "Freq: 0.2404<br>Ampl: 30.2254<br>Time period: 4.16",
          "Freq: 0.2452<br>Ampl: 29.4181<br>Time period: 4.0784",
          "Freq: 0.25<br>Ampl: 29.8566<br>Time period: 4.0",
          "Freq: 0.2548<br>Ampl: 34.3467<br>Time period: 3.9245",
          "Freq: 0.2596<br>Ampl: 33.6143<br>Time period: 3.8519",
          "Freq: 0.2644<br>Ampl: 30.6649<br>Time period: 3.7818",
          "Freq: 0.2692<br>Ampl: 29.6067<br>Time period: 3.7143",
          "Freq: 0.274<br>Ampl: 33.708<br>Time period: 3.6491",
          "Freq: 0.2788<br>Ampl: 35.4931<br>Time period: 3.5862",
          "Freq: 0.2837<br>Ampl: 29.0154<br>Time period: 3.5254",
          "Freq: 0.2885<br>Ampl: 30.0479<br>Time period: 3.4667",
          "Freq: 0.2933<br>Ampl: 37.0622<br>Time period: 3.4098",
          "Freq: 0.2981<br>Ampl: 36.9759<br>Time period: 3.3548",
          "Freq: 0.3029<br>Ampl: 33.2358<br>Time period: 3.3016",
          "Freq: 0.3077<br>Ampl: 28.9606<br>Time period: 3.25",
          "Freq: 0.3125<br>Ampl: 22.8625<br>Time period: 3.2",
          "Freq: 0.3173<br>Ampl: 27.081<br>Time period: 3.1515",
          "Freq: 0.3221<br>Ampl: 24.1446<br>Time period: 3.1045",
          "Freq: 0.3269<br>Ampl: 25.1593<br>Time period: 3.0588",
          "Freq: 0.3317<br>Ampl: 30.339<br>Time period: 3.0145",
          "Freq: 0.3365<br>Ampl: 33.5224<br>Time period: 2.9714",
          "Freq: 0.3413<br>Ampl: 33.3715<br>Time period: 2.9296",
          "Freq: 0.3462<br>Ampl: 32.6243<br>Time period: 2.8889",
          "Freq: 0.351<br>Ampl: 31.3853<br>Time period: 2.8493",
          "Freq: 0.3558<br>Ampl: 28.6987<br>Time period: 2.8108",
          "Freq: 0.3606<br>Ampl: -14.0758<br>Time period: 2.7733",
          "Freq: 0.3654<br>Ampl: 32.7739<br>Time period: 2.7368",
          "Freq: 0.3702<br>Ampl: 36.9347<br>Time period: 2.7013",
          "Freq: 0.375<br>Ampl: 36.7798<br>Time period: 2.6667",
          "Freq: 0.3798<br>Ampl: 35.0682<br>Time period: 2.6329",
          "Freq: 0.3846<br>Ampl: 29.9791<br>Time period: 2.6",
          "Freq: 0.3894<br>Ampl: 13.0833<br>Time period: 2.5679",
          "Freq: 0.3942<br>Ampl: 29.0858<br>Time period: 2.5366",
          "Freq: 0.399<br>Ampl: 34.8942<br>Time period: 2.506",
          "Freq: 0.4038<br>Ampl: 31.2799<br>Time period: 2.4762",
          "Freq: 0.4087<br>Ampl: 33.0572<br>Time period: 2.4471",
          "Freq: 0.4135<br>Ampl: 39.999<br>Time period: 2.4186",
          "Freq: 0.4183<br>Ampl: 40.0467<br>Time period: 2.3908",
          "Freq: 0.4231<br>Ampl: 30.2412<br>Time period: 2.3636",
          "Freq: 0.4279<br>Ampl: 33.4971<br>Time period: 2.3371",
          "Freq: 0.4327<br>Ampl: 36.5472<br>Time period: 2.3111",
          "Freq: 0.4375<br>Ampl: 31.3806<br>Time period: 2.2857",
          "Freq: 0.4423<br>Ampl: 24.692<br>Time period: 2.2609",
          "Freq: 0.4471<br>Ampl: 33.2271<br>Time period: 2.2366",
          "Freq: 0.4519<br>Ampl: 35.4069<br>Time period: 2.2128",
          "Freq: 0.4567<br>Ampl: 33.4392<br>Time period: 2.1895",
          "Freq: 0.4615<br>Ampl: 23.8412<br>Time period: 2.1667",
          "Freq: 0.4663<br>Ampl: 26.6779<br>Time period: 2.1443",
          "Freq: 0.4712<br>Ampl: 35.0942<br>Time period: 2.1224",
          "Freq: 0.476<br>Ampl: 33.2974<br>Time period: 2.101",
          "Freq: 0.4808<br>Ampl: 28.4988<br>Time period: 2.08",
          "Freq: 0.4856<br>Ampl: 29.7672<br>Time period: 2.0594",
          "Freq: 0.4904<br>Ampl: 24.3774<br>Time period: 2.0392",
          "Freq: 0.4952<br>Ampl: 23.6332<br>Time period: 2.0194",
          "Freq: 0.5<br>Ampl: 25.4863<br>Time period: 2.0"
         ],
         "line": {
          "color": "#1f77b4",
          "width": 2
         },
         "marker": {
          "size": 5
         },
         "mode": "lines+markers",
         "name": "Exponential Smoothing",
         "showlegend": false,
         "type": "scattergl",
         "x": [
          0.004807692307692308,
          0.009615384615384616,
          0.014423076923076924,
          0.019230769230769232,
          0.02403846153846154,
          0.028846153846153848,
          0.03365384615384616,
          0.038461538461538464,
          0.04326923076923077,
          0.04807692307692308,
          0.05288461538461539,
          0.057692307692307696,
          0.0625,
          0.06730769230769232,
          0.07211538461538462,
          0.07692307692307693,
          0.08173076923076923,
          0.08653846153846154,
          0.09134615384615385,
          0.09615384615384616,
          0.10096153846153846,
          0.10576923076923078,
          0.11057692307692309,
          0.11538461538461539,
          0.1201923076923077,
          0.125,
          0.12980769230769232,
          0.13461538461538464,
          0.13942307692307693,
          0.14423076923076925,
          0.14903846153846154,
          0.15384615384615385,
          0.15865384615384617,
          0.16346153846153846,
          0.16826923076923078,
          0.17307692307692307,
          0.1778846153846154,
          0.1826923076923077,
          0.1875,
          0.19230769230769232,
          0.19711538461538464,
          0.20192307692307693,
          0.20673076923076925,
          0.21153846153846156,
          0.21634615384615385,
          0.22115384615384617,
          0.22596153846153846,
          0.23076923076923078,
          0.2355769230769231,
          0.2403846153846154,
          0.2451923076923077,
          0.25,
          0.25480769230769235,
          0.25961538461538464,
          0.2644230769230769,
          0.2692307692307693,
          0.27403846153846156,
          0.27884615384615385,
          0.28365384615384615,
          0.2884615384615385,
          0.2932692307692308,
          0.2980769230769231,
          0.3028846153846154,
          0.3076923076923077,
          0.3125,
          0.31730769230769235,
          0.32211538461538464,
          0.3269230769230769,
          0.3317307692307693,
          0.33653846153846156,
          0.34134615384615385,
          0.34615384615384615,
          0.3509615384615385,
          0.3557692307692308,
          0.3605769230769231,
          0.3653846153846154,
          0.3701923076923077,
          0.375,
          0.37980769230769235,
          0.38461538461538464,
          0.3894230769230769,
          0.3942307692307693,
          0.39903846153846156,
          0.40384615384615385,
          0.4086538461538462,
          0.4134615384615385,
          0.4182692307692308,
          0.42307692307692313,
          0.4278846153846154,
          0.4326923076923077,
          0.4375,
          0.44230769230769235,
          0.44711538461538464,
          0.4519230769230769,
          0.4567307692307693,
          0.46153846153846156,
          0.46634615384615385,
          0.4711538461538462,
          0.4759615384615385,
          0.4807692307692308,
          0.48557692307692313,
          0.4903846153846154,
          0.4951923076923077,
          0.5
         ],
         "xaxis": "x2",
         "y": [
          25.85288074529405,
          11.461071244723913,
          19.563431518102806,
          27.099644085196083,
          30.78878031650418,
          29.520462782879513,
          28.035884124937482,
          34.320903938736244,
          34.134205077084665,
          30.688211995782186,
          34.85513120316292,
          32.40909428069731,
          24.74073381839579,
          31.107130494144883,
          28.036472033292135,
          26.446231793459347,
          34.50596056296489,
          36.079363433477006,
          32.73294404986185,
          21.136794447732818,
          33.00902340409272,
          33.50870471485518,
          23.989002311032866,
          16.029673500324865,
          35.806933257133,
          40.32355961041573,
          38.72197436482299,
          35.02138102836217,
          36.16010572977317,
          34.9855822250634,
          31.481064642512745,
          25.65844281268097,
          35.60430459387041,
          37.56896487746238,
          35.427802535852685,
          28.84611920284621,
          28.077255819114203,
          20.02475669479952,
          14.425317020194797,
          19.081010931395227,
          22.8044835043888,
          33.49071534770697,
          36.88532106115503,
          35.93030663109379,
          30.26166155256195,
          28.72586380378555,
          38.91100028512851,
          40.97576528663794,
          36.932766713782485,
          30.225423522131443,
          29.418111379456416,
          29.85662409434652,
          34.34670240448553,
          33.61426549993796,
          30.66488447655673,
          29.606729229819322,
          33.70799207257197,
          35.49314222295083,
          29.0153663522376,
          30.047925490195894,
          37.062220093876775,
          36.97593904268644,
          33.235797136626076,
          28.960574294183363,
          22.862494498922864,
          27.08103207661069,
          24.144603850912347,
          25.15927364395059,
          30.33901144094758,
          33.52239675199742,
          33.37145531491607,
          32.62434412298059,
          31.385322712682854,
          28.698734622115314,
          -14.075774880278601,
          32.77387727106567,
          36.934684988319844,
          36.7797840368877,
          35.06824364396357,
          29.979055616227765,
          13.08332872532473,
          29.085829548415504,
          34.8941756653485,
          31.279925863048895,
          33.05724367010664,
          39.99898868839282,
          40.04666917279191,
          30.24115814159044,
          33.497056839663436,
          36.547181024678025,
          31.38057727890395,
          24.69204696165051,
          33.22711415736363,
          35.40686772683635,
          33.439164558193035,
          23.841246956420182,
          26.67790848152981,
          35.09423713777937,
          33.29739506848945,
          28.49879233949872,
          29.767178788662626,
          24.377430368422267,
          23.6332221806396,
          25.4862694659132
         ],
         "yaxis": "y2"
        },
        {
         "alignmentgroup": "True",
         "bingroup": "x",
         "hovertemplate": "variable=Exponential Smoothing<br>value=%{x}<br>count=%{y}<extra></extra>",
         "legendgroup": "Exponential Smoothing",
         "marker": {
          "color": "#1f77b4",
          "pattern": {
           "shape": ""
          }
         },
         "name": "Exponential Smoothing",
         "offsetgroup": "Exponential Smoothing",
         "orientation": "v",
         "showlegend": false,
         "type": "histogram",
         "x": [
          -0.00046299999999632746,
          9.300268000000003,
          21.957612999999995,
          -16.80572199999999,
          -10.092906999999997,
          -7.012594000000007,
          -5.164512000000002,
          -8.164355,
          5.8287559999999985,
          25.028273,
          -4.7031709999999975,
          -9.37164199999998,
          -1.6406570000000045,
          12.787682000000018,
          4.429256000000009,
          9.805453999999997,
          2.1708399999999983,
          -8.666344999999978,
          -31.927414,
          7.389989999999983,
          -20.350156999999996,
          -20.335499999999996,
          14.258377999999993,
          -16.032699999999977,
          4.773853000000003,
          7.562314000000015,
          18.311126,
          2.0899440000000027,
          -24.224378,
          17.860806999999994,
          -14.189749000000006,
          -2.8649079999999856,
          -17.508081000000004,
          12.010807999999997,
          7.551844000000017,
          -10.060351000000026,
          17.565274000000016,
          28.020358999999985,
          36.40235100000001,
          -12.53376800000001,
          -19.90850999999998,
          -66.308066,
          -38.959979000000004,
          -23.394040000000018,
          49.734634,
          11.130280999999968,
          -30.66192000000001,
          -19.33769399999997,
          8.92506400000002,
          -35.22483600000001,
          -44.98263700000001,
          -37.18937199999999,
          26.709773,
          33.51425999999998,
          10.083944000000002,
          16.581308000000007,
          10.321481999999975,
          27.513500000000022,
          -10.735788000000014,
          17.20274999999998,
          25.447870999999992,
          17.426972000000006,
          -8.545231999999999,
          28.57887900000003,
          7.314192999999989,
          -44.141035999999986,
          8.077103000000022,
          16.030941999999982,
          -48.84300200000001,
          -24.915377999999976,
          -25.721107000000018,
          30.74165500000001,
          -6.270470999999986,
          38.221472999999975,
          31.887400000000014,
          -28.373951999999974,
          7.785388000000012,
          2.798569000000043,
          21.714719000000002,
          -23.114524000000017,
          -45.90603900000002,
          -1.2153199999999629,
          -20.026564000000036,
          51.91099,
          -12.884436999999991,
          -17.026929000000052,
          26.07790799999998,
          9.452195000000017,
          24.261025000000018,
          -53.19746300000003,
          36.35614799999996,
          14.791883000000041,
          -44.318877999999984,
          -11.582666000000017,
          -10.828086999999982,
          26.520787999999982,
          42.988178000000005,
          41.588971000000015,
          -59.02752099999998,
          2.0104460000000017,
          -10.07996300000002,
          15.054835999999966,
          36.02230700000001,
          1.5462019999999939,
          2.772492999999997,
          13.002550999999983,
          -10.440230999999983,
          -19.331594999999993,
          -7.080563999999981,
          10.781601999999964,
          70.06138600000003,
          3.044760999999994,
          10.260794000000033,
          6.5642500000000155,
          22.65371099999993,
          -53.09149500000001,
          -53.467795000000024,
          20.12132699999995,
          1.978482999999983,
          -24.940711999999962,
          15.247605000000021,
          12.86207300000001,
          -40.55680499999994,
          -43.822075999999925,
          -26.207127000000014,
          -8.84438799999998,
          52.62412000000006,
          1.4662120000000414,
          -14.984479999999962,
          -7.859377999999992,
          -23.580822000000012,
          105.26099999999997,
          -1.7733929999999418,
          11.332994999999983,
          97.89309000000003,
          4.096275999999989,
          -15.204889999999978,
          -63.14058,
          -50.975828999999976,
          62.56422400000008,
          -70.56732699999998,
          25.673075999999924,
          -61.56227100000001,
          57.33620200000007,
          9.454575999999975,
          24.60339799999997,
          -2.1596759999999904,
          -50.37349500000005,
          19.489209999999957,
          -43.06989799999997,
          43.30499299999997,
          17.243087999999943,
          80.91240700000003,
          49.104827,
          -81.85120700000004,
          -56.78250000000003,
          14.275890000000004,
          27.070470999999998,
          51.16153899999995,
          -0.7282560000001013,
          27.16806100000008,
          34.85047099999997,
          -80.33005600000001,
          -91.22519499999999,
          -22.055382999999892,
          85.68579999999997,
          43.467685000000074,
          11.098970999999892,
          19.64934900000003,
          -9.154970999999932,
          -157.14374399999997,
          -6.939975999999888,
          -60.78093899999999,
          19.902514999999994,
          29.42184899999984,
          103.43038000000001,
          -0.30773900000008325,
          -123.97600000000011,
          -7.786399999999958,
          48.92035099999998,
          -19.335851000000048,
          67.95711499999993,
          50.18384900000001,
          19.307285000000093,
          41.95131500000002,
          -10.251670999999988,
          -21.65495399999986,
          -229.34044900000004,
          173.7097510000001,
          99.09599500000013,
          -22.650450999999975,
          -39.52984900000001,
          168.98102900000004,
          -124.11152399999992,
          84.69544600000017,
          131.34062399999993,
          0.8904149999998481,
          -2.49675400000001,
          167.03061200000002,
          73.9576199999999,
          153.375,
          -5.652668000000176,
          47.06723899999997,
          41.447087999999894,
          134.4122510000002,
          -117.5278800000001,
          -25.571258999999827,
          -63.7413489999999
         ],
         "xaxis": "x3",
         "yaxis": "y3"
        },
        {
         "marker": {
          "color": "#1f77b4"
         },
         "mode": "markers",
         "name": "Exponential Smoothing",
         "showlegend": false,
         "type": "scattergl",
         "x": [
          -2.5910133475112134,
          -2.342817231073093,
          -2.1874713296715242,
          -2.0718705835106133,
          -1.978725769594174,
          -1.9001284274653638,
          -1.8317703264922258,
          -1.7710341446497737,
          -1.7162056913282022,
          -1.6660985871825276,
          -1.6198562586382699,
          -1.576839171427816,
          -1.5365566550966396,
          -1.49862365740974,
          -1.4627322064021984,
          -1.428631943813879,
          -1.396116466898794,
          -1.3650135100729899,
          -1.335177736118937,
          -1.3064853441475544,
          -1.2788299695506664,
          -1.2521195202652196,
          -1.2262737031392175,
          -1.2012220667158267,
          -1.1769024358101086,
          -1.1532596470635221,
          -1.1302445183629746,
          -1.1078130018857104,
          -1.0859254827169322,
          -1.0645461939020782,
          -1.0436427253969442,
          -1.0231856093215057,
          -1.0031479676625337,
          -0.9835052114262516,
          -0.9642347824435541,
          -0.9453159307411547,
          -0.9267295217321844,
          -0.9084578685373851,
          -0.8904845855884436,
          -0.8727944603372415,
          -0.8553733404358477,
          -0.8382080341900643,
          -0.8212862224459222,
          -0.8045963803603002,
          -0.7881277077468496,
          -0.7718700668867107,
          -0.7558139268581588,
          -0.7399503135765564,
          -0.7242707648509072,
          -0.7087672898598758,
          -0.6934323325316033,
          -0.678258738380641,
          -0.6632397244139213,
          -0.6483688517676478,
          -0.6336400007797011,
          -0.6190473482388075,
          -0.6045853465832371,
          -0.590248704848993,
          -0.5760323711909816,
          -0.5619315168210562,
          -0.5479415212245718,
          -0.5340579585325455,
          -0.5202765849400357,
          -0.5065933270731819,
          -0.49300427121772283,
          -0.4795056533309502,
          -0.46609384976709306,
          -0.4527653686532363,
          -0.4395168418591543,
          -0.426345017510018,
          -0.4132467529958682,
          -0.40021900843614844,
          -0.38725884056150894,
          -0.374363396978578,
          -0.3615299107865279,
          -0.3487556955170447,
          -0.33603814037182317,
          -0.3233747057339404,
          -0.31076291893149,
          -0.29820037023365736,
          -0.28568470906106197,
          -0.273213640393649,
          -0.26078492136074716,
          -0.24839635799910353,
          -0.23604580216578144,
          -0.2237311485937921,
          -0.21145033207920208,
          -0.199201324789267,
          -0.1869821336818511,
          -0.174790798027054,
          -0.16262538702254586,
          -0.15048399749464705,
          -0.13836475167766757,
          -0.1262657950644469,
          -0.11418529432142838,
          -0.10212143526194001,
          -0.0900724208716704,
          -0.07803646938059285,
          -0.06601181237584074,
          -0.05399669295023898,
          -0.04198936388138645,
          -0.029988085836331776,
          -0.01799112559701804,
          -0.005996754301776433,
          0.005996754301776294,
          0.01799112559701804,
          0.029988085836331776,
          0.0419893638813866,
          0.05399669295023884,
          0.0660118123758406,
          0.07803646938059285,
          0.0900724208716704,
          0.10212143526194015,
          0.11418529432142824,
          0.1262657950644469,
          0.13836475167766757,
          0.1504839974946472,
          0.16262538702254573,
          0.174790798027054,
          0.1869821336818511,
          0.199201324789267,
          0.21145033207920222,
          0.22373114859379195,
          0.23604580216578144,
          0.24839635799910353,
          0.2607849213607473,
          0.2732136403936488,
          0.28568470906106197,
          0.29820037023365736,
          0.31076291893149,
          0.32337470573394056,
          0.33603814037182306,
          0.3487556955170447,
          0.3615299107865279,
          0.3743633969785781,
          0.3872588405615087,
          0.40021900843614844,
          0.4132467529958682,
          0.4263450175100182,
          0.4395168418591544,
          0.45276536865323613,
          0.46609384976709306,
          0.4795056533309502,
          0.49300427121772294,
          0.5065933270731818,
          0.5202765849400357,
          0.5340579585325455,
          0.547941521224572,
          0.5619315168210561,
          0.5760323711909814,
          0.590248704848993,
          0.6045853465832371,
          0.6190473482388076,
          0.633640000779701,
          0.6483688517676478,
          0.6632397244139213,
          0.678258738380641,
          0.6934323325316032,
          0.7087672898598758,
          0.7242707648509072,
          0.7399503135765564,
          0.7558139268581591,
          0.7718700668867107,
          0.7881277077468496,
          0.8045963803603002,
          0.8212862224459222,
          0.8382080341900642,
          0.8553733404358477,
          0.8727944603372415,
          0.8904845855884436,
          0.9084578685373853,
          0.9267295217321844,
          0.9453159307411547,
          0.9642347824435541,
          0.9835052114262516,
          1.0031479676625337,
          1.0231856093215057,
          1.0436427253969442,
          1.0645461939020782,
          1.0859254827169325,
          1.1078130018857104,
          1.1302445183629746,
          1.1532596470635221,
          1.1769024358101086,
          1.2012220667158267,
          1.2262737031392175,
          1.2521195202652196,
          1.2788299695506664,
          1.3064853441475544,
          1.3351777361189363,
          1.3650135100729899,
          1.396116466898794,
          1.4286319438138795,
          1.4627322064021984,
          1.4986236574097394,
          1.5365566550966396,
          1.5768391714278163,
          1.6198562586382697,
          1.6660985871825276,
          1.7162056913282022,
          1.7710341446497737,
          1.831770326492226,
          1.9001284274653634,
          1.9787257695941736,
          2.0718705835106133,
          2.1874713296715247,
          2.342817231073091,
          2.5910133475112116
         ],
         "xaxis": "x4",
         "y": [
          -229.34044900000004,
          -157.14374399999997,
          -124.11152399999992,
          -123.97600000000011,
          -117.5278800000001,
          -91.22519499999999,
          -81.85120700000004,
          -80.33005600000001,
          -70.56732699999998,
          -66.308066,
          -63.7413489999999,
          -63.14058,
          -61.56227100000001,
          -60.78093899999999,
          -59.02752099999998,
          -56.78250000000003,
          -53.467795000000024,
          -53.19746300000003,
          -53.09149500000001,
          -50.975828999999976,
          -50.37349500000005,
          -48.84300200000001,
          -45.90603900000002,
          -44.98263700000001,
          -44.318877999999984,
          -44.141035999999986,
          -43.822075999999925,
          -43.06989799999997,
          -40.55680499999994,
          -39.52984900000001,
          -38.959979000000004,
          -37.18937199999999,
          -35.22483600000001,
          -31.927414,
          -30.66192000000001,
          -28.373951999999974,
          -26.207127000000014,
          -25.721107000000018,
          -25.571258999999827,
          -24.940711999999962,
          -24.915377999999976,
          -24.224378,
          -23.580822000000012,
          -23.394040000000018,
          -23.114524000000017,
          -22.650450999999975,
          -22.055382999999892,
          -21.65495399999986,
          -20.350156999999996,
          -20.335499999999996,
          -20.026564000000036,
          -19.90850999999998,
          -19.33769399999997,
          -19.335851000000048,
          -19.331594999999993,
          -17.508081000000004,
          -17.026929000000052,
          -16.80572199999999,
          -16.032699999999977,
          -15.204889999999978,
          -14.984479999999962,
          -14.189749000000006,
          -12.884436999999991,
          -12.53376800000001,
          -11.582666000000017,
          -10.828086999999982,
          -10.735788000000014,
          -10.440230999999983,
          -10.251670999999988,
          -10.092906999999997,
          -10.07996300000002,
          -10.060351000000026,
          -9.37164199999998,
          -9.154970999999932,
          -8.84438799999998,
          -8.666344999999978,
          -8.545231999999999,
          -8.164355,
          -7.859377999999992,
          -7.786399999999958,
          -7.080563999999981,
          -7.012594000000007,
          -6.939975999999888,
          -6.270470999999986,
          -5.652668000000176,
          -5.164512000000002,
          -4.7031709999999975,
          -2.8649079999999856,
          -2.49675400000001,
          -2.1596759999999904,
          -1.7733929999999418,
          -1.6406570000000045,
          -1.2153199999999629,
          -0.7282560000001013,
          -0.30773900000008325,
          -0.00046299999999632746,
          0.8904149999998481,
          1.4662120000000414,
          1.5462019999999939,
          1.978482999999983,
          2.0104460000000017,
          2.0899440000000027,
          2.1708399999999983,
          2.772492999999997,
          2.798569000000043,
          3.044760999999994,
          4.096275999999989,
          4.429256000000009,
          4.773853000000003,
          5.8287559999999985,
          6.5642500000000155,
          7.314192999999989,
          7.389989999999983,
          7.551844000000017,
          7.562314000000015,
          7.785388000000012,
          8.077103000000022,
          8.92506400000002,
          9.300268000000003,
          9.452195000000017,
          9.454575999999975,
          9.805453999999997,
          10.083944000000002,
          10.260794000000033,
          10.321481999999975,
          10.781601999999964,
          11.098970999999892,
          11.130280999999968,
          11.332994999999983,
          12.010807999999997,
          12.787682000000018,
          12.86207300000001,
          13.002550999999983,
          14.258377999999993,
          14.275890000000004,
          14.791883000000041,
          15.054835999999966,
          15.247605000000021,
          16.030941999999982,
          16.581308000000007,
          17.20274999999998,
          17.243087999999943,
          17.426972000000006,
          17.565274000000016,
          17.860806999999994,
          18.311126,
          19.307285000000093,
          19.489209999999957,
          19.64934900000003,
          19.902514999999994,
          20.12132699999995,
          21.714719000000002,
          21.957612999999995,
          22.65371099999993,
          24.261025000000018,
          24.60339799999997,
          25.028273,
          25.447870999999992,
          25.673075999999924,
          26.07790799999998,
          26.520787999999982,
          26.709773,
          27.070470999999998,
          27.16806100000008,
          27.513500000000022,
          28.020358999999985,
          28.57887900000003,
          29.42184899999984,
          30.74165500000001,
          31.887400000000014,
          33.51425999999998,
          34.85047099999997,
          36.02230700000001,
          36.35614799999996,
          36.40235100000001,
          38.221472999999975,
          41.447087999999894,
          41.588971000000015,
          41.95131500000002,
          42.988178000000005,
          43.30499299999997,
          43.467685000000074,
          47.06723899999997,
          48.92035099999998,
          49.104827,
          49.734634,
          50.18384900000001,
          51.16153899999995,
          51.91099,
          52.62412000000006,
          57.33620200000007,
          62.56422400000008,
          67.95711499999993,
          70.06138600000003,
          73.9576199999999,
          80.91240700000003,
          84.69544600000017,
          85.68579999999997,
          97.89309000000003,
          99.09599500000013,
          103.43038000000001,
          105.26099999999997,
          131.34062399999993,
          134.4122510000002,
          153.375,
          167.03061200000002,
          168.98102900000004,
          173.7097510000001
         ],
         "yaxis": "y4"
        },
        {
         "line": {
          "color": "#3f3f3f"
         },
         "mode": "lines",
         "name": "Exponential Smoothing",
         "showlegend": false,
         "type": "scattergl",
         "x": [
          -2.5910133475112134,
          -2.342817231073093,
          -2.1874713296715242,
          -2.0718705835106133,
          -1.978725769594174,
          -1.9001284274653638,
          -1.8317703264922258,
          -1.7710341446497737,
          -1.7162056913282022,
          -1.6660985871825276,
          -1.6198562586382699,
          -1.576839171427816,
          -1.5365566550966396,
          -1.49862365740974,
          -1.4627322064021984,
          -1.428631943813879,
          -1.396116466898794,
          -1.3650135100729899,
          -1.335177736118937,
          -1.3064853441475544,
          -1.2788299695506664,
          -1.2521195202652196,
          -1.2262737031392175,
          -1.2012220667158267,
          -1.1769024358101086,
          -1.1532596470635221,
          -1.1302445183629746,
          -1.1078130018857104,
          -1.0859254827169322,
          -1.0645461939020782,
          -1.0436427253969442,
          -1.0231856093215057,
          -1.0031479676625337,
          -0.9835052114262516,
          -0.9642347824435541,
          -0.9453159307411547,
          -0.9267295217321844,
          -0.9084578685373851,
          -0.8904845855884436,
          -0.8727944603372415,
          -0.8553733404358477,
          -0.8382080341900643,
          -0.8212862224459222,
          -0.8045963803603002,
          -0.7881277077468496,
          -0.7718700668867107,
          -0.7558139268581588,
          -0.7399503135765564,
          -0.7242707648509072,
          -0.7087672898598758,
          -0.6934323325316033,
          -0.678258738380641,
          -0.6632397244139213,
          -0.6483688517676478,
          -0.6336400007797011,
          -0.6190473482388075,
          -0.6045853465832371,
          -0.590248704848993,
          -0.5760323711909816,
          -0.5619315168210562,
          -0.5479415212245718,
          -0.5340579585325455,
          -0.5202765849400357,
          -0.5065933270731819,
          -0.49300427121772283,
          -0.4795056533309502,
          -0.46609384976709306,
          -0.4527653686532363,
          -0.4395168418591543,
          -0.426345017510018,
          -0.4132467529958682,
          -0.40021900843614844,
          -0.38725884056150894,
          -0.374363396978578,
          -0.3615299107865279,
          -0.3487556955170447,
          -0.33603814037182317,
          -0.3233747057339404,
          -0.31076291893149,
          -0.29820037023365736,
          -0.28568470906106197,
          -0.273213640393649,
          -0.26078492136074716,
          -0.24839635799910353,
          -0.23604580216578144,
          -0.2237311485937921,
          -0.21145033207920208,
          -0.199201324789267,
          -0.1869821336818511,
          -0.174790798027054,
          -0.16262538702254586,
          -0.15048399749464705,
          -0.13836475167766757,
          -0.1262657950644469,
          -0.11418529432142838,
          -0.10212143526194001,
          -0.0900724208716704,
          -0.07803646938059285,
          -0.06601181237584074,
          -0.05399669295023898,
          -0.04198936388138645,
          -0.029988085836331776,
          -0.01799112559701804,
          -0.005996754301776433,
          0.005996754301776294,
          0.01799112559701804,
          0.029988085836331776,
          0.0419893638813866,
          0.05399669295023884,
          0.0660118123758406,
          0.07803646938059285,
          0.0900724208716704,
          0.10212143526194015,
          0.11418529432142824,
          0.1262657950644469,
          0.13836475167766757,
          0.1504839974946472,
          0.16262538702254573,
          0.174790798027054,
          0.1869821336818511,
          0.199201324789267,
          0.21145033207920222,
          0.22373114859379195,
          0.23604580216578144,
          0.24839635799910353,
          0.2607849213607473,
          0.2732136403936488,
          0.28568470906106197,
          0.29820037023365736,
          0.31076291893149,
          0.32337470573394056,
          0.33603814037182306,
          0.3487556955170447,
          0.3615299107865279,
          0.3743633969785781,
          0.3872588405615087,
          0.40021900843614844,
          0.4132467529958682,
          0.4263450175100182,
          0.4395168418591544,
          0.45276536865323613,
          0.46609384976709306,
          0.4795056533309502,
          0.49300427121772294,
          0.5065933270731818,
          0.5202765849400357,
          0.5340579585325455,
          0.547941521224572,
          0.5619315168210561,
          0.5760323711909814,
          0.590248704848993,
          0.6045853465832371,
          0.6190473482388076,
          0.633640000779701,
          0.6483688517676478,
          0.6632397244139213,
          0.678258738380641,
          0.6934323325316032,
          0.7087672898598758,
          0.7242707648509072,
          0.7399503135765564,
          0.7558139268581591,
          0.7718700668867107,
          0.7881277077468496,
          0.8045963803603002,
          0.8212862224459222,
          0.8382080341900642,
          0.8553733404358477,
          0.8727944603372415,
          0.8904845855884436,
          0.9084578685373853,
          0.9267295217321844,
          0.9453159307411547,
          0.9642347824435541,
          0.9835052114262516,
          1.0031479676625337,
          1.0231856093215057,
          1.0436427253969442,
          1.0645461939020782,
          1.0859254827169325,
          1.1078130018857104,
          1.1302445183629746,
          1.1532596470635221,
          1.1769024358101086,
          1.2012220667158267,
          1.2262737031392175,
          1.2521195202652196,
          1.2788299695506664,
          1.3064853441475544,
          1.3351777361189363,
          1.3650135100729899,
          1.396116466898794,
          1.4286319438138795,
          1.4627322064021984,
          1.4986236574097394,
          1.5365566550966396,
          1.5768391714278163,
          1.6198562586382697,
          1.6660985871825276,
          1.7162056913282022,
          1.7710341446497737,
          1.831770326492226,
          1.9001284274653634,
          1.9787257695941736,
          2.0718705835106133,
          2.1874713296715247,
          2.342817231073091,
          2.5910133475112116
         ],
         "xaxis": "x4",
         "y": [
          -125.27370161661975,
          -112.93909901842015,
          -105.21887363155288,
          -99.47386325663962,
          -94.84484536453665,
          -90.93879318956111,
          -87.54160059053238,
          -84.52319451267012,
          -81.79838482386046,
          -79.30821202884178,
          -77.01010698999438,
          -74.87228677230645,
          -72.87036652580484,
          -70.98521030925708,
          -69.201512839675,
          -67.5068320624033,
          -65.89091038000865,
          -64.3451867096268,
          -62.8624382274413,
          -61.43651240056798,
          -60.06212322698877,
          -58.73469400737206,
          -57.45023441287854,
          -56.20524321740128,
          -54.996630500724415,
          -53.82165480937416,
          -52.6778719398366,
          -51.563092847428834,
          -50.47534878969833,
          -49.41286225627545,
          -48.37402256516735,
          -47.35736525111673,
          -46.36155455747854,
          -45.38536848500931,
          -44.427685960360854,
          -43.48747577209408,
          -42.56378698862996,
          -41.6557406251158,
          -40.76252236794995,
          -39.88337619911634,
          -39.01759878936846,
          -38.16453455106916,
          -37.32357125921371,
          -36.494136163664265,
          -35.67569252755116,
          -34.86773653665208,
          -34.069794532742414,
          -33.28142053073069,
          -32.50219398510419,
          -31.73171777600857,
          -30.969616389334586,
          -30.215534268613137,
          -29.46913431943229,
          -28.730096549572774,
          -27.998116830181328,
          -27.272905765122598,
          -26.554187657216836,
          -25.841699561422026,
          -25.135190416188486,
          -24.43442024522782,
          -23.739159422819988,
          -23.04918799655059,
          -22.364295062042043,
          -21.684278184830312,
          -21.00894286505461,
          -20.33810204108144,
          -19.671575628584012,
          -19.009190091951254,
          -18.35077804521263,
          -17.696177879942148,
          -17.04523341785014,
          -16.397793585990147,
          -15.75371211270293,
          -15.112847242592794,
          -14.475061468987084,
          -13.840221282467839,
          -13.208196934189589,
          -12.57886221280807,
          -11.952094233945564,
          -11.32777324120784,
          -10.705782417849534,
          -10.086007708257133,
          -9.468337648485088,
          -8.85266320513985,
          -8.23887762196017,
          -7.62687627349081,
          -7.016556525290236,
          -6.407817600152914,
          -5.800560449862223,
          -5.1946876320227275,
          -4.590103191549488,
          -3.986712546418619,
          -3.384422377307113,
          -2.783140520771124,
          -2.18277586563141,
          -1.5832382522514767,
          -0.984438374409645,
          -0.38628768347946396,
          0.21130170535471926,
          0.8084171051101987,
          1.405145347500047,
          2.001572872155348,
          2.5977858148152695,
          3.1938700947195566,
          3.789911501434288,
          4.385995781338582,
          4.982208723998504,
          5.578636248653812,
          6.175364491043646,
          6.772479890799125,
          7.370069279633315,
          7.968219970563496,
          8.567019848405335,
          9.166557461785255,
          9.766922116924976,
          10.368203973460965,
          10.970494142572477,
          11.573884787703333,
          12.178469228176578,
          12.784342046016073,
          13.391599196306764,
          14.000338121444091,
          14.610657869644653,
          15.22265921811402,
          15.8364448012937,
          16.452119244638947,
          17.069789304410975,
          17.689564014003384,
          18.31155483736169,
          18.935875830099416,
          19.56264380896193,
          20.191978530343434,
          20.82400287862169,
          21.458843065140936,
          22.096628838746653,
          22.73749370885677,
          23.381575182144,
          24.029015014003996,
          24.679959476096013,
          25.33455964136649,
          25.992971688105097,
          26.655357224737866,
          27.321883637235295,
          27.99272446120847,
          28.668059780984162,
          29.348076658195897,
          30.032969592704443,
          30.72294101897385,
          31.418201841381666,
          32.118972012342326,
          32.82548115757588,
          33.53796925337069,
          34.256687361276455,
          34.98189842633518,
          35.713878145726625,
          36.45291591558614,
          37.19931586476699,
          37.95339798548843,
          38.71549937216242,
          39.48597558125804,
          40.26520212688454,
          41.05357612889627,
          41.85151813280593,
          42.65947412370501,
          43.47791775981811,
          44.307352855367554,
          45.148316147223,
          46.00138038552231,
          46.86715779527019,
          47.746303964103795,
          48.63952222126966,
          49.547568584783804,
          50.471257368247926,
          51.4114675565147,
          52.369150081163156,
          53.34533615363239,
          54.34114684727058,
          55.3578041613212,
          56.3966438524293,
          57.459130385852184,
          58.54687444358268,
          59.661653535990446,
          60.805436405528006,
          61.98041209687826,
          63.18902481355513,
          64.43401600903239,
          65.71847560352592,
          67.04590482314262,
          68.42029399672182,
          69.84621982359512,
          71.32896830578065,
          72.8746919761625,
          74.49061365855717,
          76.18529443582885,
          77.9689919054109,
          79.85414812195869,
          81.85606836846031,
          83.99388858614822,
          86.29199362499563,
          88.7821664200143,
          91.50697610882396,
          94.52538218668623,
          97.92257478571494,
          101.82862696069049,
          106.45764485279346,
          112.20265522770676,
          119.92288061457391,
          132.2574832127735
         ],
         "yaxis": "y4"
        },
        {
         "line": {
          "color": "#3f3f3f"
         },
         "mode": "lines",
         "name": "ACF",
         "showlegend": false,
         "type": "scattergl",
         "x": [
          0,
          0
         ],
         "xaxis": "x5",
         "y": [
          0,
          1
         ],
         "yaxis": "y5"
        },
        {
         "line": {
          "color": "#3f3f3f"
         },
         "mode": "lines",
         "name": "ACF",
         "showlegend": false,
         "type": "scattergl",
         "x": [
          1,
          1
         ],
         "xaxis": "x5",
         "y": [
          0,
          -0.01742536293800668
         ],
         "yaxis": "y5"
        },
        {
         "line": {
          "color": "#3f3f3f"
         },
         "mode": "lines",
         "name": "ACF",
         "showlegend": false,
         "type": "scattergl",
         "x": [
          2,
          2
         ],
         "xaxis": "x5",
         "y": [
          0,
          -0.05017565739471864
         ],
         "yaxis": "y5"
        },
        {
         "line": {
          "color": "#3f3f3f"
         },
         "mode": "lines",
         "name": "ACF",
         "showlegend": false,
         "type": "scattergl",
         "x": [
          3,
          3
         ],
         "xaxis": "x5",
         "y": [
          0,
          -0.029218175226971344
         ],
         "yaxis": "y5"
        },
        {
         "line": {
          "color": "#3f3f3f"
         },
         "mode": "lines",
         "name": "ACF",
         "showlegend": false,
         "type": "scattergl",
         "x": [
          4,
          4
         ],
         "xaxis": "x5",
         "y": [
          0,
          0.04927887627806665
         ],
         "yaxis": "y5"
        },
        {
         "line": {
          "color": "#3f3f3f"
         },
         "mode": "lines",
         "name": "ACF",
         "showlegend": false,
         "type": "scattergl",
         "x": [
          5,
          5
         ],
         "xaxis": "x5",
         "y": [
          0,
          -0.16468219573255383
         ],
         "yaxis": "y5"
        },
        {
         "line": {
          "color": "#3f3f3f"
         },
         "mode": "lines",
         "name": "ACF",
         "showlegend": false,
         "type": "scattergl",
         "x": [
          6,
          6
         ],
         "xaxis": "x5",
         "y": [
          0,
          0.10656387982403782
         ],
         "yaxis": "y5"
        },
        {
         "line": {
          "color": "#3f3f3f"
         },
         "mode": "lines",
         "name": "ACF",
         "showlegend": false,
         "type": "scattergl",
         "x": [
          7,
          7
         ],
         "xaxis": "x5",
         "y": [
          0,
          0.076265379101477
         ],
         "yaxis": "y5"
        },
        {
         "line": {
          "color": "#3f3f3f"
         },
         "mode": "lines",
         "name": "ACF",
         "showlegend": false,
         "type": "scattergl",
         "x": [
          8,
          8
         ],
         "xaxis": "x5",
         "y": [
          0,
          0.07436126392477198
         ],
         "yaxis": "y5"
        },
        {
         "line": {
          "color": "#3f3f3f"
         },
         "mode": "lines",
         "name": "ACF",
         "showlegend": false,
         "type": "scattergl",
         "x": [
          9,
          9
         ],
         "xaxis": "x5",
         "y": [
          0,
          0.053935253528095216
         ],
         "yaxis": "y5"
        },
        {
         "line": {
          "color": "#3f3f3f"
         },
         "mode": "lines",
         "name": "ACF",
         "showlegend": false,
         "type": "scattergl",
         "x": [
          10,
          10
         ],
         "xaxis": "x5",
         "y": [
          0,
          0.11654581598081568
         ],
         "yaxis": "y5"
        },
        {
         "line": {
          "color": "#3f3f3f"
         },
         "mode": "lines",
         "name": "ACF",
         "showlegend": false,
         "type": "scattergl",
         "x": [
          11,
          11
         ],
         "xaxis": "x5",
         "y": [
          0,
          -0.22757072814321214
         ],
         "yaxis": "y5"
        },
        {
         "line": {
          "color": "#3f3f3f"
         },
         "mode": "lines",
         "name": "ACF",
         "showlegend": false,
         "type": "scattergl",
         "x": [
          12,
          12
         ],
         "xaxis": "x5",
         "y": [
          0,
          -0.1417550630778653
         ],
         "yaxis": "y5"
        },
        {
         "line": {
          "color": "#3f3f3f"
         },
         "mode": "lines",
         "name": "ACF",
         "showlegend": false,
         "type": "scattergl",
         "x": [
          13,
          13
         ],
         "xaxis": "x5",
         "y": [
          0,
          -0.0678413203913655
         ],
         "yaxis": "y5"
        },
        {
         "line": {
          "color": "#3f3f3f"
         },
         "mode": "lines",
         "name": "ACF",
         "showlegend": false,
         "type": "scattergl",
         "x": [
          14,
          14
         ],
         "xaxis": "x5",
         "y": [
          0,
          0.12605457054652236
         ],
         "yaxis": "y5"
        },
        {
         "line": {
          "color": "#3f3f3f"
         },
         "mode": "lines",
         "name": "ACF",
         "showlegend": false,
         "type": "scattergl",
         "x": [
          15,
          15
         ],
         "xaxis": "x5",
         "y": [
          0,
          0.047748094303143064
         ],
         "yaxis": "y5"
        },
        {
         "line": {
          "color": "#3f3f3f"
         },
         "mode": "lines",
         "name": "ACF",
         "showlegend": false,
         "type": "scattergl",
         "x": [
          16,
          16
         ],
         "xaxis": "x5",
         "y": [
          0,
          0.06470521709643041
         ],
         "yaxis": "y5"
        },
        {
         "line": {
          "color": "#3f3f3f"
         },
         "mode": "lines",
         "name": "ACF",
         "showlegend": false,
         "type": "scattergl",
         "x": [
          17,
          17
         ],
         "xaxis": "x5",
         "y": [
          0,
          0.04074301040119839
         ],
         "yaxis": "y5"
        },
        {
         "line": {
          "color": "#3f3f3f"
         },
         "mode": "lines",
         "name": "ACF",
         "showlegend": false,
         "type": "scattergl",
         "x": [
          18,
          18
         ],
         "xaxis": "x5",
         "y": [
          0,
          -0.0699662188165709
         ],
         "yaxis": "y5"
        },
        {
         "line": {
          "color": "#3f3f3f"
         },
         "mode": "lines",
         "name": "ACF",
         "showlegend": false,
         "type": "scattergl",
         "x": [
          19,
          19
         ],
         "xaxis": "x5",
         "y": [
          0,
          -0.019826112487241636
         ],
         "yaxis": "y5"
        },
        {
         "line": {
          "color": "#3f3f3f"
         },
         "mode": "lines",
         "name": "ACF",
         "showlegend": false,
         "type": "scattergl",
         "x": [
          20,
          20
         ],
         "xaxis": "x5",
         "y": [
          0,
          -0.03635500161198253
         ],
         "yaxis": "y5"
        },
        {
         "line": {
          "color": "#3f3f3f"
         },
         "mode": "lines",
         "name": "ACF",
         "showlegend": false,
         "type": "scattergl",
         "x": [
          21,
          21
         ],
         "xaxis": "x5",
         "y": [
          0,
          -0.0008470984443541837
         ],
         "yaxis": "y5"
        },
        {
         "line": {
          "color": "#3f3f3f"
         },
         "mode": "lines",
         "name": "ACF",
         "showlegend": false,
         "type": "scattergl",
         "x": [
          22,
          22
         ],
         "xaxis": "x5",
         "y": [
          0,
          -0.02671732738936651
         ],
         "yaxis": "y5"
        },
        {
         "line": {
          "color": "#3f3f3f"
         },
         "mode": "lines",
         "name": "ACF",
         "showlegend": false,
         "type": "scattergl",
         "x": [
          23,
          23
         ],
         "xaxis": "x5",
         "y": [
          0,
          0.12732565569028786
         ],
         "yaxis": "y5"
        },
        {
         "line": {
          "color": "#3f3f3f"
         },
         "mode": "lines",
         "name": "ACF",
         "showlegend": false,
         "type": "scattergl",
         "x": [
          24,
          24
         ],
         "xaxis": "x5",
         "y": [
          0,
          0.06413957224714525
         ],
         "yaxis": "y5"
        },
        {
         "line": {
          "color": "#3f3f3f"
         },
         "mode": "lines",
         "name": "ACF",
         "showlegend": false,
         "type": "scattergl",
         "x": [
          25,
          25
         ],
         "xaxis": "x5",
         "y": [
          0,
          -0.023125867705005774
         ],
         "yaxis": "y5"
        },
        {
         "line": {
          "color": "#3f3f3f"
         },
         "mode": "lines",
         "name": "ACF",
         "showlegend": false,
         "type": "scattergl",
         "x": [
          26,
          26
         ],
         "xaxis": "x5",
         "y": [
          0,
          -0.07217437198339988
         ],
         "yaxis": "y5"
        },
        {
         "line": {
          "color": "#3f3f3f"
         },
         "mode": "lines",
         "name": "ACF",
         "showlegend": false,
         "type": "scattergl",
         "x": [
          27,
          27
         ],
         "xaxis": "x5",
         "y": [
          0,
          -0.037792851570175784
         ],
         "yaxis": "y5"
        },
        {
         "line": {
          "color": "#3f3f3f"
         },
         "mode": "lines",
         "name": "ACF",
         "showlegend": false,
         "type": "scattergl",
         "x": [
          28,
          28
         ],
         "xaxis": "x5",
         "y": [
          0,
          -0.10435208547883552
         ],
         "yaxis": "y5"
        },
        {
         "line": {
          "color": "#3f3f3f"
         },
         "mode": "lines",
         "name": "ACF",
         "showlegend": false,
         "type": "scattergl",
         "x": [
          29,
          29
         ],
         "xaxis": "x5",
         "y": [
          0,
          -0.015202573774125231
         ],
         "yaxis": "y5"
        },
        {
         "line": {
          "color": "#3f3f3f"
         },
         "mode": "lines",
         "name": "ACF",
         "showlegend": false,
         "type": "scattergl",
         "x": [
          30,
          30
         ],
         "xaxis": "x5",
         "y": [
          0,
          0.026897406202463017
         ],
         "yaxis": "y5"
        },
        {
         "line": {
          "color": "#3f3f3f"
         },
         "mode": "lines",
         "name": "ACF",
         "showlegend": false,
         "type": "scattergl",
         "x": [
          31,
          31
         ],
         "xaxis": "x5",
         "y": [
          0,
          0.03898905337289121
         ],
         "yaxis": "y5"
        },
        {
         "line": {
          "color": "#3f3f3f"
         },
         "mode": "lines",
         "name": "ACF",
         "showlegend": false,
         "type": "scattergl",
         "x": [
          32,
          32
         ],
         "xaxis": "x5",
         "y": [
          0,
          -0.024343721760978584
         ],
         "yaxis": "y5"
        },
        {
         "line": {
          "color": "#3f3f3f"
         },
         "mode": "lines",
         "name": "ACF",
         "showlegend": false,
         "type": "scattergl",
         "x": [
          33,
          33
         ],
         "xaxis": "x5",
         "y": [
          0,
          0.008229462551867399
         ],
         "yaxis": "y5"
        },
        {
         "line": {
          "color": "#3f3f3f"
         },
         "mode": "lines",
         "name": "ACF",
         "showlegend": false,
         "type": "scattergl",
         "x": [
          34,
          34
         ],
         "xaxis": "x5",
         "y": [
          0,
          -0.028030591700083252
         ],
         "yaxis": "y5"
        },
        {
         "line": {
          "color": "#3f3f3f"
         },
         "mode": "lines",
         "name": "ACF",
         "showlegend": false,
         "type": "scattergl",
         "x": [
          35,
          35
         ],
         "xaxis": "x5",
         "y": [
          0,
          0.011879933660536463
         ],
         "yaxis": "y5"
        },
        {
         "line": {
          "color": "#3f3f3f"
         },
         "mode": "lines",
         "name": "ACF",
         "showlegend": false,
         "type": "scattergl",
         "x": [
          36,
          36
         ],
         "xaxis": "x5",
         "y": [
          0,
          -0.02262651201189309
         ],
         "yaxis": "y5"
        },
        {
         "line": {
          "color": "#3f3f3f"
         },
         "mode": "lines",
         "name": "ACF",
         "showlegend": false,
         "type": "scattergl",
         "x": [
          37,
          37
         ],
         "xaxis": "x5",
         "y": [
          0,
          -0.04364572969283134
         ],
         "yaxis": "y5"
        },
        {
         "line": {
          "color": "#3f3f3f"
         },
         "mode": "lines",
         "name": "ACF",
         "showlegend": false,
         "type": "scattergl",
         "x": [
          38,
          38
         ],
         "xaxis": "x5",
         "y": [
          0,
          0.030114303947596354
         ],
         "yaxis": "y5"
        },
        {
         "line": {
          "color": "#3f3f3f"
         },
         "mode": "lines",
         "name": "ACF",
         "showlegend": false,
         "type": "scattergl",
         "x": [
          39,
          39
         ],
         "xaxis": "x5",
         "y": [
          0,
          0.03502672158154406
         ],
         "yaxis": "y5"
        },
        {
         "line": {
          "color": "#3f3f3f"
         },
         "mode": "lines",
         "name": "ACF",
         "showlegend": false,
         "type": "scattergl",
         "x": [
          40,
          40
         ],
         "xaxis": "x5",
         "y": [
          0,
          0.049765405704164434
         ],
         "yaxis": "y5"
        },
        {
         "marker": {
          "color": "#1f77b4",
          "size": 6
         },
         "mode": "markers",
         "name": "ACF",
         "showlegend": false,
         "type": "scattergl",
         "x": [
          0,
          1,
          2,
          3,
          4,
          5,
          6,
          7,
          8,
          9,
          10,
          11,
          12,
          13,
          14,
          15,
          16,
          17,
          18,
          19,
          20,
          21,
          22,
          23,
          24,
          25,
          26,
          27,
          28,
          29,
          30,
          31,
          32,
          33,
          34,
          35,
          36,
          37,
          38,
          39,
          40
         ],
         "xaxis": "x5",
         "y": [
          1,
          -0.01742536293800668,
          -0.05017565739471864,
          -0.029218175226971344,
          0.04927887627806665,
          -0.16468219573255383,
          0.10656387982403782,
          0.076265379101477,
          0.07436126392477198,
          0.053935253528095216,
          0.11654581598081568,
          -0.22757072814321214,
          -0.1417550630778653,
          -0.0678413203913655,
          0.12605457054652236,
          0.047748094303143064,
          0.06470521709643041,
          0.04074301040119839,
          -0.0699662188165709,
          -0.019826112487241636,
          -0.03635500161198253,
          -0.0008470984443541837,
          -0.02671732738936651,
          0.12732565569028786,
          0.06413957224714525,
          -0.023125867705005774,
          -0.07217437198339988,
          -0.037792851570175784,
          -0.10435208547883552,
          -0.015202573774125231,
          0.026897406202463017,
          0.03898905337289121,
          -0.024343721760978584,
          0.008229462551867399,
          -0.028030591700083252,
          0.011879933660536463,
          -0.02262651201189309,
          -0.04364572969283134,
          0.030114303947596354,
          0.03502672158154406,
          0.049765405704164434
         ],
         "yaxis": "y5"
        },
        {
         "line": {
          "color": "rgba(255,255,255,0)"
         },
         "mode": "lines",
         "name": "UC",
         "showlegend": false,
         "type": "scatter",
         "x": [
          0,
          1,
          2,
          3,
          4,
          5,
          6,
          7,
          8,
          9,
          10,
          11,
          12,
          13,
          14,
          15,
          16,
          17,
          18,
          19,
          20,
          21,
          22,
          23,
          24,
          25,
          26,
          27,
          28,
          29,
          30,
          31,
          32,
          33,
          34,
          35,
          36,
          37,
          38,
          39,
          40
         ],
         "xaxis": "x5",
         "y": [
          0,
          0.13589905085234374,
          0.13594030942202012,
          0.136281915356101,
          0.13639755761740335,
          0.1367259743791302,
          0.14034149302439314,
          0.14182802002603018,
          0.14258340904115413,
          0.14329785711817136,
          0.14367228792570066,
          0.1454078413080442,
          0.15184319271569355,
          0.15426790895732512,
          0.15481792116789506,
          0.15670197905390465,
          0.15697045079569366,
          0.15746227929835976,
          0.15765685754881956,
          0.15822927003266243,
          0.15827514314478927,
          0.158429290839962,
          0.15842937448978422,
          0.15851256411299497,
          0.16039030756159056,
          0.16086331386593766,
          0.16092470265259295,
          0.16152142417935547,
          0.16168465518088299,
          0.1629237522920701,
          0.16294994906335836,
          0.163031925718312,
          0.16320403979325093,
          0.16327108792691286,
          0.16327874841283757,
          0.16336759680443075,
          0.16338355095740562,
          0.16344141154552483,
          0.16365652548559592,
          0.1637588334523185,
          0.16389714031593966
         ],
         "yaxis": "y5"
        },
        {
         "fill": "tonexty",
         "fillcolor": "rgba(32, 146, 230,0.3)",
         "line": {
          "color": "rgba(255,255,255,0)"
         },
         "mode": "lines",
         "name": "LC",
         "showlegend": false,
         "type": "scatter",
         "x": [
          0,
          1,
          2,
          3,
          4,
          5,
          6,
          7,
          8,
          9,
          10,
          11,
          12,
          13,
          14,
          15,
          16,
          17,
          18,
          19,
          20,
          21,
          22,
          23,
          24,
          25,
          26,
          27,
          28,
          29,
          30,
          31,
          32,
          33,
          34,
          35,
          36,
          37,
          38,
          39,
          40
         ],
         "xaxis": "x5",
         "y": [
          0,
          -0.13589905085234374,
          -0.13594030942202012,
          -0.136281915356101,
          -0.13639755761740335,
          -0.1367259743791302,
          -0.14034149302439314,
          -0.1418280200260302,
          -0.14258340904115413,
          -0.14329785711817136,
          -0.14367228792570064,
          -0.1454078413080442,
          -0.15184319271569355,
          -0.15426790895732512,
          -0.15481792116789506,
          -0.15670197905390465,
          -0.15697045079569363,
          -0.15746227929835974,
          -0.15765685754881958,
          -0.15822927003266243,
          -0.1582751431447893,
          -0.158429290839962,
          -0.15842937448978422,
          -0.158512564112995,
          -0.16039030756159056,
          -0.16086331386593766,
          -0.16092470265259295,
          -0.16152142417935547,
          -0.16168465518088299,
          -0.1629237522920701,
          -0.1629499490633583,
          -0.163031925718312,
          -0.16320403979325088,
          -0.16327108792691286,
          -0.16327874841283757,
          -0.16336759680443075,
          -0.16338355095740562,
          -0.16344141154552483,
          -0.16365652548559592,
          -0.16375883345231856,
          -0.16389714031593966
         ],
         "yaxis": "y5"
        },
        {
         "line": {
          "color": "#3f3f3f"
         },
         "mode": "lines",
         "name": "PACF",
         "showlegend": false,
         "type": "scattergl",
         "x": [
          0,
          0
         ],
         "xaxis": "x6",
         "y": [
          0,
          1
         ],
         "yaxis": "y6"
        },
        {
         "line": {
          "color": "#3f3f3f"
         },
         "mode": "lines",
         "name": "PACF",
         "showlegend": false,
         "type": "scattergl",
         "x": [
          1,
          1
         ],
         "xaxis": "x6",
         "y": [
          0,
          -0.017509543435291774
         ],
         "yaxis": "y6"
        },
        {
         "line": {
          "color": "#3f3f3f"
         },
         "mode": "lines",
         "name": "PACF",
         "showlegend": false,
         "type": "scattergl",
         "x": [
          2,
          2
         ],
         "xaxis": "x6",
         "y": [
          0,
          -0.05098501500635005
         ],
         "yaxis": "y6"
        },
        {
         "line": {
          "color": "#3f3f3f"
         },
         "mode": "lines",
         "name": "PACF",
         "showlegend": false,
         "type": "scattergl",
         "x": [
          3,
          3
         ],
         "xaxis": "x6",
         "y": [
          0,
          -0.03156249022587267
         ],
         "yaxis": "y6"
        },
        {
         "line": {
          "color": "#3f3f3f"
         },
         "mode": "lines",
         "name": "PACF",
         "showlegend": false,
         "type": "scattergl",
         "x": [
          4,
          4
         ],
         "xaxis": "x6",
         "y": [
          0,
          0.04666869928164858
         ],
         "yaxis": "y6"
        },
        {
         "line": {
          "color": "#3f3f3f"
         },
         "mode": "lines",
         "name": "PACF",
         "showlegend": false,
         "type": "scattergl",
         "x": [
          5,
          5
         ],
         "xaxis": "x6",
         "y": [
          0,
          -0.17103674200344232
         ],
         "yaxis": "y6"
        },
        {
         "line": {
          "color": "#3f3f3f"
         },
         "mode": "lines",
         "name": "PACF",
         "showlegend": false,
         "type": "scattergl",
         "x": [
          6,
          6
         ],
         "xaxis": "x6",
         "y": [
          0,
          0.11269328219125185
         ],
         "yaxis": "y6"
        },
        {
         "line": {
          "color": "#3f3f3f"
         },
         "mode": "lines",
         "name": "PACF",
         "showlegend": false,
         "type": "scattergl",
         "x": [
          7,
          7
         ],
         "xaxis": "x6",
         "y": [
          0,
          0.06774965153135393
         ],
         "yaxis": "y6"
        },
        {
         "line": {
          "color": "#3f3f3f"
         },
         "mode": "lines",
         "name": "PACF",
         "showlegend": false,
         "type": "scattergl",
         "x": [
          8,
          8
         ],
         "xaxis": "x6",
         "y": [
          0,
          0.07953822326702235
         ],
         "yaxis": "y6"
        },
        {
         "line": {
          "color": "#3f3f3f"
         },
         "mode": "lines",
         "name": "PACF",
         "showlegend": false,
         "type": "scattergl",
         "x": [
          9,
          9
         ],
         "xaxis": "x6",
         "y": [
          0,
          0.09383585193877123
         ],
         "yaxis": "y6"
        },
        {
         "line": {
          "color": "#3f3f3f"
         },
         "mode": "lines",
         "name": "PACF",
         "showlegend": false,
         "type": "scattergl",
         "x": [
          10,
          10
         ],
         "xaxis": "x6",
         "y": [
          0,
          0.10445003858806469
         ],
         "yaxis": "y6"
        },
        {
         "line": {
          "color": "#3f3f3f"
         },
         "mode": "lines",
         "name": "PACF",
         "showlegend": false,
         "type": "scattergl",
         "x": [
          11,
          11
         ],
         "xaxis": "x6",
         "y": [
          0,
          -0.2096193836473977
         ],
         "yaxis": "y6"
        },
        {
         "line": {
          "color": "#3f3f3f"
         },
         "mode": "lines",
         "name": "PACF",
         "showlegend": false,
         "type": "scattergl",
         "x": [
          12,
          12
         ],
         "xaxis": "x6",
         "y": [
          0,
          -0.14948112296009966
         ],
         "yaxis": "y6"
        },
        {
         "line": {
          "color": "#3f3f3f"
         },
         "mode": "lines",
         "name": "PACF",
         "showlegend": false,
         "type": "scattergl",
         "x": [
          13,
          13
         ],
         "xaxis": "x6",
         "y": [
          0,
          -0.10912303424439992
         ],
         "yaxis": "y6"
        },
        {
         "line": {
          "color": "#3f3f3f"
         },
         "mode": "lines",
         "name": "PACF",
         "showlegend": false,
         "type": "scattergl",
         "x": [
          14,
          14
         ],
         "xaxis": "x6",
         "y": [
          0,
          0.10420200322383386
         ],
         "yaxis": "y6"
        },
        {
         "line": {
          "color": "#3f3f3f"
         },
         "mode": "lines",
         "name": "PACF",
         "showlegend": false,
         "type": "scattergl",
         "x": [
          15,
          15
         ],
         "xaxis": "x6",
         "y": [
          0,
          0.09348970665091623
         ],
         "yaxis": "y6"
        },
        {
         "line": {
          "color": "#3f3f3f"
         },
         "mode": "lines",
         "name": "PACF",
         "showlegend": false,
         "type": "scattergl",
         "x": [
          16,
          16
         ],
         "xaxis": "x6",
         "y": [
          0,
          0.0050309488987721465
         ],
         "yaxis": "y6"
        },
        {
         "line": {
          "color": "#3f3f3f"
         },
         "mode": "lines",
         "name": "PACF",
         "showlegend": false,
         "type": "scattergl",
         "x": [
          17,
          17
         ],
         "xaxis": "x6",
         "y": [
          0,
          0.048842729631119505
         ],
         "yaxis": "y6"
        },
        {
         "line": {
          "color": "#3f3f3f"
         },
         "mode": "lines",
         "name": "PACF",
         "showlegend": false,
         "type": "scattergl",
         "x": [
          18,
          18
         ],
         "xaxis": "x6",
         "y": [
          0,
          -0.08480244712841237
         ],
         "yaxis": "y6"
        },
        {
         "line": {
          "color": "#3f3f3f"
         },
         "mode": "lines",
         "name": "PACF",
         "showlegend": false,
         "type": "scattergl",
         "x": [
          19,
          19
         ],
         "xaxis": "x6",
         "y": [
          0,
          0.060869748796189976
         ],
         "yaxis": "y6"
        },
        {
         "line": {
          "color": "#3f3f3f"
         },
         "mode": "lines",
         "name": "PACF",
         "showlegend": false,
         "type": "scattergl",
         "x": [
          20,
          20
         ],
         "xaxis": "x6",
         "y": [
          0,
          -0.0014990545124878385
         ],
         "yaxis": "y6"
        },
        {
         "line": {
          "color": "#3f3f3f"
         },
         "mode": "lines",
         "name": "PACF",
         "showlegend": false,
         "type": "scattergl",
         "x": [
          21,
          21
         ],
         "xaxis": "x6",
         "y": [
          0,
          0.06670499136987017
         ],
         "yaxis": "y6"
        },
        {
         "line": {
          "color": "#3f3f3f"
         },
         "mode": "lines",
         "name": "PACF",
         "showlegend": false,
         "type": "scattergl",
         "x": [
          22,
          22
         ],
         "xaxis": "x6",
         "y": [
          0,
          -0.05739720646552885
         ],
         "yaxis": "y6"
        },
        {
         "line": {
          "color": "#3f3f3f"
         },
         "mode": "lines",
         "name": "PACF",
         "showlegend": false,
         "type": "scattergl",
         "x": [
          23,
          23
         ],
         "xaxis": "x6",
         "y": [
          0,
          0.0396045879022713
         ],
         "yaxis": "y6"
        },
        {
         "marker": {
          "color": "#1f77b4",
          "size": 6
         },
         "mode": "markers",
         "name": "PACF",
         "showlegend": false,
         "type": "scattergl",
         "x": [
          0,
          1,
          2,
          3,
          4,
          5,
          6,
          7,
          8,
          9,
          10,
          11,
          12,
          13,
          14,
          15,
          16,
          17,
          18,
          19,
          20,
          21,
          22,
          23
         ],
         "xaxis": "x6",
         "y": [
          1,
          -0.017509543435291774,
          -0.05098501500635005,
          -0.03156249022587267,
          0.04666869928164858,
          -0.17103674200344232,
          0.11269328219125185,
          0.06774965153135393,
          0.07953822326702235,
          0.09383585193877123,
          0.10445003858806469,
          -0.2096193836473977,
          -0.14948112296009966,
          -0.10912303424439992,
          0.10420200322383386,
          0.09348970665091623,
          0.0050309488987721465,
          0.048842729631119505,
          -0.08480244712841237,
          0.060869748796189976,
          -0.0014990545124878385,
          0.06670499136987017,
          -0.05739720646552885,
          0.0396045879022713
         ],
         "yaxis": "y6"
        },
        {
         "line": {
          "color": "rgba(255,255,255,0)"
         },
         "mode": "lines",
         "name": "UC",
         "showlegend": false,
         "type": "scatter",
         "x": [
          0,
          1,
          2,
          3,
          4,
          5,
          6,
          7,
          8,
          9,
          10,
          11,
          12,
          13,
          14,
          15,
          16,
          17,
          18,
          19,
          20,
          21,
          22,
          23
         ],
         "xaxis": "x6",
         "y": [
          0,
          0.13589905085234374,
          0.13589905085234374,
          0.13589905085234374,
          0.13589905085234374,
          0.13589905085234374,
          0.13589905085234374,
          0.13589905085234374,
          0.13589905085234372,
          0.13589905085234374,
          0.13589905085234377,
          0.13589905085234374,
          0.13589905085234374,
          0.13589905085234374,
          0.13589905085234374,
          0.13589905085234377,
          0.13589905085234374,
          0.13589905085234372,
          0.13589905085234374,
          0.13589905085234374,
          0.13589905085234374,
          0.13589905085234372,
          0.13589905085234374,
          0.13589905085234374
         ],
         "yaxis": "y6"
        },
        {
         "fill": "tonexty",
         "fillcolor": "rgba(32, 146, 230,0.3)",
         "line": {
          "color": "rgba(255,255,255,0)"
         },
         "mode": "lines",
         "name": "LC",
         "showlegend": false,
         "type": "scatter",
         "x": [
          0,
          1,
          2,
          3,
          4,
          5,
          6,
          7,
          8,
          9,
          10,
          11,
          12,
          13,
          14,
          15,
          16,
          17,
          18,
          19,
          20,
          21,
          22,
          23
         ],
         "xaxis": "x6",
         "y": [
          0,
          -0.13589905085234374,
          -0.13589905085234374,
          -0.13589905085234374,
          -0.13589905085234374,
          -0.13589905085234377,
          -0.13589905085234374,
          -0.13589905085234374,
          -0.13589905085234374,
          -0.13589905085234374,
          -0.13589905085234374,
          -0.13589905085234374,
          -0.13589905085234374,
          -0.13589905085234374,
          -0.13589905085234374,
          -0.13589905085234374,
          -0.13589905085234374,
          -0.13589905085234374,
          -0.13589905085234374,
          -0.13589905085234374,
          -0.13589905085234374,
          -0.13589905085234374,
          -0.13589905085234374,
          -0.13589905085234374
         ],
         "yaxis": "y6"
        }
       ],
       "layout": {
        "annotations": [
         {
          "font": {
           "size": 16
          },
          "showarrow": false,
          "text": "Exponential Smoothing Residuals",
          "x": 0.225,
          "xanchor": "center",
          "xref": "paper",
          "y": 1,
          "yanchor": "bottom",
          "yref": "paper"
         },
         {
          "font": {
           "size": 16
          },
          "showarrow": false,
          "text": "Periodogram",
          "x": 0.775,
          "xanchor": "center",
          "xref": "paper",
          "y": 1,
          "yanchor": "bottom",
          "yref": "paper"
         },
         {
          "font": {
           "size": 16
          },
          "showarrow": false,
          "text": "Histogram",
          "x": 0.225,
          "xanchor": "center",
          "xref": "paper",
          "y": 0.6111111111111112,
          "yanchor": "bottom",
          "yref": "paper"
         },
         {
          "font": {
           "size": 16
          },
          "showarrow": false,
          "text": "Q-Q Plot",
          "x": 0.775,
          "xanchor": "center",
          "xref": "paper",
          "y": 0.6111111111111112,
          "yanchor": "bottom",
          "yref": "paper"
         },
         {
          "font": {
           "size": 16
          },
          "showarrow": false,
          "text": "ACF",
          "x": 0.225,
          "xanchor": "center",
          "xref": "paper",
          "y": 0.22222222222222227,
          "yanchor": "bottom",
          "yref": "paper"
         },
         {
          "font": {
           "size": 16
          },
          "showarrow": false,
          "text": "PACF",
          "x": 0.775,
          "xanchor": "center",
          "xref": "paper",
          "y": 0.22222222222222227,
          "yanchor": "bottom",
          "yref": "paper"
         }
        ],
        "showlegend": false,
        "template": {
         "data": {
          "bar": [
           {
            "error_x": {
             "color": "rgb(51,51,51)"
            },
            "error_y": {
             "color": "rgb(51,51,51)"
            },
            "marker": {
             "line": {
              "color": "rgb(237,237,237)",
              "width": 0.5
             },
             "pattern": {
              "fillmode": "overlay",
              "size": 10,
              "solidity": 0.2
             }
            },
            "type": "bar"
           }
          ],
          "barpolar": [
           {
            "marker": {
             "line": {
              "color": "rgb(237,237,237)",
              "width": 0.5
             },
             "pattern": {
              "fillmode": "overlay",
              "size": 10,
              "solidity": 0.2
             }
            },
            "type": "barpolar"
           }
          ],
          "carpet": [
           {
            "aaxis": {
             "endlinecolor": "rgb(51,51,51)",
             "gridcolor": "white",
             "linecolor": "white",
             "minorgridcolor": "white",
             "startlinecolor": "rgb(51,51,51)"
            },
            "baxis": {
             "endlinecolor": "rgb(51,51,51)",
             "gridcolor": "white",
             "linecolor": "white",
             "minorgridcolor": "white",
             "startlinecolor": "rgb(51,51,51)"
            },
            "type": "carpet"
           }
          ],
          "choropleth": [
           {
            "colorbar": {
             "outlinewidth": 0,
             "tickcolor": "rgb(237,237,237)",
             "ticklen": 6,
             "ticks": "inside"
            },
            "type": "choropleth"
           }
          ],
          "contour": [
           {
            "colorbar": {
             "outlinewidth": 0,
             "tickcolor": "rgb(237,237,237)",
             "ticklen": 6,
             "ticks": "inside"
            },
            "colorscale": [
             [
              0,
              "rgb(20,44,66)"
             ],
             [
              1,
              "rgb(90,179,244)"
             ]
            ],
            "type": "contour"
           }
          ],
          "contourcarpet": [
           {
            "colorbar": {
             "outlinewidth": 0,
             "tickcolor": "rgb(237,237,237)",
             "ticklen": 6,
             "ticks": "inside"
            },
            "type": "contourcarpet"
           }
          ],
          "heatmap": [
           {
            "colorbar": {
             "outlinewidth": 0,
             "tickcolor": "rgb(237,237,237)",
             "ticklen": 6,
             "ticks": "inside"
            },
            "colorscale": [
             [
              0,
              "rgb(20,44,66)"
             ],
             [
              1,
              "rgb(90,179,244)"
             ]
            ],
            "type": "heatmap"
           }
          ],
          "heatmapgl": [
           {
            "colorbar": {
             "outlinewidth": 0,
             "tickcolor": "rgb(237,237,237)",
             "ticklen": 6,
             "ticks": "inside"
            },
            "colorscale": [
             [
              0,
              "rgb(20,44,66)"
             ],
             [
              1,
              "rgb(90,179,244)"
             ]
            ],
            "type": "heatmapgl"
           }
          ],
          "histogram": [
           {
            "marker": {
             "pattern": {
              "fillmode": "overlay",
              "size": 10,
              "solidity": 0.2
             }
            },
            "type": "histogram"
           }
          ],
          "histogram2d": [
           {
            "colorbar": {
             "outlinewidth": 0,
             "tickcolor": "rgb(237,237,237)",
             "ticklen": 6,
             "ticks": "inside"
            },
            "colorscale": [
             [
              0,
              "rgb(20,44,66)"
             ],
             [
              1,
              "rgb(90,179,244)"
             ]
            ],
            "type": "histogram2d"
           }
          ],
          "histogram2dcontour": [
           {
            "colorbar": {
             "outlinewidth": 0,
             "tickcolor": "rgb(237,237,237)",
             "ticklen": 6,
             "ticks": "inside"
            },
            "colorscale": [
             [
              0,
              "rgb(20,44,66)"
             ],
             [
              1,
              "rgb(90,179,244)"
             ]
            ],
            "type": "histogram2dcontour"
           }
          ],
          "mesh3d": [
           {
            "colorbar": {
             "outlinewidth": 0,
             "tickcolor": "rgb(237,237,237)",
             "ticklen": 6,
             "ticks": "inside"
            },
            "type": "mesh3d"
           }
          ],
          "parcoords": [
           {
            "line": {
             "colorbar": {
              "outlinewidth": 0,
              "tickcolor": "rgb(237,237,237)",
              "ticklen": 6,
              "ticks": "inside"
             }
            },
            "type": "parcoords"
           }
          ],
          "pie": [
           {
            "automargin": true,
            "type": "pie"
           }
          ],
          "scatter": [
           {
            "fillpattern": {
             "fillmode": "overlay",
             "size": 10,
             "solidity": 0.2
            },
            "type": "scatter"
           }
          ],
          "scatter3d": [
           {
            "line": {
             "colorbar": {
              "outlinewidth": 0,
              "tickcolor": "rgb(237,237,237)",
              "ticklen": 6,
              "ticks": "inside"
             }
            },
            "marker": {
             "colorbar": {
              "outlinewidth": 0,
              "tickcolor": "rgb(237,237,237)",
              "ticklen": 6,
              "ticks": "inside"
             }
            },
            "type": "scatter3d"
           }
          ],
          "scattercarpet": [
           {
            "marker": {
             "colorbar": {
              "outlinewidth": 0,
              "tickcolor": "rgb(237,237,237)",
              "ticklen": 6,
              "ticks": "inside"
             }
            },
            "type": "scattercarpet"
           }
          ],
          "scattergeo": [
           {
            "marker": {
             "colorbar": {
              "outlinewidth": 0,
              "tickcolor": "rgb(237,237,237)",
              "ticklen": 6,
              "ticks": "inside"
             }
            },
            "type": "scattergeo"
           }
          ],
          "scattergl": [
           {
            "marker": {
             "colorbar": {
              "outlinewidth": 0,
              "tickcolor": "rgb(237,237,237)",
              "ticklen": 6,
              "ticks": "inside"
             }
            },
            "type": "scattergl"
           }
          ],
          "scattermapbox": [
           {
            "marker": {
             "colorbar": {
              "outlinewidth": 0,
              "tickcolor": "rgb(237,237,237)",
              "ticklen": 6,
              "ticks": "inside"
             }
            },
            "type": "scattermapbox"
           }
          ],
          "scatterpolar": [
           {
            "marker": {
             "colorbar": {
              "outlinewidth": 0,
              "tickcolor": "rgb(237,237,237)",
              "ticklen": 6,
              "ticks": "inside"
             }
            },
            "type": "scatterpolar"
           }
          ],
          "scatterpolargl": [
           {
            "marker": {
             "colorbar": {
              "outlinewidth": 0,
              "tickcolor": "rgb(237,237,237)",
              "ticklen": 6,
              "ticks": "inside"
             }
            },
            "type": "scatterpolargl"
           }
          ],
          "scatterternary": [
           {
            "marker": {
             "colorbar": {
              "outlinewidth": 0,
              "tickcolor": "rgb(237,237,237)",
              "ticklen": 6,
              "ticks": "inside"
             }
            },
            "type": "scatterternary"
           }
          ],
          "surface": [
           {
            "colorbar": {
             "outlinewidth": 0,
             "tickcolor": "rgb(237,237,237)",
             "ticklen": 6,
             "ticks": "inside"
            },
            "colorscale": [
             [
              0,
              "rgb(20,44,66)"
             ],
             [
              1,
              "rgb(90,179,244)"
             ]
            ],
            "type": "surface"
           }
          ],
          "table": [
           {
            "cells": {
             "fill": {
              "color": "rgb(237,237,237)"
             },
             "line": {
              "color": "white"
             }
            },
            "header": {
             "fill": {
              "color": "rgb(217,217,217)"
             },
             "line": {
              "color": "white"
             }
            },
            "type": "table"
           }
          ]
         },
         "layout": {
          "annotationdefaults": {
           "arrowhead": 0,
           "arrowwidth": 1
          },
          "autotypenumbers": "strict",
          "coloraxis": {
           "colorbar": {
            "outlinewidth": 0,
            "tickcolor": "rgb(237,237,237)",
            "ticklen": 6,
            "ticks": "inside"
           }
          },
          "colorscale": {
           "sequential": [
            [
             0,
             "rgb(20,44,66)"
            ],
            [
             1,
             "rgb(90,179,244)"
            ]
           ],
           "sequentialminus": [
            [
             0,
             "rgb(20,44,66)"
            ],
            [
             1,
             "rgb(90,179,244)"
            ]
           ]
          },
          "colorway": [
           "#F8766D",
           "#A3A500",
           "#00BF7D",
           "#00B0F6",
           "#E76BF3"
          ],
          "font": {
           "color": "rgb(51,51,51)"
          },
          "geo": {
           "bgcolor": "white",
           "lakecolor": "white",
           "landcolor": "rgb(237,237,237)",
           "showlakes": true,
           "showland": true,
           "subunitcolor": "white"
          },
          "hoverlabel": {
           "align": "left"
          },
          "hovermode": "closest",
          "paper_bgcolor": "white",
          "plot_bgcolor": "rgb(237,237,237)",
          "polar": {
           "angularaxis": {
            "gridcolor": "white",
            "linecolor": "white",
            "showgrid": true,
            "tickcolor": "rgb(51,51,51)",
            "ticks": "outside"
           },
           "bgcolor": "rgb(237,237,237)",
           "radialaxis": {
            "gridcolor": "white",
            "linecolor": "white",
            "showgrid": true,
            "tickcolor": "rgb(51,51,51)",
            "ticks": "outside"
           }
          },
          "scene": {
           "xaxis": {
            "backgroundcolor": "rgb(237,237,237)",
            "gridcolor": "white",
            "gridwidth": 2,
            "linecolor": "white",
            "showbackground": true,
            "showgrid": true,
            "tickcolor": "rgb(51,51,51)",
            "ticks": "outside",
            "zerolinecolor": "white"
           },
           "yaxis": {
            "backgroundcolor": "rgb(237,237,237)",
            "gridcolor": "white",
            "gridwidth": 2,
            "linecolor": "white",
            "showbackground": true,
            "showgrid": true,
            "tickcolor": "rgb(51,51,51)",
            "ticks": "outside",
            "zerolinecolor": "white"
           },
           "zaxis": {
            "backgroundcolor": "rgb(237,237,237)",
            "gridcolor": "white",
            "gridwidth": 2,
            "linecolor": "white",
            "showbackground": true,
            "showgrid": true,
            "tickcolor": "rgb(51,51,51)",
            "ticks": "outside",
            "zerolinecolor": "white"
           }
          },
          "shapedefaults": {
           "fillcolor": "black",
           "line": {
            "width": 0
           },
           "opacity": 0.3
          },
          "ternary": {
           "aaxis": {
            "gridcolor": "white",
            "linecolor": "white",
            "showgrid": true,
            "tickcolor": "rgb(51,51,51)",
            "ticks": "outside"
           },
           "baxis": {
            "gridcolor": "white",
            "linecolor": "white",
            "showgrid": true,
            "tickcolor": "rgb(51,51,51)",
            "ticks": "outside"
           },
           "bgcolor": "rgb(237,237,237)",
           "caxis": {
            "gridcolor": "white",
            "linecolor": "white",
            "showgrid": true,
            "tickcolor": "rgb(51,51,51)",
            "ticks": "outside"
           }
          },
          "xaxis": {
           "automargin": true,
           "gridcolor": "white",
           "linecolor": "white",
           "showgrid": true,
           "tickcolor": "rgb(51,51,51)",
           "ticks": "outside",
           "title": {
            "standoff": 15
           },
           "zerolinecolor": "white"
          },
          "yaxis": {
           "automargin": true,
           "gridcolor": "white",
           "linecolor": "white",
           "showgrid": true,
           "tickcolor": "rgb(51,51,51)",
           "ticks": "outside",
           "title": {
            "standoff": 15
           },
           "zerolinecolor": "white"
          }
         }
        },
        "title": {
         "text": "Diagnostics | Model Residuals"
        },
        "xaxis": {
         "anchor": "y",
         "domain": [
          0,
          0.45
         ]
        },
        "xaxis2": {
         "anchor": "y2",
         "domain": [
          0.55,
          1
         ],
         "range": [
          0,
          0.5
         ]
        },
        "xaxis3": {
         "anchor": "y3",
         "domain": [
          0,
          0.45
         ],
         "title": {
          "text": "Range of Values"
         }
        },
        "xaxis4": {
         "anchor": "y4",
         "domain": [
          0.55,
          1
         ],
         "title": {
          "text": "Theoretical Quantities"
         }
        },
        "xaxis5": {
         "anchor": "y5",
         "domain": [
          0,
          0.45
         ],
         "range": [
          -1,
          42
         ]
        },
        "xaxis6": {
         "anchor": "y6",
         "domain": [
          0.55,
          1
         ],
         "range": [
          -1,
          25
         ]
        },
        "yaxis": {
         "anchor": "x",
         "domain": [
          0.7777777777777779,
          1
         ]
        },
        "yaxis2": {
         "anchor": "x2",
         "domain": [
          0.7777777777777779,
          1
         ]
        },
        "yaxis3": {
         "anchor": "x3",
         "domain": [
          0.38888888888888895,
          0.6111111111111112
         ],
         "title": {
          "text": "PDF"
         }
        },
        "yaxis4": {
         "anchor": "x4",
         "domain": [
          0.38888888888888895,
          0.6111111111111112
         ],
         "title": {
          "text": "Sample Quantities"
         }
        },
        "yaxis5": {
         "anchor": "x5",
         "domain": [
          0,
          0.22222222222222227
         ],
         "range": [
          -1.1,
          1.1
         ],
         "zerolinecolor": "#000000"
        },
        "yaxis6": {
         "anchor": "x6",
         "domain": [
          0,
          0.22222222222222227
         ],
         "range": [
          -1.1,
          1.1
         ],
         "zerolinecolor": "#000000"
        }
       }
      }
     },
     "metadata": {},
     "output_type": "display_data"
    }
   ],
   "source": [
    "# functional API\n",
    "plot_model(best, plot = 'diagnostics')\n"
   ]
  },
  {
   "cell_type": "code",
   "execution_count": 13,
   "metadata": {},
   "outputs": [
    {
     "data": {
      "application/vnd.plotly.v1+json": {
       "config": {
        "plotlyServerURL": "https://plot.ly"
       },
       "data": [
        {
         "line": {
          "color": "rgb(31, 119, 180)",
          "width": 2
         },
         "marker": {
          "color": "rgb(31, 119, 180)",
          "size": 5
         },
         "mode": "lines+markers",
         "name": "Close",
         "type": "scattergl",
         "x": [
          "2004-08-01T00:00:00",
          "2004-09-01T00:00:00",
          "2004-10-01T00:00:00",
          "2004-11-01T00:00:00",
          "2004-12-01T00:00:00",
          "2005-01-01T00:00:00",
          "2005-02-01T00:00:00",
          "2005-03-01T00:00:00",
          "2005-04-01T00:00:00",
          "2005-05-01T00:00:00",
          "2005-06-01T00:00:00",
          "2005-07-01T00:00:00",
          "2005-08-01T00:00:00",
          "2005-09-01T00:00:00",
          "2005-10-01T00:00:00",
          "2005-11-01T00:00:00",
          "2005-12-01T00:00:00",
          "2006-01-01T00:00:00",
          "2006-02-01T00:00:00",
          "2006-03-01T00:00:00",
          "2006-04-01T00:00:00",
          "2006-05-01T00:00:00",
          "2006-06-01T00:00:00",
          "2006-07-01T00:00:00",
          "2006-08-01T00:00:00",
          "2006-09-01T00:00:00",
          "2006-10-01T00:00:00",
          "2006-11-01T00:00:00",
          "2006-12-01T00:00:00",
          "2007-01-01T00:00:00",
          "2007-02-01T00:00:00",
          "2007-03-01T00:00:00",
          "2007-04-01T00:00:00",
          "2007-05-01T00:00:00",
          "2007-06-01T00:00:00",
          "2007-07-01T00:00:00",
          "2007-08-01T00:00:00",
          "2007-09-01T00:00:00",
          "2007-10-01T00:00:00",
          "2007-11-01T00:00:00",
          "2007-12-01T00:00:00",
          "2008-01-01T00:00:00",
          "2008-02-01T00:00:00",
          "2008-03-01T00:00:00",
          "2008-04-01T00:00:00",
          "2008-05-01T00:00:00",
          "2008-06-01T00:00:00",
          "2008-07-01T00:00:00",
          "2008-08-01T00:00:00",
          "2008-09-01T00:00:00",
          "2008-10-01T00:00:00",
          "2008-11-01T00:00:00",
          "2008-12-01T00:00:00",
          "2009-01-01T00:00:00",
          "2009-02-01T00:00:00",
          "2009-03-01T00:00:00",
          "2009-04-01T00:00:00",
          "2009-05-01T00:00:00",
          "2009-06-01T00:00:00",
          "2009-07-01T00:00:00",
          "2009-08-01T00:00:00",
          "2009-09-01T00:00:00",
          "2009-10-01T00:00:00",
          "2009-11-01T00:00:00",
          "2009-12-01T00:00:00",
          "2010-01-01T00:00:00",
          "2010-02-01T00:00:00",
          "2010-03-01T00:00:00",
          "2010-04-01T00:00:00",
          "2010-05-01T00:00:00",
          "2010-06-01T00:00:00",
          "2010-07-01T00:00:00",
          "2010-08-01T00:00:00",
          "2010-09-01T00:00:00",
          "2010-10-01T00:00:00",
          "2010-11-01T00:00:00",
          "2010-12-01T00:00:00",
          "2011-01-01T00:00:00",
          "2011-02-01T00:00:00",
          "2011-03-01T00:00:00",
          "2011-04-01T00:00:00",
          "2011-05-01T00:00:00",
          "2011-06-01T00:00:00",
          "2011-07-01T00:00:00",
          "2011-08-01T00:00:00",
          "2011-09-01T00:00:00",
          "2011-10-01T00:00:00",
          "2011-11-01T00:00:00",
          "2011-12-01T00:00:00",
          "2012-01-01T00:00:00",
          "2012-02-01T00:00:00",
          "2012-03-01T00:00:00",
          "2012-04-01T00:00:00",
          "2012-05-01T00:00:00",
          "2012-06-01T00:00:00",
          "2012-07-01T00:00:00",
          "2012-08-01T00:00:00",
          "2012-09-01T00:00:00",
          "2012-10-01T00:00:00",
          "2012-11-01T00:00:00",
          "2012-12-01T00:00:00",
          "2013-01-01T00:00:00",
          "2013-02-01T00:00:00",
          "2013-03-01T00:00:00",
          "2013-04-01T00:00:00",
          "2013-05-01T00:00:00",
          "2013-06-01T00:00:00",
          "2013-07-01T00:00:00",
          "2013-08-01T00:00:00",
          "2013-09-01T00:00:00",
          "2013-10-01T00:00:00",
          "2013-11-01T00:00:00",
          "2013-12-01T00:00:00",
          "2014-01-01T00:00:00",
          "2014-02-01T00:00:00",
          "2014-03-01T00:00:00",
          "2014-04-01T00:00:00",
          "2014-05-01T00:00:00",
          "2014-06-01T00:00:00",
          "2014-07-01T00:00:00",
          "2014-08-01T00:00:00",
          "2014-09-01T00:00:00",
          "2014-10-01T00:00:00",
          "2014-11-01T00:00:00",
          "2014-12-01T00:00:00",
          "2015-01-01T00:00:00",
          "2015-02-01T00:00:00",
          "2015-03-01T00:00:00",
          "2015-04-01T00:00:00",
          "2015-05-01T00:00:00",
          "2015-06-01T00:00:00",
          "2015-07-01T00:00:00",
          "2015-08-01T00:00:00",
          "2015-09-01T00:00:00",
          "2015-10-01T00:00:00",
          "2015-11-01T00:00:00",
          "2015-12-01T00:00:00",
          "2016-01-01T00:00:00",
          "2016-02-01T00:00:00",
          "2016-03-01T00:00:00",
          "2016-04-01T00:00:00",
          "2016-05-01T00:00:00",
          "2016-06-01T00:00:00",
          "2016-07-01T00:00:00",
          "2016-08-01T00:00:00",
          "2016-09-01T00:00:00",
          "2016-10-01T00:00:00",
          "2016-11-01T00:00:00",
          "2016-12-01T00:00:00",
          "2017-01-01T00:00:00",
          "2017-02-01T00:00:00",
          "2017-03-01T00:00:00",
          "2017-04-01T00:00:00",
          "2017-05-01T00:00:00",
          "2017-06-01T00:00:00",
          "2017-07-01T00:00:00",
          "2017-08-01T00:00:00",
          "2017-09-01T00:00:00",
          "2017-10-01T00:00:00",
          "2017-11-01T00:00:00",
          "2017-12-01T00:00:00",
          "2018-01-01T00:00:00",
          "2018-02-01T00:00:00",
          "2018-03-01T00:00:00",
          "2018-04-01T00:00:00",
          "2018-05-01T00:00:00",
          "2018-06-01T00:00:00",
          "2018-07-01T00:00:00",
          "2018-08-01T00:00:00",
          "2018-09-01T00:00:00",
          "2018-10-01T00:00:00",
          "2018-11-01T00:00:00",
          "2018-12-01T00:00:00",
          "2019-01-01T00:00:00",
          "2019-02-01T00:00:00",
          "2019-03-01T00:00:00",
          "2019-04-01T00:00:00",
          "2019-05-01T00:00:00",
          "2019-06-01T00:00:00",
          "2019-07-01T00:00:00",
          "2019-08-01T00:00:00",
          "2019-09-01T00:00:00",
          "2019-10-01T00:00:00",
          "2019-11-01T00:00:00",
          "2019-12-01T00:00:00",
          "2020-01-01T00:00:00",
          "2020-02-01T00:00:00",
          "2020-03-01T00:00:00",
          "2020-04-01T00:00:00",
          "2020-05-01T00:00:00",
          "2020-06-01T00:00:00",
          "2020-07-01T00:00:00",
          "2020-08-01T00:00:00",
          "2020-09-01T00:00:00",
          "2020-10-01T00:00:00",
          "2020-11-01T00:00:00",
          "2020-12-01T00:00:00",
          "2021-01-01T00:00:00",
          "2021-02-01T00:00:00",
          "2021-03-01T00:00:00",
          "2021-04-01T00:00:00",
          "2021-05-01T00:00:00",
          "2021-06-01T00:00:00",
          "2021-07-01T00:00:00",
          "2021-08-01T00:00:00",
          "2021-09-01T00:00:00",
          "2021-10-01T00:00:00",
          "2021-11-01T00:00:00",
          "2021-12-01T00:00:00",
          "2022-01-01T00:00:00",
          "2022-02-01T00:00:00"
         ],
         "xaxis": "x",
         "y": [
          51.236237,
          64.864868,
          98.113113,
          91.081078,
          96.491493,
          97.907906,
          94.089088,
          90.345345,
          111.256256,
          138.773773,
          147.222229,
          145.950958,
          143.143143,
          158.388382,
          186.256256,
          202.657654,
          217.83284,
          216.546555,
          181.491486,
          195.19519,
          199.649643,
          186.0961,
          209.874878,
          193.4935,
          189.454453,
          200.920914,
          238.433426,
          242.647644,
          234.029022,
          251.001007,
          224.949951,
          229.494492,
          235.925919,
          249.204208,
          265.455444,
          255.255249,
          257.882874,
          291.566559,
          353.853851,
          346.846832,
          346.08609,
          282.432434,
          235.825821,
          220.45546,
          287.432434,
          287.787781,
          263.47348,
          237.112106,
          232.857864,
          200.460464,
          179.859863,
          133.128128,
          153.978973,
          170.45546,
          163.743744,
          174.204208,
          198.183182,
          213.4935,
          211.006012,
          221.74675,
          231.066071,
          248.173172,
          267.262268,
          291.791779,
          310.300293,
          266.776764,
          266.611603,
          283.843842,
          263.113098,
          241.426422,
          222.697693,
          245.450455,
          225.235229,
          263.158173,
          307.8078,
          278.133148,
          297.282288,
          300.480469,
          307.007019,
          293.673676,
          269.549561,
          264.77478,
          253.443436,
          303.68869,
          270.750763,
          257.777771,
          296.616608,
          299.994995,
          333.038025,
          290.345337,
          309.434448,
          323.783783,
          302.727722,
          290.720734,
          290.525513,
          316.801788,
          342.887878,
          381.271271,
          340.490479,
          349.534546,
          354.044037,
          378.223236,
          401.001007,
          400.996002,
          412.697693,
          436.046051,
          444.384369,
          444.319305,
          430.620636,
          438.393402,
          515.805786,
          527.767761,
          560.915894,
          591.07605,
          608.433411,
          557.812805,
          534.880005,
          564.340027,
          584.669983,
          579.549988,
          588.630005,
          588.409973,
          567.869995,
          539.650024,
          530.659973,
          532.200012,
          575.02002,
          554.700012,
          548.77002,
          549.210022,
          540.039978,
          657.5,
          647.820007,
          638.369995,
          747.73999,
          762.849976,
          778.01001,
          770.77002,
          717.219971,
          762.900024,
          714.409973,
          748.849976,
          703.530029,
          800.940002,
          789.849976,
          804.059998,
          809.900024,
          775.880005,
          808.01001,
          820.190002,
          844.929993,
          847.799988,
          932.820007,
          987.090027,
          929.679993,
          945.5,
          955.23999,
          967.469971,
          1033.040039,
          1036.170044,
          1073.209961,
          1182.219971,
          1103.920044,
          1012.630005,
          1018.580017,
          1100,
          1142.109985,
          1227.219971,
          1231.800049,
          1208.530029,
          1090.579956,
          1109.650024,
          1044.959961,
          1125.890015,
          1126.550049,
          1198.97998,
          1198.959961,
          1106.5,
          1100,
          1218.199951,
          1169.550049,
          1221.140015,
          1258.800049,
          1288.859985,
          1339.390015,
          1432.780029,
          1386.319946,
          1161.949951,
          1346.699951,
          1434.869995,
          1418.050049,
          1487.949951,
          1629.530029,
          1465.599976,
          1624.319946,
          1754.400024,
          1752.640015,
          1893.069946,
          2069.659912,
          2062.52002,
          2353.5,
          2381.179932,
          2441.790039,
          2697.090088,
          2893.949951,
          2673.52002,
          2869.939941,
          2837.949951,
          2897.040039,
          2706.070068,
          2701.139893
         ],
         "yaxis": "y"
        },
        {
         "line": {
          "color": "rgb(255, 127, 14)",
          "width": 2
         },
         "marker": {
          "color": "rgb(255, 127, 14)",
          "size": 5
         },
         "mode": "lines+markers",
         "name": "Exponential Smoothing",
         "type": "scattergl",
         "x": [
          "2004-08-01T00:00:00",
          "2004-09-01T00:00:00",
          "2004-10-01T00:00:00",
          "2004-11-01T00:00:00",
          "2004-12-01T00:00:00",
          "2005-01-01T00:00:00",
          "2005-02-01T00:00:00",
          "2005-03-01T00:00:00",
          "2005-04-01T00:00:00",
          "2005-05-01T00:00:00",
          "2005-06-01T00:00:00",
          "2005-07-01T00:00:00",
          "2005-08-01T00:00:00",
          "2005-09-01T00:00:00",
          "2005-10-01T00:00:00",
          "2005-11-01T00:00:00",
          "2005-12-01T00:00:00",
          "2006-01-01T00:00:00",
          "2006-02-01T00:00:00",
          "2006-03-01T00:00:00",
          "2006-04-01T00:00:00",
          "2006-05-01T00:00:00",
          "2006-06-01T00:00:00",
          "2006-07-01T00:00:00",
          "2006-08-01T00:00:00",
          "2006-09-01T00:00:00",
          "2006-10-01T00:00:00",
          "2006-11-01T00:00:00",
          "2006-12-01T00:00:00",
          "2007-01-01T00:00:00",
          "2007-02-01T00:00:00",
          "2007-03-01T00:00:00",
          "2007-04-01T00:00:00",
          "2007-05-01T00:00:00",
          "2007-06-01T00:00:00",
          "2007-07-01T00:00:00",
          "2007-08-01T00:00:00",
          "2007-09-01T00:00:00",
          "2007-10-01T00:00:00",
          "2007-11-01T00:00:00",
          "2007-12-01T00:00:00",
          "2008-01-01T00:00:00",
          "2008-02-01T00:00:00",
          "2008-03-01T00:00:00",
          "2008-04-01T00:00:00",
          "2008-05-01T00:00:00",
          "2008-06-01T00:00:00",
          "2008-07-01T00:00:00",
          "2008-08-01T00:00:00",
          "2008-09-01T00:00:00",
          "2008-10-01T00:00:00",
          "2008-11-01T00:00:00",
          "2008-12-01T00:00:00",
          "2009-01-01T00:00:00",
          "2009-02-01T00:00:00",
          "2009-03-01T00:00:00",
          "2009-04-01T00:00:00",
          "2009-05-01T00:00:00",
          "2009-06-01T00:00:00",
          "2009-07-01T00:00:00",
          "2009-08-01T00:00:00",
          "2009-09-01T00:00:00",
          "2009-10-01T00:00:00",
          "2009-11-01T00:00:00",
          "2009-12-01T00:00:00",
          "2010-01-01T00:00:00",
          "2010-02-01T00:00:00",
          "2010-03-01T00:00:00",
          "2010-04-01T00:00:00",
          "2010-05-01T00:00:00",
          "2010-06-01T00:00:00",
          "2010-07-01T00:00:00",
          "2010-08-01T00:00:00",
          "2010-09-01T00:00:00",
          "2010-10-01T00:00:00",
          "2010-11-01T00:00:00",
          "2010-12-01T00:00:00",
          "2011-01-01T00:00:00",
          "2011-02-01T00:00:00",
          "2011-03-01T00:00:00",
          "2011-04-01T00:00:00",
          "2011-05-01T00:00:00",
          "2011-06-01T00:00:00",
          "2011-07-01T00:00:00",
          "2011-08-01T00:00:00",
          "2011-09-01T00:00:00",
          "2011-10-01T00:00:00",
          "2011-11-01T00:00:00",
          "2011-12-01T00:00:00",
          "2012-01-01T00:00:00",
          "2012-02-01T00:00:00",
          "2012-03-01T00:00:00",
          "2012-04-01T00:00:00",
          "2012-05-01T00:00:00",
          "2012-06-01T00:00:00",
          "2012-07-01T00:00:00",
          "2012-08-01T00:00:00",
          "2012-09-01T00:00:00",
          "2012-10-01T00:00:00",
          "2012-11-01T00:00:00",
          "2012-12-01T00:00:00",
          "2013-01-01T00:00:00",
          "2013-02-01T00:00:00",
          "2013-03-01T00:00:00",
          "2013-04-01T00:00:00",
          "2013-05-01T00:00:00",
          "2013-06-01T00:00:00",
          "2013-07-01T00:00:00",
          "2013-08-01T00:00:00",
          "2013-09-01T00:00:00",
          "2013-10-01T00:00:00",
          "2013-11-01T00:00:00",
          "2013-12-01T00:00:00",
          "2014-01-01T00:00:00",
          "2014-02-01T00:00:00",
          "2014-03-01T00:00:00",
          "2014-04-01T00:00:00",
          "2014-05-01T00:00:00",
          "2014-06-01T00:00:00",
          "2014-07-01T00:00:00",
          "2014-08-01T00:00:00",
          "2014-09-01T00:00:00",
          "2014-10-01T00:00:00",
          "2014-11-01T00:00:00",
          "2014-12-01T00:00:00",
          "2015-01-01T00:00:00",
          "2015-02-01T00:00:00",
          "2015-03-01T00:00:00",
          "2015-04-01T00:00:00",
          "2015-05-01T00:00:00",
          "2015-06-01T00:00:00",
          "2015-07-01T00:00:00",
          "2015-08-01T00:00:00",
          "2015-09-01T00:00:00",
          "2015-10-01T00:00:00",
          "2015-11-01T00:00:00",
          "2015-12-01T00:00:00",
          "2016-01-01T00:00:00",
          "2016-02-01T00:00:00",
          "2016-03-01T00:00:00",
          "2016-04-01T00:00:00",
          "2016-05-01T00:00:00",
          "2016-06-01T00:00:00",
          "2016-07-01T00:00:00",
          "2016-08-01T00:00:00",
          "2016-09-01T00:00:00",
          "2016-10-01T00:00:00",
          "2016-11-01T00:00:00",
          "2016-12-01T00:00:00",
          "2017-01-01T00:00:00",
          "2017-02-01T00:00:00",
          "2017-03-01T00:00:00",
          "2017-04-01T00:00:00",
          "2017-05-01T00:00:00",
          "2017-06-01T00:00:00",
          "2017-07-01T00:00:00",
          "2017-08-01T00:00:00",
          "2017-09-01T00:00:00",
          "2017-10-01T00:00:00",
          "2017-11-01T00:00:00",
          "2017-12-01T00:00:00",
          "2018-01-01T00:00:00",
          "2018-02-01T00:00:00",
          "2018-03-01T00:00:00",
          "2018-04-01T00:00:00",
          "2018-05-01T00:00:00",
          "2018-06-01T00:00:00",
          "2018-07-01T00:00:00",
          "2018-08-01T00:00:00",
          "2018-09-01T00:00:00",
          "2018-10-01T00:00:00",
          "2018-11-01T00:00:00",
          "2018-12-01T00:00:00",
          "2019-01-01T00:00:00",
          "2019-02-01T00:00:00",
          "2019-03-01T00:00:00",
          "2019-04-01T00:00:00",
          "2019-05-01T00:00:00",
          "2019-06-01T00:00:00",
          "2019-07-01T00:00:00",
          "2019-08-01T00:00:00",
          "2019-09-01T00:00:00",
          "2019-10-01T00:00:00",
          "2019-11-01T00:00:00",
          "2019-12-01T00:00:00",
          "2020-01-01T00:00:00",
          "2020-02-01T00:00:00",
          "2020-03-01T00:00:00",
          "2020-04-01T00:00:00",
          "2020-05-01T00:00:00",
          "2020-06-01T00:00:00",
          "2020-07-01T00:00:00",
          "2020-08-01T00:00:00",
          "2020-09-01T00:00:00",
          "2020-10-01T00:00:00",
          "2020-11-01T00:00:00",
          "2020-12-01T00:00:00",
          "2021-01-01T00:00:00",
          "2021-02-01T00:00:00",
          "2021-03-01T00:00:00",
          "2021-04-01T00:00:00",
          "2021-05-01T00:00:00",
          "2021-06-01T00:00:00",
          "2021-07-01T00:00:00",
          "2021-08-01T00:00:00",
          "2021-09-01T00:00:00",
          "2021-10-01T00:00:00",
          "2021-11-01T00:00:00",
          "2021-12-01T00:00:00",
          "2022-01-01T00:00:00",
          "2022-02-01T00:00:00"
         ],
         "xaxis": "x",
         "y": [
          51.2367,
          55.5646,
          76.1555,
          107.8868,
          106.5844,
          104.9205,
          99.2536,
          98.5097,
          105.4275,
          113.7455,
          151.9254,
          155.3226,
          144.7838,
          145.6007,
          181.827,
          192.8522,
          215.662,
          225.2129,
          213.4189,
          187.8052,
          219.9998,
          206.4316,
          195.6165,
          209.5262,
          184.6806,
          193.3586,
          220.1223,
          240.5577,
          258.2534,
          233.1402,
          239.1397,
          232.3594,
          253.434,
          237.1934,
          257.9036,
          265.3156,
          240.3176,
          263.5462,
          317.4515,
          359.3806,
          365.9946,
          348.7405,
          274.7858,
          243.8495,
          237.6978,
          276.6575,
          294.1354,
          256.4498,
          223.9328,
          235.6853,
          224.8425,
          170.3175,
          127.2692,
          136.9412,
          153.6598,
          157.6229,
          187.8617,
          185.98,
          221.7418,
          204.544,
          205.6182,
          230.7462,
          275.8075,
          263.2129,
          302.9861,
          310.9178,
          258.5345,
          267.8129,
          311.9561,
          266.3418,
          248.4188,
          214.7088,
          231.5057,
          224.9367,
          275.9204,
          306.5071,
          289.4969,
          297.6819,
          285.2923,
          316.7882,
          315.4556,
          265.9901,
          273.47,
          251.7777,
          283.6352,
          274.8047,
          270.5387,
          290.5428,
          308.777,
          343.5428,
          273.0783,
          308.9919,
          347.0466,
          302.3034,
          301.3536,
          290.281,
          299.8997,
          339.6823,
          399.518,
          347.5241,
          364.124,
          363.1684,
          364.9787,
          399.4498,
          409.9252,
          423.0435,
          454.8246,
          463.6509,
          437.7012,
          427.6118,
          445.7444,
          524.723,
          550.6551,
          584.5118,
          585.7797,
          610.9043,
          588.3478,
          544.2187,
          582.6915,
          604.4907,
          573.3824,
          575.5479,
          608.4268,
          583.4721,
          556.8671,
          541.0444,
          522.3959,
          553.2338,
          563.7545,
          557.0694,
          563.6208,
          552.239,
          649.5934,
          627.037,
          649.8469,
          758.7537,
          793.2149,
          833.9106,
          768.1958,
          700.3358,
          784.9773,
          723.1769,
          765.0923,
          743.6038,
          780.3954,
          779.4566,
          812.0597,
          826.2535,
          788.5208,
          863.2599,
          801.625,
          830.5569,
          851.9076,
          937.9852,
          1011.5312,
          1002.2825,
          940.9641,
          940.3995,
          981.8785,
          1036.8983,
          1046.0419,
          1147.3695,
          1184.2501,
          1103.8552,
          1040.6354,
          1014.3142,
          1098.6423,
          1216.121,
          1212.1507,
          1217.685,
          1247.7237,
          1116.59,
          1105.7409,
          1105.9875,
          1097.1282,
          1095.5496,
          1199.2677,
          1230.476,
          1107.7864,
          1169.2796,
          1188.8859,
          1153.1829,
          1208.6162,
          1269.5527,
          1297.4387,
          1443.0317,
          1407.9749,
          1391.2904,
          1172.9902,
          1335.774,
          1440.7005,
          1527.4798,
          1460.549,
          1589.7115,
          1539.6245,
          1623.0594,
          1751.7496,
          1895.5667,
          1902.6293,
          1988.5624,
          2200.125,
          2386.8326,
          2394.7228,
          2655.643,
          2759.5377,
          2791.0479,
          2895.5112,
          2901.6913,
          null,
          null,
          null
         ],
         "yaxis": "y"
        }
       ],
       "layout": {
        "showlegend": true,
        "template": {
         "data": {
          "bar": [
           {
            "error_x": {
             "color": "rgb(51,51,51)"
            },
            "error_y": {
             "color": "rgb(51,51,51)"
            },
            "marker": {
             "line": {
              "color": "rgb(237,237,237)",
              "width": 0.5
             },
             "pattern": {
              "fillmode": "overlay",
              "size": 10,
              "solidity": 0.2
             }
            },
            "type": "bar"
           }
          ],
          "barpolar": [
           {
            "marker": {
             "line": {
              "color": "rgb(237,237,237)",
              "width": 0.5
             },
             "pattern": {
              "fillmode": "overlay",
              "size": 10,
              "solidity": 0.2
             }
            },
            "type": "barpolar"
           }
          ],
          "carpet": [
           {
            "aaxis": {
             "endlinecolor": "rgb(51,51,51)",
             "gridcolor": "white",
             "linecolor": "white",
             "minorgridcolor": "white",
             "startlinecolor": "rgb(51,51,51)"
            },
            "baxis": {
             "endlinecolor": "rgb(51,51,51)",
             "gridcolor": "white",
             "linecolor": "white",
             "minorgridcolor": "white",
             "startlinecolor": "rgb(51,51,51)"
            },
            "type": "carpet"
           }
          ],
          "choropleth": [
           {
            "colorbar": {
             "outlinewidth": 0,
             "tickcolor": "rgb(237,237,237)",
             "ticklen": 6,
             "ticks": "inside"
            },
            "type": "choropleth"
           }
          ],
          "contour": [
           {
            "colorbar": {
             "outlinewidth": 0,
             "tickcolor": "rgb(237,237,237)",
             "ticklen": 6,
             "ticks": "inside"
            },
            "colorscale": [
             [
              0,
              "rgb(20,44,66)"
             ],
             [
              1,
              "rgb(90,179,244)"
             ]
            ],
            "type": "contour"
           }
          ],
          "contourcarpet": [
           {
            "colorbar": {
             "outlinewidth": 0,
             "tickcolor": "rgb(237,237,237)",
             "ticklen": 6,
             "ticks": "inside"
            },
            "type": "contourcarpet"
           }
          ],
          "heatmap": [
           {
            "colorbar": {
             "outlinewidth": 0,
             "tickcolor": "rgb(237,237,237)",
             "ticklen": 6,
             "ticks": "inside"
            },
            "colorscale": [
             [
              0,
              "rgb(20,44,66)"
             ],
             [
              1,
              "rgb(90,179,244)"
             ]
            ],
            "type": "heatmap"
           }
          ],
          "heatmapgl": [
           {
            "colorbar": {
             "outlinewidth": 0,
             "tickcolor": "rgb(237,237,237)",
             "ticklen": 6,
             "ticks": "inside"
            },
            "colorscale": [
             [
              0,
              "rgb(20,44,66)"
             ],
             [
              1,
              "rgb(90,179,244)"
             ]
            ],
            "type": "heatmapgl"
           }
          ],
          "histogram": [
           {
            "marker": {
             "pattern": {
              "fillmode": "overlay",
              "size": 10,
              "solidity": 0.2
             }
            },
            "type": "histogram"
           }
          ],
          "histogram2d": [
           {
            "colorbar": {
             "outlinewidth": 0,
             "tickcolor": "rgb(237,237,237)",
             "ticklen": 6,
             "ticks": "inside"
            },
            "colorscale": [
             [
              0,
              "rgb(20,44,66)"
             ],
             [
              1,
              "rgb(90,179,244)"
             ]
            ],
            "type": "histogram2d"
           }
          ],
          "histogram2dcontour": [
           {
            "colorbar": {
             "outlinewidth": 0,
             "tickcolor": "rgb(237,237,237)",
             "ticklen": 6,
             "ticks": "inside"
            },
            "colorscale": [
             [
              0,
              "rgb(20,44,66)"
             ],
             [
              1,
              "rgb(90,179,244)"
             ]
            ],
            "type": "histogram2dcontour"
           }
          ],
          "mesh3d": [
           {
            "colorbar": {
             "outlinewidth": 0,
             "tickcolor": "rgb(237,237,237)",
             "ticklen": 6,
             "ticks": "inside"
            },
            "type": "mesh3d"
           }
          ],
          "parcoords": [
           {
            "line": {
             "colorbar": {
              "outlinewidth": 0,
              "tickcolor": "rgb(237,237,237)",
              "ticklen": 6,
              "ticks": "inside"
             }
            },
            "type": "parcoords"
           }
          ],
          "pie": [
           {
            "automargin": true,
            "type": "pie"
           }
          ],
          "scatter": [
           {
            "fillpattern": {
             "fillmode": "overlay",
             "size": 10,
             "solidity": 0.2
            },
            "type": "scatter"
           }
          ],
          "scatter3d": [
           {
            "line": {
             "colorbar": {
              "outlinewidth": 0,
              "tickcolor": "rgb(237,237,237)",
              "ticklen": 6,
              "ticks": "inside"
             }
            },
            "marker": {
             "colorbar": {
              "outlinewidth": 0,
              "tickcolor": "rgb(237,237,237)",
              "ticklen": 6,
              "ticks": "inside"
             }
            },
            "type": "scatter3d"
           }
          ],
          "scattercarpet": [
           {
            "marker": {
             "colorbar": {
              "outlinewidth": 0,
              "tickcolor": "rgb(237,237,237)",
              "ticklen": 6,
              "ticks": "inside"
             }
            },
            "type": "scattercarpet"
           }
          ],
          "scattergeo": [
           {
            "marker": {
             "colorbar": {
              "outlinewidth": 0,
              "tickcolor": "rgb(237,237,237)",
              "ticklen": 6,
              "ticks": "inside"
             }
            },
            "type": "scattergeo"
           }
          ],
          "scattergl": [
           {
            "marker": {
             "colorbar": {
              "outlinewidth": 0,
              "tickcolor": "rgb(237,237,237)",
              "ticklen": 6,
              "ticks": "inside"
             }
            },
            "type": "scattergl"
           }
          ],
          "scattermapbox": [
           {
            "marker": {
             "colorbar": {
              "outlinewidth": 0,
              "tickcolor": "rgb(237,237,237)",
              "ticklen": 6,
              "ticks": "inside"
             }
            },
            "type": "scattermapbox"
           }
          ],
          "scatterpolar": [
           {
            "marker": {
             "colorbar": {
              "outlinewidth": 0,
              "tickcolor": "rgb(237,237,237)",
              "ticklen": 6,
              "ticks": "inside"
             }
            },
            "type": "scatterpolar"
           }
          ],
          "scatterpolargl": [
           {
            "marker": {
             "colorbar": {
              "outlinewidth": 0,
              "tickcolor": "rgb(237,237,237)",
              "ticklen": 6,
              "ticks": "inside"
             }
            },
            "type": "scatterpolargl"
           }
          ],
          "scatterternary": [
           {
            "marker": {
             "colorbar": {
              "outlinewidth": 0,
              "tickcolor": "rgb(237,237,237)",
              "ticklen": 6,
              "ticks": "inside"
             }
            },
            "type": "scatterternary"
           }
          ],
          "surface": [
           {
            "colorbar": {
             "outlinewidth": 0,
             "tickcolor": "rgb(237,237,237)",
             "ticklen": 6,
             "ticks": "inside"
            },
            "colorscale": [
             [
              0,
              "rgb(20,44,66)"
             ],
             [
              1,
              "rgb(90,179,244)"
             ]
            ],
            "type": "surface"
           }
          ],
          "table": [
           {
            "cells": {
             "fill": {
              "color": "rgb(237,237,237)"
             },
             "line": {
              "color": "white"
             }
            },
            "header": {
             "fill": {
              "color": "rgb(217,217,217)"
             },
             "line": {
              "color": "white"
             }
            },
            "type": "table"
           }
          ]
         },
         "layout": {
          "annotationdefaults": {
           "arrowhead": 0,
           "arrowwidth": 1
          },
          "autotypenumbers": "strict",
          "coloraxis": {
           "colorbar": {
            "outlinewidth": 0,
            "tickcolor": "rgb(237,237,237)",
            "ticklen": 6,
            "ticks": "inside"
           }
          },
          "colorscale": {
           "sequential": [
            [
             0,
             "rgb(20,44,66)"
            ],
            [
             1,
             "rgb(90,179,244)"
            ]
           ],
           "sequentialminus": [
            [
             0,
             "rgb(20,44,66)"
            ],
            [
             1,
             "rgb(90,179,244)"
            ]
           ]
          },
          "colorway": [
           "#F8766D",
           "#A3A500",
           "#00BF7D",
           "#00B0F6",
           "#E76BF3"
          ],
          "font": {
           "color": "rgb(51,51,51)"
          },
          "geo": {
           "bgcolor": "white",
           "lakecolor": "white",
           "landcolor": "rgb(237,237,237)",
           "showlakes": true,
           "showland": true,
           "subunitcolor": "white"
          },
          "hoverlabel": {
           "align": "left"
          },
          "hovermode": "closest",
          "paper_bgcolor": "white",
          "plot_bgcolor": "rgb(237,237,237)",
          "polar": {
           "angularaxis": {
            "gridcolor": "white",
            "linecolor": "white",
            "showgrid": true,
            "tickcolor": "rgb(51,51,51)",
            "ticks": "outside"
           },
           "bgcolor": "rgb(237,237,237)",
           "radialaxis": {
            "gridcolor": "white",
            "linecolor": "white",
            "showgrid": true,
            "tickcolor": "rgb(51,51,51)",
            "ticks": "outside"
           }
          },
          "scene": {
           "xaxis": {
            "backgroundcolor": "rgb(237,237,237)",
            "gridcolor": "white",
            "gridwidth": 2,
            "linecolor": "white",
            "showbackground": true,
            "showgrid": true,
            "tickcolor": "rgb(51,51,51)",
            "ticks": "outside",
            "zerolinecolor": "white"
           },
           "yaxis": {
            "backgroundcolor": "rgb(237,237,237)",
            "gridcolor": "white",
            "gridwidth": 2,
            "linecolor": "white",
            "showbackground": true,
            "showgrid": true,
            "tickcolor": "rgb(51,51,51)",
            "ticks": "outside",
            "zerolinecolor": "white"
           },
           "zaxis": {
            "backgroundcolor": "rgb(237,237,237)",
            "gridcolor": "white",
            "gridwidth": 2,
            "linecolor": "white",
            "showbackground": true,
            "showgrid": true,
            "tickcolor": "rgb(51,51,51)",
            "ticks": "outside",
            "zerolinecolor": "white"
           }
          },
          "shapedefaults": {
           "fillcolor": "black",
           "line": {
            "width": 0
           },
           "opacity": 0.3
          },
          "ternary": {
           "aaxis": {
            "gridcolor": "white",
            "linecolor": "white",
            "showgrid": true,
            "tickcolor": "rgb(51,51,51)",
            "ticks": "outside"
           },
           "baxis": {
            "gridcolor": "white",
            "linecolor": "white",
            "showgrid": true,
            "tickcolor": "rgb(51,51,51)",
            "ticks": "outside"
           },
           "bgcolor": "rgb(237,237,237)",
           "caxis": {
            "gridcolor": "white",
            "linecolor": "white",
            "showgrid": true,
            "tickcolor": "rgb(51,51,51)",
            "ticks": "outside"
           }
          },
          "xaxis": {
           "automargin": true,
           "gridcolor": "white",
           "linecolor": "white",
           "showgrid": true,
           "tickcolor": "rgb(51,51,51)",
           "ticks": "outside",
           "title": {
            "standoff": 15
           },
           "zerolinecolor": "white"
          },
          "yaxis": {
           "automargin": true,
           "gridcolor": "white",
           "linecolor": "white",
           "showgrid": true,
           "tickcolor": "rgb(51,51,51)",
           "ticks": "outside",
           "title": {
            "standoff": 15
           },
           "zerolinecolor": "white"
          }
         }
        },
        "title": {
         "text": "Actual vs. Forecast (In-Sample)"
        },
        "xaxis": {
         "anchor": "y",
         "domain": [
          0,
          1
         ]
        },
        "yaxis": {
         "anchor": "x",
         "domain": [
          0,
          1
         ]
        }
       }
      }
     },
     "metadata": {},
     "output_type": "display_data"
    }
   ],
   "source": [
    "\n",
    "# functional API\n",
    "plot_model(best, plot = 'insample')"
   ]
  },
  {
   "cell_type": "code",
   "execution_count": 14,
   "metadata": {},
   "outputs": [
    {
     "data": {
      "text/html": [
       "<div>\n",
       "<style scoped>\n",
       "    .dataframe tbody tr th:only-of-type {\n",
       "        vertical-align: middle;\n",
       "    }\n",
       "\n",
       "    .dataframe tbody tr th {\n",
       "        vertical-align: top;\n",
       "    }\n",
       "\n",
       "    .dataframe thead th {\n",
       "        text-align: right;\n",
       "    }\n",
       "</style>\n",
       "<table border=\"1\" class=\"dataframe\">\n",
       "  <thead>\n",
       "    <tr style=\"text-align: right;\">\n",
       "      <th></th>\n",
       "      <th>y_pred</th>\n",
       "    </tr>\n",
       "  </thead>\n",
       "  <tbody>\n",
       "    <tr>\n",
       "      <th>2021-12</th>\n",
       "      <td>2856.8370</td>\n",
       "    </tr>\n",
       "    <tr>\n",
       "      <th>2022-01</th>\n",
       "      <td>3096.8182</td>\n",
       "    </tr>\n",
       "    <tr>\n",
       "      <th>2022-02</th>\n",
       "      <td>3169.5096</td>\n",
       "    </tr>\n",
       "    <tr>\n",
       "      <th>2022-03</th>\n",
       "      <td>3015.1113</td>\n",
       "    </tr>\n",
       "    <tr>\n",
       "      <th>2022-04</th>\n",
       "      <td>3243.7524</td>\n",
       "    </tr>\n",
       "    <tr>\n",
       "      <th>2022-05</th>\n",
       "      <td>3264.6130</td>\n",
       "    </tr>\n",
       "    <tr>\n",
       "      <th>2022-06</th>\n",
       "      <td>3266.9462</td>\n",
       "    </tr>\n",
       "    <tr>\n",
       "      <th>2022-07</th>\n",
       "      <td>3530.9897</td>\n",
       "    </tr>\n",
       "    <tr>\n",
       "      <th>2022-08</th>\n",
       "      <td>3603.7263</td>\n",
       "    </tr>\n",
       "    <tr>\n",
       "      <th>2022-09</th>\n",
       "      <td>3418.9547</td>\n",
       "    </tr>\n",
       "    <tr>\n",
       "      <th>2022-10</th>\n",
       "      <td>3668.7330</td>\n",
       "    </tr>\n",
       "    <tr>\n",
       "      <th>2022-11</th>\n",
       "      <td>3683.1867</td>\n",
       "    </tr>\n",
       "    <tr>\n",
       "      <th>2022-12</th>\n",
       "      <td>3677.0554</td>\n",
       "    </tr>\n",
       "    <tr>\n",
       "      <th>2023-01</th>\n",
       "      <td>3965.1612</td>\n",
       "    </tr>\n",
       "    <tr>\n",
       "      <th>2023-02</th>\n",
       "      <td>4037.9430</td>\n",
       "    </tr>\n",
       "    <tr>\n",
       "      <th>2023-03</th>\n",
       "      <td>3822.7982</td>\n",
       "    </tr>\n",
       "    <tr>\n",
       "      <th>2023-04</th>\n",
       "      <td>4093.7136</td>\n",
       "    </tr>\n",
       "    <tr>\n",
       "      <th>2023-05</th>\n",
       "      <td>4101.7605</td>\n",
       "    </tr>\n",
       "    <tr>\n",
       "      <th>2023-06</th>\n",
       "      <td>4087.1646</td>\n",
       "    </tr>\n",
       "    <tr>\n",
       "      <th>2023-07</th>\n",
       "      <td>4399.3328</td>\n",
       "    </tr>\n",
       "    <tr>\n",
       "      <th>2023-08</th>\n",
       "      <td>4472.1597</td>\n",
       "    </tr>\n",
       "    <tr>\n",
       "      <th>2023-09</th>\n",
       "      <td>4226.6416</td>\n",
       "    </tr>\n",
       "    <tr>\n",
       "      <th>2023-10</th>\n",
       "      <td>4518.6943</td>\n",
       "    </tr>\n",
       "    <tr>\n",
       "      <th>2023-11</th>\n",
       "      <td>4520.3343</td>\n",
       "    </tr>\n",
       "  </tbody>\n",
       "</table>\n",
       "</div>"
      ],
      "text/plain": [
       "            y_pred\n",
       "2021-12  2856.8370\n",
       "2022-01  3096.8182\n",
       "2022-02  3169.5096\n",
       "2022-03  3015.1113\n",
       "2022-04  3243.7524\n",
       "2022-05  3264.6130\n",
       "2022-06  3266.9462\n",
       "2022-07  3530.9897\n",
       "2022-08  3603.7263\n",
       "2022-09  3418.9547\n",
       "2022-10  3668.7330\n",
       "2022-11  3683.1867\n",
       "2022-12  3677.0554\n",
       "2023-01  3965.1612\n",
       "2023-02  4037.9430\n",
       "2023-03  3822.7982\n",
       "2023-04  4093.7136\n",
       "2023-05  4101.7605\n",
       "2023-06  4087.1646\n",
       "2023-07  4399.3328\n",
       "2023-08  4472.1597\n",
       "2023-09  4226.6416\n",
       "2023-10  4518.6943\n",
       "2023-11  4520.3343"
      ]
     },
     "execution_count": 14,
     "metadata": {},
     "output_type": "execute_result"
    }
   ],
   "source": [
    "# functional API\n",
    "final_best = finalize_model(best)\n",
    "predict_model(best, fh = 24)"
   ]
  }
 ],
 "metadata": {
  "kernelspec": {
   "display_name": ".venv",
   "language": "python",
   "name": "python3"
  },
  "language_info": {
   "codemirror_mode": {
    "name": "ipython",
    "version": 3
   },
   "file_extension": ".py",
   "mimetype": "text/x-python",
   "name": "python",
   "nbconvert_exporter": "python",
   "pygments_lexer": "ipython3",
   "version": "3.10.2"
  }
 },
 "nbformat": 4,
 "nbformat_minor": 2
}
